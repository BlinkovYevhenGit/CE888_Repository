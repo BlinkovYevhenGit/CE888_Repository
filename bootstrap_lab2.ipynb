{
  "nbformat": 4,
  "nbformat_minor": 0,
  "metadata": {
    "colab": {
      "name": "bootstrap_lab2",
      "provenance": [],
      "include_colab_link": true
    },
    "kernelspec": {
      "display_name": "Python 3",
      "language": "python",
      "name": "python3"
    },
    "language_info": {
      "codemirror_mode": {
        "name": "ipython",
        "version": 3
      },
      "file_extension": ".py",
      "mimetype": "text/x-python",
      "name": "python",
      "nbconvert_exporter": "python",
      "pygments_lexer": "ipython3",
      "version": "3.7.6"
    },
    "pycharm": {
      "stem_cell": {
        "cell_type": "raw",
        "metadata": {
          "collapsed": false
        },
        "source": []
      }
    }
  },
  "cells": [
    {
      "cell_type": "markdown",
      "metadata": {
        "id": "view-in-github",
        "colab_type": "text"
      },
      "source": [
        "<a href=\"https://colab.research.google.com/github/BlinkovYevhenGit/CE888_Repository/blob/main/bootstrap_lab2.ipynb\" target=\"_parent\"><img src=\"https://colab.research.google.com/assets/colab-badge.svg\" alt=\"Open In Colab\"/></a>"
      ]
    },
    {
      "cell_type": "markdown",
      "metadata": {
        "id": "nCi_99yMYIb1"
      },
      "source": [
        "In this notebook you'll create your own bootstrap function following the bootstrap algorithm (check the lecture notes!)"
      ]
    },
    {
      "cell_type": "code",
      "metadata": {
        "id": "LY5zujI2YC37",
        "pycharm": {
          "name": "#%%# Imports\n"
        }
      },
      "source": [
        "import matplotlib\n",
        "import pandas as pd\n",
        "import seaborn as sns\n",
        "import numpy as np\n",
        "\n"
      ],
      "execution_count": 232,
      "outputs": []
    },
    {
      "cell_type": "code",
      "metadata": {
        "id": "Eqkwj4SMY38t"
      },
      "source": [
        "# Load the data\n",
        "df = pd.read_csv('https://raw.githubusercontent.com/albanda/CE888/master/lab2%20-%20bootstrap/customers.csv')\n",
        "x = df.values.T[1]"
      ],
      "execution_count": 233,
      "outputs": []
    },
    {
      "cell_type": "code",
      "metadata": {
        "colab": {
          "base_uri": "https://localhost:8080/",
          "height": 468
        },
        "id": "wPUwNiwqP8RH",
        "outputId": "5c27a68f-e198-4e6f-b912-0f1975550fda"
      },
      "source": [
        "df"
      ],
      "execution_count": 234,
      "outputs": [
        {
          "output_type": "execute_result",
          "data": {
            "text/html": [
              "<div>\n",
              "<style scoped>\n",
              "    .dataframe tbody tr th:only-of-type {\n",
              "        vertical-align: middle;\n",
              "    }\n",
              "\n",
              "    .dataframe tbody tr th {\n",
              "        vertical-align: top;\n",
              "    }\n",
              "\n",
              "    .dataframe thead th {\n",
              "        text-align: right;\n",
              "    }\n",
              "</style>\n",
              "<table border=\"1\" class=\"dataframe\">\n",
              "  <thead>\n",
              "    <tr style=\"text-align: right;\">\n",
              "      <th></th>\n",
              "      <th>Day</th>\n",
              "      <th>Millons of pounds in sales</th>\n",
              "    </tr>\n",
              "  </thead>\n",
              "  <tbody>\n",
              "    <tr>\n",
              "      <th>0</th>\n",
              "      <td>1</td>\n",
              "      <td>2.0</td>\n",
              "    </tr>\n",
              "    <tr>\n",
              "      <th>1</th>\n",
              "      <td>2</td>\n",
              "      <td>8.0</td>\n",
              "    </tr>\n",
              "    <tr>\n",
              "      <th>2</th>\n",
              "      <td>3</td>\n",
              "      <td>20.0</td>\n",
              "    </tr>\n",
              "    <tr>\n",
              "      <th>3</th>\n",
              "      <td>4</td>\n",
              "      <td>13.0</td>\n",
              "    </tr>\n",
              "    <tr>\n",
              "      <th>4</th>\n",
              "      <td>5</td>\n",
              "      <td>5.0</td>\n",
              "    </tr>\n",
              "    <tr>\n",
              "      <th>5</th>\n",
              "      <td>6</td>\n",
              "      <td>9.0</td>\n",
              "    </tr>\n",
              "    <tr>\n",
              "      <th>6</th>\n",
              "      <td>7</td>\n",
              "      <td>10.0</td>\n",
              "    </tr>\n",
              "    <tr>\n",
              "      <th>7</th>\n",
              "      <td>8</td>\n",
              "      <td>8.0</td>\n",
              "    </tr>\n",
              "    <tr>\n",
              "      <th>8</th>\n",
              "      <td>9</td>\n",
              "      <td>22.0</td>\n",
              "    </tr>\n",
              "    <tr>\n",
              "      <th>9</th>\n",
              "      <td>10</td>\n",
              "      <td>10.0</td>\n",
              "    </tr>\n",
              "    <tr>\n",
              "      <th>10</th>\n",
              "      <td>11</td>\n",
              "      <td>2.0</td>\n",
              "    </tr>\n",
              "    <tr>\n",
              "      <th>11</th>\n",
              "      <td>12</td>\n",
              "      <td>4.0</td>\n",
              "    </tr>\n",
              "    <tr>\n",
              "      <th>12</th>\n",
              "      <td>13</td>\n",
              "      <td>7.0</td>\n",
              "    </tr>\n",
              "    <tr>\n",
              "      <th>13</th>\n",
              "      <td>14</td>\n",
              "      <td>9.0</td>\n",
              "    </tr>\n",
              "  </tbody>\n",
              "</table>\n",
              "</div>"
            ],
            "text/plain": [
              "    Day   Millons of pounds in sales\n",
              "0     1                          2.0\n",
              "1     2                          8.0\n",
              "2     3                         20.0\n",
              "3     4                         13.0\n",
              "4     5                          5.0\n",
              "5     6                          9.0\n",
              "6     7                         10.0\n",
              "7     8                          8.0\n",
              "8     9                         22.0\n",
              "9    10                         10.0\n",
              "10   11                          2.0\n",
              "11   12                          4.0\n",
              "12   13                          7.0\n",
              "13   14                          9.0"
            ]
          },
          "metadata": {
            "tags": []
          },
          "execution_count": 234
        }
      ]
    },
    {
      "cell_type": "code",
      "metadata": {
        "colab": {
          "base_uri": "https://localhost:8080/"
        },
        "id": "1f2_uni-6D_i",
        "outputId": "c1498ddb-65d5-4f0d-d842-f2820423b242"
      },
      "source": [
        "len(x)"
      ],
      "execution_count": 33,
      "outputs": [
        {
          "output_type": "execute_result",
          "data": {
            "text/plain": [
              "14"
            ]
          },
          "metadata": {
            "tags": []
          },
          "execution_count": 33
        }
      ]
    },
    {
      "cell_type": "code",
      "metadata": {
        "id": "Gxvc_bScYC4H",
        "pycharm": {
          "name": "#%%\n"
        },
        "colab": {
          "base_uri": "https://localhost:8080/"
        },
        "outputId": "63e79c66-8cb0-4dd9-cc65-85ada5513e0a"
      },
      "source": [
        "n_bootstraps=100\n",
        "sample_size=10\n",
        "def make_bootstraps(x, n_bootstraps, sample_size):\n",
        "  bootstaps=[np.random.choice(x,sample_size) for i in range(0, n_bootstraps)]\n",
        "  return bootstaps\n",
        "\n",
        "\n",
        "\n",
        "# Checking the notes from the lecture, create here your own bootstrap function:\n",
        "# 1. Sample from the input array x to create an array of samples of shape (n_bootstraps, sample_size)\n",
        "# Hint: Check the function random.choice() on Numpy\n",
        "# 2. Calculate and save the mean of the array (this is \"data_mean\" that is returned by the function)\n",
        "# 3. Calculate the mean from each bootstrap (i.e., row) and store it.\n",
        "# (This should be an array of n_bootstraps values)\n",
        "# 4. Calculate the lower and upper bounds for a 95% CI (hint: check the percentile function on Numpy)\n",
        "# 5. Return data_mean, and the lower and upper bounds of your interval\n",
        "\n",
        "def bootstrap_mean(x, sample_size, n_bootstraps):\n",
        "  confidence_level=0.95\n",
        "  bootstraps = make_bootstraps(x, n_bootstraps, sample_size)\n",
        "  means=[np.mean(b) for b in bootstraps]\n",
        "  data_mean = np.mean(means)\n",
        "\n",
        "  # print(means)\n",
        "  lower_bound_value=(1-confidence_level)/2\n",
        "  upper_bound_value=1-lower_bound_value\n",
        "  # print(lower_bound_value)\n",
        "  # print(upper_bound_value)\n",
        "  lower=np.percentile(means, lower_bound_value*100)\n",
        "  upper=np.percentile(means, upper_bound_value*100)\n",
        "\n",
        "  return data_mean, lower, upper\n",
        "\n",
        "data_mean, lower, upper=bootstrap_mean(x, sample_size, n_bootstraps)\n",
        "print(\"Data mean\", data_mean)\n",
        "print(\"Lower bound\", lower)\n",
        "print(\"Upper bound\", upper)"
      ],
      "execution_count": 34,
      "outputs": [
        {
          "output_type": "stream",
          "text": [
            "Data mean 9.028\n",
            "Lower bound 5.595000000000001\n",
            "Upper bound 12.3525\n"
          ],
          "name": "stdout"
        }
      ]
    },
    {
      "cell_type": "code",
      "metadata": {
        "id": "AN7sEOcMYC4P",
        "pycharm": {
          "name": "#%%\n"
        },
        "colab": {
          "base_uri": "https://localhost:8080/",
          "height": 457
        },
        "outputId": "f77a0328-a23a-4387-f650-21809181d6e5"
      },
      "source": [
        "# Call your bootstrap function and plot the results\n",
        "\n",
        "boots = []\n",
        "for i in range(100, 50000, 400):\n",
        "    boot = bootstrap_mean(data, data.shape[0], i)\n",
        "    boots.append([i, boot[0], \"mean\"])\n",
        "    boots.append([i, boot[1], \"lower\"])\n",
        "    boots.append([i, boot[2], \"upper\"])\n",
        "\n",
        "df_boot = pd.DataFrame(boots, columns=['Bootstrap Iterations', 'Mean', \"Value\"])\n",
        "sns_plot = sns.lmplot(df_boot.columns[0], df_boot.columns[1], data=df_boot, fit_reg=False, hue=\"Value\")\n",
        "\n",
        "sns_plot.axes[0, 0].set_ylim(0,)\n",
        "sns_plot.axes[0, 0].set_xlim(0, 51000)\n"
      ],
      "execution_count": 193,
      "outputs": [
        {
          "output_type": "stream",
          "text": [
            "/usr/local/lib/python3.6/dist-packages/seaborn/_decorators.py:43: FutureWarning: Pass the following variables as keyword args: x, y. From version 0.12, the only valid positional argument will be `data`, and passing other arguments without an explicit keyword will result in an error or misinterpretation.\n",
            "  FutureWarning\n"
          ],
          "name": "stderr"
        },
        {
          "output_type": "execute_result",
          "data": {
            "text/plain": [
              "(0.0, 51000.0)"
            ]
          },
          "metadata": {
            "tags": []
          },
          "execution_count": 193
        },
        {
          "output_type": "display_data",
          "data": {
            "image/png": "[encoded data removed]",
            "text/plain": [
              "<Figure size 425.125x360 with 1 Axes>"
            ]
          },
          "metadata": {
            "tags": [],
            "needs_background": "light"
          }
        }
      ]
    },
    {
      "cell_type": "markdown",
      "metadata": {
        "id": "MjtP4e2_YC4V"
      },
      "source": [
        "\n",
        "Now, modify the bootstrap function you created above so that you can pass your desired confidence interval as a parameter.\n",
        "\n"
      ]
    },
    {
      "cell_type": "code",
      "metadata": {
        "id": "3K9j0FuGYhHs"
      },
      "source": [
        "def bootstrap_mean_ci(sample, sample_size, n_bootstraps, ci):\n",
        "  bootstraps = make_bootstraps(sample, n_bootstraps, sample_size)\n",
        "  means=[np.mean(b) for b in bootstraps]\n",
        "  data_mean = np.mean(means)\n",
        "\n",
        "  # print(means)\n",
        "  lower_bound_value=(100-ci)/2\n",
        "  upper_bound_value=100-lower_bound_value\n",
        "  # print(lower_bound_value)\n",
        "  # print(upper_bound_value)\n",
        "  lower=np.percentile(means, lower_bound_value)\n",
        "  upper=np.percentile(means, upper_bound_value)\n",
        "\n",
        "  return data_mean, lower, upper"
      ],
      "execution_count": 191,
      "outputs": []
    },
    {
      "cell_type": "code",
      "metadata": {
        "colab": {
          "base_uri": "https://localhost:8080/"
        },
        "id": "xmjbAkiJPHyj",
        "outputId": "7563a966-531a-4782-cd88-93c5d2c9ded3"
      },
      "source": [
        "x"
      ],
      "execution_count": 229,
      "outputs": [
        {
          "output_type": "execute_result",
          "data": {
            "text/plain": [
              "array([ 2.,  8., 20., 13.,  5.,  9., 10.,  8., 22., 10.,  2.,  4.,  7.,\n",
              "        9.])"
            ]
          },
          "metadata": {
            "tags": []
          },
          "execution_count": 229
        }
      ]
    },
    {
      "cell_type": "code",
      "metadata": {
        "colab": {
          "base_uri": "https://localhost:8080/"
        },
        "id": "K8ex4pw1OlOd",
        "outputId": "e02026a1-6c29-4bcd-f00e-828d8d5b7f95"
      },
      "source": [
        "\r\n",
        "data_mean, lower, upper=bootstrap_mean_ci(x, len(x), 10000  , 95)\r\n",
        "print(\"Data mean\", data_mean)\r\n",
        "print(\"Lower bound\", lower)\r\n",
        "print(\"Upper bound\", upper)"
      ],
      "execution_count": 242,
      "outputs": [
        {
          "output_type": "stream",
          "text": [
            "Data mean 9.245\n",
            "Lower bound 6.5\n",
            "Upper bound 12.428571428571429\n"
          ],
          "name": "stdout"
        }
      ]
    },
    {
      "cell_type": "code",
      "metadata": {
        "id": "uDnjq08GYl-C",
        "colab": {
          "base_uri": "https://localhost:8080/",
          "height": 457
        },
        "outputId": "6c3c899d-fb4b-4ac7-d8bd-7dd91a58f12a"
      },
      "source": [
        "boots = []\n",
        "for i in range(100, 50000, 1000):\n",
        "    boot = bootstrap_mean_ci(data, data.shape[0], i, 80)\n",
        "    boots.append([i, boot[0], \"mean\"])\n",
        "    boots.append([i, boot[1], \"lower\"])\n",
        "    boots.append([i, boot[2], \"upper\"])\n",
        "\n",
        "df_boot = pd.DataFrame(boots, columns=['Boostrap Iterations', 'Mean', \"Value\"])\n",
        "sns_plot = sns.lmplot(df_boot.columns[0], df_boot.columns[1], data=df_boot, fit_reg=False, hue=\"Value\")\n",
        "\n",
        "sns_plot.axes[0, 0].set_ylim(0,)\n",
        "sns_plot.axes[0, 0].set_xlim(0, 100000)\n",
        "\n",
        "#sns_plot.savefig(\"bootstrap_confidence_80.pdf\", bbox_inches='tight')\n"
      ],
      "execution_count": 192,
      "outputs": [
        {
          "output_type": "stream",
          "text": [
            "/usr/local/lib/python3.6/dist-packages/seaborn/_decorators.py:43: FutureWarning: Pass the following variables as keyword args: x, y. From version 0.12, the only valid positional argument will be `data`, and passing other arguments without an explicit keyword will result in an error or misinterpretation.\n",
            "  FutureWarning\n"
          ],
          "name": "stderr"
        },
        {
          "output_type": "execute_result",
          "data": {
            "text/plain": [
              "(0.0, 100000.0)"
            ]
          },
          "metadata": {
            "tags": []
          },
          "execution_count": 192
        },
        {
          "output_type": "display_data",
          "data": {
            "image/png": "[encoded data removed]",
            "text/plain": [
              "<Figure size 425.125x360 with 1 Axes>"
            ]
          },
          "metadata": {
            "tags": [],
            "needs_background": "light"
          }
        }
      ]
    },
    {
      "cell_type": "markdown",
      "metadata": {
        "id": "qjNgXW6wdd7r"
      },
      "source": [
        "# Vehicles dataset\n",
        "\n",
        "Now let's work on a different dataset, which is stored in the vehicles.csv file.\n"
      ]
    },
    {
      "cell_type": "code",
      "metadata": {
        "id": "avWv4ipFdpka"
      },
      "source": [
        "# Load and visualise the vehicles dataset\n",
        "# To load the dataset: https://neptune.ai/blog/google-colab-dealing-with-files (check section \"Load individual files directly from GitHub\")\n",
        "\n",
        "df = pd.read_csv('https://raw.githubusercontent.com/albanda/CE888/master/lab2%20-%20bootstrap/vehicles.csv')\n",
        "\n",
        "# Note that the current and new fleets are in different columns and have different lengths, so bear this in mind when you're plotting.\n",
        "# You can create separate scatterplots for the two fleets, as you would with the histograms, \n",
        "# or plot them both in one plot (but not one against the other).\n",
        "# <---INSERT YOUR CODE HERE--->\n",
        "# Note: you can add more cells as needed to organise your code and your plots\n"
      ],
      "execution_count": 92,
      "outputs": []
    },
    {
      "cell_type": "code",
      "metadata": {
        "id": "LLt-NAlbNZgs"
      },
      "source": [
        "df[\"Index\"]=np.arange(0,len(df))"
      ],
      "execution_count": 93,
      "outputs": []
    },
    {
      "cell_type": "code",
      "metadata": {
        "colab": {
          "base_uri": "https://localhost:8080/",
          "height": 407
        },
        "id": "hZKv-qdmObc9",
        "outputId": "efab7629-74b8-40f7-970f-d98c9ab7b43a"
      },
      "source": [
        "df"
      ],
      "execution_count": 94,
      "outputs": [
        {
          "output_type": "execute_result",
          "data": {
            "text/html": [
              "<div>\n",
              "<style scoped>\n",
              "    .dataframe tbody tr th:only-of-type {\n",
              "        vertical-align: middle;\n",
              "    }\n",
              "\n",
              "    .dataframe tbody tr th {\n",
              "        vertical-align: top;\n",
              "    }\n",
              "\n",
              "    .dataframe thead th {\n",
              "        text-align: right;\n",
              "    }\n",
              "</style>\n",
              "<table border=\"1\" class=\"dataframe\">\n",
              "  <thead>\n",
              "    <tr style=\"text-align: right;\">\n",
              "      <th></th>\n",
              "      <th>Current fleet</th>\n",
              "      <th>New Fleet</th>\n",
              "      <th>Index</th>\n",
              "    </tr>\n",
              "  </thead>\n",
              "  <tbody>\n",
              "    <tr>\n",
              "      <th>0</th>\n",
              "      <td>18</td>\n",
              "      <td>24.0</td>\n",
              "      <td>0</td>\n",
              "    </tr>\n",
              "    <tr>\n",
              "      <th>1</th>\n",
              "      <td>15</td>\n",
              "      <td>27.0</td>\n",
              "      <td>1</td>\n",
              "    </tr>\n",
              "    <tr>\n",
              "      <th>2</th>\n",
              "      <td>18</td>\n",
              "      <td>27.0</td>\n",
              "      <td>2</td>\n",
              "    </tr>\n",
              "    <tr>\n",
              "      <th>3</th>\n",
              "      <td>16</td>\n",
              "      <td>25.0</td>\n",
              "      <td>3</td>\n",
              "    </tr>\n",
              "    <tr>\n",
              "      <th>4</th>\n",
              "      <td>17</td>\n",
              "      <td>31.0</td>\n",
              "      <td>4</td>\n",
              "    </tr>\n",
              "    <tr>\n",
              "      <th>...</th>\n",
              "      <td>...</td>\n",
              "      <td>...</td>\n",
              "      <td>...</td>\n",
              "    </tr>\n",
              "    <tr>\n",
              "      <th>244</th>\n",
              "      <td>27</td>\n",
              "      <td>NaN</td>\n",
              "      <td>244</td>\n",
              "    </tr>\n",
              "    <tr>\n",
              "      <th>245</th>\n",
              "      <td>27</td>\n",
              "      <td>NaN</td>\n",
              "      <td>245</td>\n",
              "    </tr>\n",
              "    <tr>\n",
              "      <th>246</th>\n",
              "      <td>32</td>\n",
              "      <td>NaN</td>\n",
              "      <td>246</td>\n",
              "    </tr>\n",
              "    <tr>\n",
              "      <th>247</th>\n",
              "      <td>28</td>\n",
              "      <td>NaN</td>\n",
              "      <td>247</td>\n",
              "    </tr>\n",
              "    <tr>\n",
              "      <th>248</th>\n",
              "      <td>31</td>\n",
              "      <td>NaN</td>\n",
              "      <td>248</td>\n",
              "    </tr>\n",
              "  </tbody>\n",
              "</table>\n",
              "<p>249 rows × 3 columns</p>\n",
              "</div>"
            ],
            "text/plain": [
              "     Current fleet  New Fleet  Index\n",
              "0               18       24.0      0\n",
              "1               15       27.0      1\n",
              "2               18       27.0      2\n",
              "3               16       25.0      3\n",
              "4               17       31.0      4\n",
              "..             ...        ...    ...\n",
              "244             27        NaN    244\n",
              "245             27        NaN    245\n",
              "246             32        NaN    246\n",
              "247             28        NaN    247\n",
              "248             31        NaN    248\n",
              "\n",
              "[249 rows x 3 columns]"
            ]
          },
          "metadata": {
            "tags": []
          },
          "execution_count": 94
        }
      ]
    },
    {
      "cell_type": "code",
      "metadata": {
        "colab": {
          "base_uri": "https://localhost:8080/",
          "height": 297
        },
        "id": "_FV6IiiRR903",
        "outputId": "91f42e09-4877-4e71-cd57-5932ff80dda2"
      },
      "source": [
        "ax1 = df.plot.scatter(y=\"Index\", x=\"Current fleet\", color='r', label=\"Current fleet\")\r\n",
        "ax2 = df.plot.scatter(y=\"Index\", x=\"New Fleet\", ax=ax1, color='b', label=\"New Fleet\")\r\n",
        "ax2.set_xlabel(\"Fleet score\")"
      ],
      "execution_count": 97,
      "outputs": [
        {
          "output_type": "execute_result",
          "data": {
            "text/plain": [
              "Text(0.5, 0, 'Fleet score')"
            ]
          },
          "metadata": {
            "tags": []
          },
          "execution_count": 97
        },
        {
          "output_type": "display_data",
          "data": {
            "image/png": "[encoded data removed]",
            "text/plain": [
              "<Figure size 432x288 with 1 Axes>"
            ]
          },
          "metadata": {
            "tags": [],
            "needs_background": "light"
          }
        }
      ]
    },
    {
      "cell_type": "markdown",
      "metadata": {
        "id": "B5d0tXDpIEj8"
      },
      "source": [
        "## Compare the two fleets\r\n",
        "\r\n",
        "The business analysts come up a comparison algorithm that requires the upper and lower bounds for the mean in order to say which fleet is better.\r\n",
        "1. Calculate the mean of both samples.\r\n",
        "2. Using the bootstrap function that you created:\r\n",
        "    - Construct the 95% CI of the mean of the current fleet.\r\n",
        "    - Construct the 95% CI of the mean of the new fleet.\r\n",
        "    - Are they comparable? (i.e., is one better than the other?) -- you can do this with a permutation test (check the lecture notes!)"
      ]
    },
    {
      "cell_type": "code",
      "metadata": {
        "id": "po4mp6zRHC0m",
        "colab": {
          "base_uri": "https://localhost:8080/"
        },
        "outputId": "31df4506-17e3-4259-9e47-cf079316f39f"
      },
      "source": [
        "current_fleet=df[\"Current fleet\"].values\n",
        "print(np.mean(current_fleet))\n",
        "new_fleet_trunc=[item for item in df[\"New Fleet\"].values if not np.isnan(item)]\n",
        "print(np.nanmean(new_fleet_trunc))"
      ],
      "execution_count": 194,
      "outputs": [
        {
          "output_type": "stream",
          "text": [
            "20.14457831325301\n",
            "30.481012658227847\n"
          ],
          "name": "stdout"
        }
      ]
    },
    {
      "cell_type": "code",
      "metadata": {
        "colab": {
          "base_uri": "https://localhost:8080/"
        },
        "id": "Hf1v1nt6YxXs",
        "outputId": "aed3c0d2-41c6-484c-daf1-3e748723f067"
      },
      "source": [
        "new_fleet_trunc"
      ],
      "execution_count": 195,
      "outputs": [
        {
          "output_type": "execute_result",
          "data": {
            "text/plain": [
              "[24.0,\n",
              " 27.0,\n",
              " 27.0,\n",
              " 25.0,\n",
              " 31.0,\n",
              " 35.0,\n",
              " 24.0,\n",
              " 19.0,\n",
              " 28.0,\n",
              " 23.0,\n",
              " 27.0,\n",
              " 20.0,\n",
              " 22.0,\n",
              " 18.0,\n",
              " 20.0,\n",
              " 31.0,\n",
              " 32.0,\n",
              " 31.0,\n",
              " 32.0,\n",
              " 24.0,\n",
              " 26.0,\n",
              " 29.0,\n",
              " 24.0,\n",
              " 24.0,\n",
              " 33.0,\n",
              " 33.0,\n",
              " 32.0,\n",
              " 28.0,\n",
              " 19.0,\n",
              " 32.0,\n",
              " 34.0,\n",
              " 26.0,\n",
              " 30.0,\n",
              " 22.0,\n",
              " 22.0,\n",
              " 33.0,\n",
              " 39.0,\n",
              " 36.0,\n",
              " 28.0,\n",
              " 27.0,\n",
              " 21.0,\n",
              " 24.0,\n",
              " 30.0,\n",
              " 34.0,\n",
              " 32.0,\n",
              " 38.0,\n",
              " 37.0,\n",
              " 30.0,\n",
              " 31.0,\n",
              " 37.0,\n",
              " 32.0,\n",
              " 47.0,\n",
              " 41.0,\n",
              " 45.0,\n",
              " 34.0,\n",
              " 33.0,\n",
              " 24.0,\n",
              " 32.0,\n",
              " 39.0,\n",
              " 35.0,\n",
              " 32.0,\n",
              " 37.0,\n",
              " 38.0,\n",
              " 34.0,\n",
              " 34.0,\n",
              " 32.0,\n",
              " 33.0,\n",
              " 32.0,\n",
              " 25.0,\n",
              " 24.0,\n",
              " 37.0,\n",
              " 31.0,\n",
              " 36.0,\n",
              " 36.0,\n",
              " 34.0,\n",
              " 38.0,\n",
              " 32.0,\n",
              " 38.0,\n",
              " 32.0]"
            ]
          },
          "metadata": {
            "tags": []
          },
          "execution_count": 195
        }
      ]
    },
    {
      "cell_type": "code",
      "metadata": {
        "colab": {
          "base_uri": "https://localhost:8080/"
        },
        "id": "0PC1KB5mZzkn",
        "outputId": "1c8ce276-ec3f-4384-fe2c-ffce9bfbd4c0"
      },
      "source": [
        "boot = bootstrap_mean_ci(current_fleet, len(current_fleet), 10000  , 92)\r\n",
        "print(\"Data mean\", boot[0])\r\n",
        "print(\"Lower bound\", boot[1])\r\n",
        "print(\"Upper bound\", boot[2])\r\n",
        "print()\r\n",
        "boot = bootstrap_mean_ci(new_fleet_trunc, len(new_fleet_trunc), 10000, 95)\r\n",
        "print(\"Data mean\", boot[0])\r\n",
        "print(\"Lower bound\", boot[1])\r\n",
        "print(\"Upper bound\", boot[2])"
      ],
      "execution_count": 241,
      "outputs": [
        {
          "output_type": "stream",
          "text": [
            "Data mean 20.146818473895582\n",
            "Lower bound 19.429718875502008\n",
            "Upper bound 20.867469879518072\n",
            "\n",
            "Data mean 30.48045316455696\n",
            "Lower bound 29.11392405063291\n",
            "Upper bound 31.835443037974684\n"
          ],
          "name": "stdout"
        }
      ]
    },
    {
      "cell_type": "code",
      "metadata": {
        "colab": {
          "base_uri": "https://localhost:8080/"
        },
        "id": "nBUq8rObrlwr",
        "outputId": "c724c5fb-de50-47c3-8b20-2f933a0f263a"
      },
      "source": [
        "concat_samples=np.concatenate((new_fleet_trunc,current_fleet))\r\n",
        "concat_samples"
      ],
      "execution_count": 197,
      "outputs": [
        {
          "output_type": "execute_result",
          "data": {
            "text/plain": [
              "array([24., 27., 27., 25., 31., 35., 24., 19., 28., 23., 27., 20., 22.,\n",
              "       18., 20., 31., 32., 31., 32., 24., 26., 29., 24., 24., 33., 33.,\n",
              "       32., 28., 19., 32., 34., 26., 30., 22., 22., 33., 39., 36., 28.,\n",
              "       27., 21., 24., 30., 34., 32., 38., 37., 30., 31., 37., 32., 47.,\n",
              "       41., 45., 34., 33., 24., 32., 39., 35., 32., 37., 38., 34., 34.,\n",
              "       32., 33., 32., 25., 24., 37., 31., 36., 36., 34., 38., 32., 38.,\n",
              "       32., 18., 15., 18., 16., 17., 15., 14., 14., 14., 15., 15., 14.,\n",
              "       15., 14., 22., 18., 21., 21., 10., 10., 11.,  9., 28., 25., 19.,\n",
              "       16., 17., 19., 18., 14., 14., 14., 14., 12., 13., 13., 18., 22.,\n",
              "       19., 18., 23., 26., 25., 20., 21., 13., 14., 15., 14., 17., 11.,\n",
              "       13., 12., 13., 15., 13., 13., 14., 22., 28., 13., 14., 13., 14.,\n",
              "       15., 12., 13., 13., 14., 13., 12., 13., 18., 16., 18., 18., 23.,\n",
              "       11., 12., 13., 12., 18., 21., 19., 21., 15., 16., 15., 11., 20.,\n",
              "       21., 19., 15., 26., 25., 16., 16., 18., 16., 13., 14., 14., 14.,\n",
              "       28., 19., 18., 15., 15., 16., 15., 16., 14., 17., 16., 15., 18.,\n",
              "       21., 20., 13., 23., 20., 23., 18., 19., 25., 26., 18., 16., 16.,\n",
              "       15., 22., 22., 24., 23., 29., 25., 20., 18., 19., 18., 27., 13.,\n",
              "       17., 13., 13., 13., 30., 26., 18., 17., 16., 15., 18., 21., 19.,\n",
              "       19., 16., 16., 16., 16., 25., 26., 31., 34., 36., 20., 19., 20.,\n",
              "       19., 21., 20., 25., 21., 19., 21., 21., 19., 18., 19., 18., 18.,\n",
              "       18., 30., 31., 23., 24., 22., 20., 22., 20., 21., 17., 18., 17.,\n",
              "       18., 17., 16., 19., 19., 36., 27., 23., 24., 34., 35., 28., 29.,\n",
              "       27., 34., 32., 28., 26., 24., 19., 28., 24., 27., 27., 26., 24.,\n",
              "       30., 39., 35., 34., 30., 22., 27., 20., 18., 28., 27., 34., 31.,\n",
              "       29., 27., 24., 23., 38., 36., 25., 38., 26., 22., 36., 27., 27.,\n",
              "       32., 28., 31.])"
            ]
          },
          "metadata": {
            "tags": []
          },
          "execution_count": 197
        }
      ]
    },
    {
      "cell_type": "code",
      "metadata": {
        "id": "8hPXtNJDskVs"
      },
      "source": [
        " permuted = np.random.permutation(concat_samples)\r\n",
        "\r\n",
        "perm_old_fleet=permuted[:len(current_fleet)]\r\n",
        "perm_new_fleet=permuted[len(current_fleet):]"
      ],
      "execution_count": 198,
      "outputs": []
    },
    {
      "cell_type": "code",
      "metadata": {
        "colab": {
          "base_uri": "https://localhost:8080/"
        },
        "id": "AheUxEH4s0Kk",
        "outputId": "dba0b6dc-73bb-4768-eed6-a9cb010c49f8"
      },
      "source": [
        "permuted"
      ],
      "execution_count": 199,
      "outputs": [
        {
          "output_type": "execute_result",
          "data": {
            "text/plain": [
              "array([31., 22., 19., 13., 33., 26., 32., 15., 13., 15., 27., 16., 32.,\n",
              "       19., 14., 29., 20., 15., 16., 24., 34., 15., 18., 36., 19., 16.,\n",
              "       14., 38., 20., 27., 20., 20., 11., 18., 16., 26., 24., 13., 27.,\n",
              "       22., 30., 25., 26., 26., 25., 31., 33., 24., 36., 26., 19., 33.,\n",
              "       13., 28., 27., 18., 25., 14., 28., 14., 22., 16., 14., 34., 30.,\n",
              "       14., 15., 15., 23., 26., 15., 13., 24., 32., 24., 19., 22., 27.,\n",
              "       35., 27., 18., 32., 24., 16., 24., 34., 17., 14., 28., 39., 36.,\n",
              "       18., 16., 18., 33., 18., 22., 23., 23., 30., 18., 20., 36., 22.,\n",
              "       18., 19., 23., 28., 36., 21., 24., 25., 32., 19., 19., 13., 16.,\n",
              "       15., 16., 38., 18., 20., 27., 17., 14., 13., 14., 19., 22., 16.,\n",
              "       23., 37., 19., 31., 19., 16., 20., 32., 13., 18., 20., 22., 18.,\n",
              "       31., 18., 17., 26., 28., 35., 35., 22., 25., 19., 24., 17., 21.,\n",
              "       16., 19., 13., 25., 18., 18., 34., 37., 22., 16., 28., 13., 24.,\n",
              "       18., 15., 34., 20., 29., 17., 32., 18., 21., 18., 18., 27., 32.,\n",
              "       23.,  9., 32., 24., 18., 19., 27., 27., 38., 28., 30., 13., 34.,\n",
              "       18., 21., 14., 12., 24., 28., 29., 16., 31., 17., 14., 11., 31.,\n",
              "       19., 20., 18., 31., 16., 10., 32., 13., 14., 14., 39., 24., 38.,\n",
              "       31., 17., 13., 27., 12., 23., 13., 16., 34., 33., 12., 14., 34.,\n",
              "       26., 25., 15., 21., 35., 21., 19., 39., 13., 34., 36., 14., 34.,\n",
              "       11., 34., 21., 15., 22., 19., 28., 41., 28., 20., 23., 28., 24.,\n",
              "       18., 36., 14., 21., 13., 15., 25., 12., 18., 21., 13., 15., 27.,\n",
              "       20., 18., 14., 21., 29., 25., 25., 21., 37., 27., 18., 22., 26.,\n",
              "       12., 16., 45., 21., 47., 19., 32., 23., 30., 10., 13., 19., 13.,\n",
              "       32., 15., 20., 17., 21., 32., 17., 38., 30., 15., 38., 18., 14.,\n",
              "       32., 26., 30., 31., 37., 27., 21., 12., 15., 15., 13., 19., 14.,\n",
              "       24., 16., 11.])"
            ]
          },
          "metadata": {
            "tags": []
          },
          "execution_count": 199
        }
      ]
    },
    {
      "cell_type": "code",
      "metadata": {
        "colab": {
          "base_uri": "https://localhost:8080/"
        },
        "id": "mNwN60DNs4an",
        "outputId": "933a67b0-d18c-4c84-89d8-5c42b64799c8"
      },
      "source": [
        "perm_new_fleet"
      ],
      "execution_count": 200,
      "outputs": [
        {
          "output_type": "execute_result",
          "data": {
            "text/plain": [
              "array([21., 15., 22., 19., 28., 41., 28., 20., 23., 28., 24., 18., 36.,\n",
              "       14., 21., 13., 15., 25., 12., 18., 21., 13., 15., 27., 20., 18.,\n",
              "       14., 21., 29., 25., 25., 21., 37., 27., 18., 22., 26., 12., 16.,\n",
              "       45., 21., 47., 19., 32., 23., 30., 10., 13., 19., 13., 32., 15.,\n",
              "       20., 17., 21., 32., 17., 38., 30., 15., 38., 18., 14., 32., 26.,\n",
              "       30., 31., 37., 27., 21., 12., 15., 15., 13., 19., 14., 24., 16.,\n",
              "       11.])"
            ]
          },
          "metadata": {
            "tags": []
          },
          "execution_count": 200
        }
      ]
    },
    {
      "cell_type": "code",
      "metadata": {
        "colab": {
          "base_uri": "https://localhost:8080/"
        },
        "id": "Aeer8Jhy3xiU",
        "outputId": "f9edf200-7f39-4bce-fff1-c1a5e73efc2e"
      },
      "source": [
        "perm_old_fleet"
      ],
      "execution_count": 201,
      "outputs": [
        {
          "output_type": "execute_result",
          "data": {
            "text/plain": [
              "array([31., 22., 19., 13., 33., 26., 32., 15., 13., 15., 27., 16., 32.,\n",
              "       19., 14., 29., 20., 15., 16., 24., 34., 15., 18., 36., 19., 16.,\n",
              "       14., 38., 20., 27., 20., 20., 11., 18., 16., 26., 24., 13., 27.,\n",
              "       22., 30., 25., 26., 26., 25., 31., 33., 24., 36., 26., 19., 33.,\n",
              "       13., 28., 27., 18., 25., 14., 28., 14., 22., 16., 14., 34., 30.,\n",
              "       14., 15., 15., 23., 26., 15., 13., 24., 32., 24., 19., 22., 27.,\n",
              "       35., 27., 18., 32., 24., 16., 24., 34., 17., 14., 28., 39., 36.,\n",
              "       18., 16., 18., 33., 18., 22., 23., 23., 30., 18., 20., 36., 22.,\n",
              "       18., 19., 23., 28., 36., 21., 24., 25., 32., 19., 19., 13., 16.,\n",
              "       15., 16., 38., 18., 20., 27., 17., 14., 13., 14., 19., 22., 16.,\n",
              "       23., 37., 19., 31., 19., 16., 20., 32., 13., 18., 20., 22., 18.,\n",
              "       31., 18., 17., 26., 28., 35., 35., 22., 25., 19., 24., 17., 21.,\n",
              "       16., 19., 13., 25., 18., 18., 34., 37., 22., 16., 28., 13., 24.,\n",
              "       18., 15., 34., 20., 29., 17., 32., 18., 21., 18., 18., 27., 32.,\n",
              "       23.,  9., 32., 24., 18., 19., 27., 27., 38., 28., 30., 13., 34.,\n",
              "       18., 21., 14., 12., 24., 28., 29., 16., 31., 17., 14., 11., 31.,\n",
              "       19., 20., 18., 31., 16., 10., 32., 13., 14., 14., 39., 24., 38.,\n",
              "       31., 17., 13., 27., 12., 23., 13., 16., 34., 33., 12., 14., 34.,\n",
              "       26., 25., 15., 21., 35., 21., 19., 39., 13., 34., 36., 14., 34.,\n",
              "       11., 34.])"
            ]
          },
          "metadata": {
            "tags": []
          },
          "execution_count": 201
        }
      ]
    },
    {
      "cell_type": "code",
      "metadata": {
        "id": "MkxvDZG4HC0n",
        "colab": {
          "base_uri": "https://localhost:8080/",
          "height": 92
        },
        "outputId": "8ff817fa-af90-46bf-eefd-f23d68b43077"
      },
      "source": [
        "# Create your own function for a permutation test here (you will need it for the lab quiz!):\n",
        "def permut_test(sample1, sample2, n_permutations, initial_diff):\n",
        "  concat_samples=np.concatenate((sample1,sample2))\n",
        "  diffs=[]\n",
        "  for i in range(0,n_permutations):\n",
        "    permuted = np.random.permutation(concat_samples)\n",
        "\n",
        "    perm_old_fleet=permuted[:len(sample1)]\n",
        "    perm_new_fleet=permuted[len(sample1):]\n",
        "    difference=np.mean(perm_new_fleet)-np.mean(perm_old_fleet)\n",
        "    diffs.append(difference)\n",
        "  print(diffs[:100])\n",
        "  pvalue=0\n",
        "  minus=0\n",
        "  for diff in diffs: \n",
        "    if diff>initial_diff:\n",
        "      pvalue+=1\n",
        "      minus+=1\n",
        "  pvalue=float(pvalue)/len(diffs)\n",
        "  print(minus)\n",
        "  \"\"\"\n",
        "  sample1: 1D array\n",
        "  sample2: 1D array (note that the size of the two arrays can be different)\n",
        "  n_permutations: number of permutations to calculate the p-value\n",
        "  \"\"\"\n",
        "  return f\"{pvalue:.9f}\"\n",
        "  \n",
        "initial_diff=np.mean(new_fleet_trunc)-np.mean(current_fleet)\n",
        "permut_test(current_fleet, new_fleet_trunc, 30000, initial_diff)"
      ],
      "execution_count": 217,
      "outputs": [
        {
          "output_type": "stream",
          "text": [
            "[-0.9020385338823651, 0.3151847897920774, 1.6324538660973005, 1.332316608204973, -0.4351583549387392, 1.332316608204973, -0.95206141019775, -0.5852269838849082, -0.23506684967719238, -0.1350210970464154, -0.7686441970413291, 0.215139037161304, -0.11834680494128236, 0.048396116110009046, 0.9988307661023832, -0.9020385338823651, -1.135478623354178, -0.018301052310505384, -0.4351583549387392, 0.215139037161304, -1.085455747038786, -1.052107162828527, -1.152152915459304, 0.7153678003151853, 1.1155508108382897, 1.1989222713639371, -0.3851354786233543, 0.3151847897920774, -1.9358446444003867, 1.2489451476793256, 1.2489451476793256, 2.0326368766204084, -1.3022215444054694, 0.8654364292613472, 0.09841899242539753, 0.09841899242539753, -0.6185755680951672, -2.019216104926034, -0.0016267602053794405, -1.035432870723401, 0.5486248792638904, -0.2017182654669334, 0.9488078897869947, -0.3517868944130953, -1.7024045549285738, 1.2155965634690666, -1.28554725230034, -0.3684611865182248, 1.549082405571653, -0.5685526917797752, 0.048396116110009046, -0.30176401809771036, 1.9659397081998904, 0.3318590818972105, 1.682476742412689, -0.3351126023079658, 1.682476742412689, 0.06507040821513854, -1.6690559707183148, 1.332316608204973, -0.8186670733567212, 0.08174470032026804, 0.4986020029485019, -1.4689644654567644, 0.5319505871587609, -0.06832392862589742, 0.28183620558181843, -0.10167251283615641, -0.6019012759900342, -0.3184383102028363, -0.6852727365156852, -1.152152915459304, -0.03497534441563843, -0.6519241523054262, -0.45183264704387227, -0.018301052310505384, -0.6185755680951672, 1.1655736871536782, -1.052107162828527, 0.7987392608408328, 1.549082405571653, -0.8019927812515881, -0.2517411417823183, 1.8658939555691134, -1.485638757561894, 0.08174470032026804, -0.0016267602053794405, 0.6820192161049263, -1.5690102180875378, -1.6523816786131889, -0.5685526917797752, -0.5518783996746492, 1.5991052818870415, -0.5018555233592572, 0.13176757663565652, -0.8686899496721061, 0.13176757663565652, -0.8186670733567212, -0.06832392862589742, 0.06507040821513854]\n",
            "0\n"
          ],
          "name": "stdout"
        },
        {
          "output_type": "execute_result",
          "data": {
            "application/vnd.google.colaboratory.intrinsic+json": {
              "type": "string"
            },
            "text/plain": [
              "'0.000000000'"
            ]
          },
          "metadata": {
            "tags": []
          },
          "execution_count": 217
        }
      ]
    },
    {
      "cell_type": "code",
      "metadata": {
        "colab": {
          "base_uri": "https://localhost:8080/"
        },
        "id": "tBJ12ubttdcN",
        "outputId": "a43bfb32-263c-4c3a-ee92-4444aafac92b"
      },
      "source": [
        "initial_diff=np.mean(new_fleet_trunc)-np.mean(current_fleet)\r\n",
        "initial_diff"
      ],
      "execution_count": 204,
      "outputs": [
        {
          "output_type": "execute_result",
          "data": {
            "text/plain": [
              "10.336434344974837"
            ]
          },
          "metadata": {
            "tags": []
          },
          "execution_count": 204
        }
      ]
    },
    {
      "cell_type": "code",
      "metadata": {
        "id": "smOp0Lx51lMW"
      },
      "source": [
        "def bootstrap_std_ci(sample, sample_size, n_bootstraps, ci):\r\n",
        "  bootstraps = make_bootstraps(sample, n_bootstraps, sample_size)\r\n",
        "  stds=[np.std(b) for b in bootstraps]\r\n",
        "  data_mean = np.mean(stds)\r\n",
        "\r\n",
        "  # print(means)\r\n",
        "  lower_bound_value=(100-ci)/2\r\n",
        "  upper_bound_value=100-lower_bound_value\r\n",
        "  # print(lower_bound_value)\r\n",
        "  # print(upper_bound_value)\r\n",
        "  lower=np.percentile(stds, lower_bound_value)\r\n",
        "  upper=np.percentile(stds, upper_bound_value)\r\n",
        "\r\n",
        "  return data_mean, lower, upper"
      ],
      "execution_count": 215,
      "outputs": []
    },
    {
      "cell_type": "code",
      "metadata": {
        "colab": {
          "base_uri": "https://localhost:8080/"
        },
        "id": "8gpdSmY52OEp",
        "outputId": "2918b15a-e07d-4540-ef3b-e526090c2bc8"
      },
      "source": [
        "boot = bootstrap_std_ci(current_fleet, len(current_fleet), 10000   , 95)\r\n",
        "print(\"Data mean\", boot[0])\r\n",
        "print(\"Lower bound\", boot[1])\r\n",
        "print(\"Upper bound\", boot[2])\r\n",
        "print()\r\n",
        "boot = bootstrap_std_ci(new_fleet_trunc, len(new_fleet_trunc), 10000  , 95)\r\n",
        "print(\"Data mean\", boot[0])\r\n",
        "print(\"Lower bound\", boot[1])\r\n",
        "print(\"Upper bound\", boot[2])"
      ],
      "execution_count": 243,
      "outputs": [
        {
          "output_type": "stream",
          "text": [
            "Data mean 6.38065478002775\n",
            "Lower bound 5.811475334171868\n",
            "Upper bound 6.95300411487543\n",
            "\n",
            "Data mean 6.02136844817019\n",
            "Lower bound 5.145283128379434\n",
            "Upper bound 6.939316818825163\n"
          ],
          "name": "stdout"
        }
      ]
    },
    {
      "cell_type": "code",
      "metadata": {
        "id": "AGxNc5P08o4_"
      },
      "source": [
        "dem_share_PA = [60.08, 40.64, 36.07, 41.21, 31.04, 43.78, 44.08, 46.85, 44.71, 46.15, 63.10, 52.20, 43.18, 40.24, 39.92, 47.87, 37.77, 40.11, 49.85, 48.61, 38.62, 54.25, 34.84, 47.75, 43.82, 55.97, 58.23, 42.97, 42.38, 36.11, 37.53, 42.65, 50.96, 47.43, 56.24, 45.60, 46.39, 35.22, 48.56, 32.97, 57.88, 36.05, 37.72, 50.36, 32.12, 41.55, 54.66, 57.81, 54.58, 32.88, 54.37, 40.45, 47.61, 60.49, 43.11, 27.32, 44.03, 33.56, 37.26, 54.64, 43.12, 25.34, 49.79, 83.56, 40.09, 60.81, 49.81]\r\n",
        "dem_share_OH = [56.94, 50.46, 65.99, 45.88, 42.23, 45.26, 57.01, 53.61, 59.10, 61.48, 43.43, 44.69, 54.59, 48.36, 45.89, 48.62, 43.92, 38.23, 28.79, 63.57, 38.07, 40.18, 43.05, 41.56, 42.49, 36.06, 52.76, 46.07, 39.43, 39.26, 47.47, 27.92, 38.01, 45.45, 29.07, 28.94, 51.28, 50.10, 39.84, 36.43, 35.71, 31.47, 47.01, 40.10, 48.76, 31.56, 39.86, 45.31, 35.47, 51.38, 46.33, 48.73, 41.77, 41.32, 48.46, 53.14, 34.01, 54.74, 40.67, 38.96, 46.29, 38.25, 6.80, 31.75, 46.33, 44.90, 33.57, 38.10, 39.67, 40.47, 49.44, 37.62, 36.71, 46.73, 42.20, 53.16, 52.40, 58.36, 68.02, 38.53, 34.58, 69.64, 60.50, 53.53, 36.54, 49.58, 41.97, 38.11]"
      ],
      "execution_count": 218,
      "outputs": []
    },
    {
      "cell_type": "code",
      "metadata": {
        "colab": {
          "base_uri": "https://localhost:8080/"
        },
        "id": "PS98_d3R8q1Z",
        "outputId": "f77daba3-1d4b-4d07-fe3e-73b6ce506389"
      },
      "source": [
        "len(dem_share_PA)"
      ],
      "execution_count": 219,
      "outputs": [
        {
          "output_type": "execute_result",
          "data": {
            "text/plain": [
              "67"
            ]
          },
          "metadata": {
            "tags": []
          },
          "execution_count": 219
        }
      ]
    },
    {
      "cell_type": "code",
      "metadata": {
        "colab": {
          "base_uri": "https://localhost:8080/"
        },
        "id": "KKBXzhwc8rTX",
        "outputId": "84d2d054-ba49-4eff-d942-a0211291d05e"
      },
      "source": [
        "len(dem_share_OH)"
      ],
      "execution_count": 220,
      "outputs": [
        {
          "output_type": "execute_result",
          "data": {
            "text/plain": [
              "88"
            ]
          },
          "metadata": {
            "tags": []
          },
          "execution_count": 220
        }
      ]
    },
    {
      "cell_type": "code",
      "metadata": {
        "colab": {
          "base_uri": "https://localhost:8080/"
        },
        "id": "yaNU9lbo8rWn",
        "outputId": "751fca8b-06b0-4501-b101-5e54b49293bd"
      },
      "source": [
        "boot = bootstrap_mean_ci(dem_share_PA, len(dem_share_PA), 25000   , 90)\r\n",
        "print(\"Data mean\", boot[0])\r\n",
        "print(\"Lower bound\", boot[1])\r\n",
        "print(\"Upper bound\", boot[2])\r\n",
        "print()\r\n",
        "boot = bootstrap_mean_ci(dem_share_OH, len(dem_share_OH), 25000   , 90)\r\n",
        "print(\"Data mean\", boot[0])\r\n",
        "print(\"Lower bound\", boot[1])\r\n",
        "print(\"Upper bound\", boot[2])"
      ],
      "execution_count": 244,
      "outputs": [
        {
          "output_type": "stream",
          "text": [
            "Data mean 45.48073729552238\n",
            "Lower bound 43.55132835820895\n",
            "Upper bound 47.45328358208955\n",
            "\n",
            "Data mean 44.31628115\n",
            "Lower bound 42.58598863636364\n",
            "Upper bound 46.03205681818182\n"
          ],
          "name": "stdout"
        }
      ]
    },
    {
      "cell_type": "code",
      "metadata": {
        "colab": {
          "base_uri": "https://localhost:8080/",
          "height": 92
        },
        "id": "DD7Gd2Lm8rZV",
        "outputId": "84c077f7-d58c-4132-b8a3-0f110231267c"
      },
      "source": [
        "initial_diff=np.mean(dem_share_PA)-np.mean(dem_share_OH)\r\n",
        "permut_test(dem_share_OH, dem_share_PA, 20000    , initial_diff)"
      ],
      "execution_count": 245,
      "outputs": [
        {
          "output_type": "stream",
          "text": [
            "[-1.023488805970139, -1.8715722523744915, -0.6801543419267304, -0.8386770691994485, -0.38913500678426516, -3.1526356852103063, 2.675374830393494, 1.5407411804613247, -1.2929511533242888, 0.13690807327001409, 1.1566587516960638, 1.7457954545454584, 1.8846014246947078, -0.5668487109904987, -1.122335481682498, -0.09364654002713735, -2.2740569877883345, -0.9887873134328444, -1.7672048846675636, -1.177542401628223, -0.8315790366350129, -1.4533141112618821, -0.9745912483039447, -1.6312907055630959, -2.1008124151967422, -1.087371099050202, -2.6581394165535954, -0.918069877883319, -0.40595997286295216, 4.405191655359566, -0.48298677069198703, -0.9603951831750308, -0.46116689280867007, 1.4471523066485759, -0.33866010854816864, -0.3851916553595558, -2.5753290366350186, 1.7360685210312, -2.3894657394844003, 3.0074050203527847, 2.2605342605156054, 0.45947421981004766, 2.1708887381275375, 0.9358310719131566, 0.5814552238805888, 2.3362466078697324, -2.238303934871091, -1.2921624830393483, 0.6500695386702802, -1.225388398914511, -1.2719199457259123, -1.6538992537313533, 3.245320556309359, -1.6010583446404283, 0.5112635685210307, -0.6273134328358196, -1.7548490502035392, 0.6387652645861621, -3.8122269335142462, -0.2687313432835694, 2.1948117367706956, -4.193154681139745, -1.589228290366357, 0.7752052238806115, -2.074786295793757, 1.302299864314783, 0.30831241519675245, -2.7228103799185845, -2.0847761194029815, -0.27004579375847726, 2.791309362279499, 1.5807004748982365, 1.910890434192666, 0.2673015603799058, -2.855569877883312, -1.1191808005427433, 1.8775033921302509, -2.0172133649932107, 0.7055393487109924, -1.0058751696065116, 3.026858887381273, -1.2098778833107176, 3.7973897557666163, 0.9757903663500755, 0.8635362957937573, 0.10746438263229408, 0.8206852103120781, 0.23733208955223262, -0.9033480325644518, -0.9036109226594249, 2.423263229308006, 0.826205902306647, -0.8108107191316165, -0.6704274084124862, -0.1180953188602345, 0.6884514925373182, 2.133295454545454, -0.059470827679781735, -1.6010583446404354, 1.9040552917231963]\n",
            "4755\n"
          ],
          "name": "stdout"
        },
        {
          "output_type": "execute_result",
          "data": {
            "application/vnd.google.colaboratory.intrinsic+json": {
              "type": "string"
            },
            "text/plain": [
              "'0.237750000'"
            ]
          },
          "metadata": {
            "tags": []
          },
          "execution_count": 245
        }
      ]
    },
    {
      "cell_type": "code",
      "metadata": {
        "colab": {
          "base_uri": "https://localhost:8080/"
        },
        "id": "Z5U_1fww-Od6",
        "outputId": "510bece2-2cca-4a3e-c56f-a87c184ad129"
      },
      "source": [
        "initial_diff"
      ],
      "execution_count": 188,
      "outputs": [
        {
          "output_type": "execute_result",
          "data": {
            "text/plain": [
              "1.1582360922659447"
            ]
          },
          "metadata": {
            "tags": []
          },
          "execution_count": 188
        }
      ]
    },
    {
      "cell_type": "code",
      "metadata": {
        "colab": {
          "base_uri": "https://localhost:8080/"
        },
        "id": "179dpKWY-Omv",
        "outputId": "3b9f3b8c-2524-4a08-89f9-b93093aa9947"
      },
      "source": [
        "boot = bootstrap_std_ci(x, len(x), 10000 , 85)\r\n",
        "print(\"Data mean\", boot[0])\r\n",
        "print(\"Lower bound\", boot[1])\r\n",
        "print(\"Upper bound\", boot[2])"
      ],
      "execution_count": 235,
      "outputs": [
        {
          "output_type": "stream",
          "text": [
            "Data mean 5.344436374714515\n",
            "Lower bound 3.2833842670174866\n",
            "Upper bound 6.917885721601857\n"
          ],
          "name": "stdout"
        }
      ]
    }
  ]
}