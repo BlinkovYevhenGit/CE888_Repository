{
  "nbformat": 4,
  "nbformat_minor": 0,
  "metadata": {
    "colab": {
      "name": "Multi_Class_Tweet_Classification.ipynb",
      "provenance": [],
      "collapsed_sections": [],
      "authorship_tag": "ABX9TyPUVL0M6HB4/K59h5BPmCGR",
      "include_colab_link": true
    },
    "kernelspec": {
      "name": "python3",
      "display_name": "Python 3"
    }
  },
  "cells": [
    {
      "cell_type": "markdown",
      "metadata": {
        "id": "view-in-github",
        "colab_type": "text"
      },
      "source": [
        "<a href=\"https://colab.research.google.com/github/BlinkovYevhenGit/CE888_Repository/blob/main/Assignment%201/Multi_Class_Tweet_Classification.ipynb\" target=\"_parent\"><img src=\"https://colab.research.google.com/assets/colab-badge.svg\" alt=\"Open In Colab\"/></a>"
      ]
    },
    {
      "cell_type": "code",
      "metadata": {
        "colab": {
          "base_uri": "https://localhost:8080/"
        },
        "id": "63ZudxoBimrC",
        "outputId": "173f7e74-05e3-4555-8483-180e30d33e32"
      },
      "source": [
        "!pip install transformers\r\n",
        "!pip install nltk"
      ],
      "execution_count": 1,
      "outputs": [
        {
          "output_type": "stream",
          "text": [
            "Requirement already satisfied: transformers in /usr/local/lib/python3.7/dist-packages (4.3.2)\n",
            "Requirement already satisfied: regex!=2019.12.17 in /usr/local/lib/python3.7/dist-packages (from transformers) (2019.12.20)\n",
            "Requirement already satisfied: importlib-metadata; python_version < \"3.8\" in /usr/local/lib/python3.7/dist-packages (from transformers) (3.4.0)\n",
            "Requirement already satisfied: tokenizers<0.11,>=0.10.1 in /usr/local/lib/python3.7/dist-packages (from transformers) (0.10.1)\n",
            "Requirement already satisfied: numpy>=1.17 in /usr/local/lib/python3.7/dist-packages (from transformers) (1.19.5)\n",
            "Requirement already satisfied: requests in /usr/local/lib/python3.7/dist-packages (from transformers) (2.23.0)\n",
            "Requirement already satisfied: filelock in /usr/local/lib/python3.7/dist-packages (from transformers) (3.0.12)\n",
            "Requirement already satisfied: packaging in /usr/local/lib/python3.7/dist-packages (from transformers) (20.9)\n",
            "Requirement already satisfied: sacremoses in /usr/local/lib/python3.7/dist-packages (from transformers) (0.0.43)\n",
            "Requirement already satisfied: tqdm>=4.27 in /usr/local/lib/python3.7/dist-packages (from transformers) (4.41.1)\n",
            "Requirement already satisfied: typing-extensions>=3.6.4; python_version < \"3.8\" in /usr/local/lib/python3.7/dist-packages (from importlib-metadata; python_version < \"3.8\"->transformers) (3.7.4.3)\n",
            "Requirement already satisfied: zipp>=0.5 in /usr/local/lib/python3.7/dist-packages (from importlib-metadata; python_version < \"3.8\"->transformers) (3.4.0)\n",
            "Requirement already satisfied: certifi>=2017.4.17 in /usr/local/lib/python3.7/dist-packages (from requests->transformers) (2020.12.5)\n",
            "Requirement already satisfied: chardet<4,>=3.0.2 in /usr/local/lib/python3.7/dist-packages (from requests->transformers) (3.0.4)\n",
            "Requirement already satisfied: idna<3,>=2.5 in /usr/local/lib/python3.7/dist-packages (from requests->transformers) (2.10)\n",
            "Requirement already satisfied: urllib3!=1.25.0,!=1.25.1,<1.26,>=1.21.1 in /usr/local/lib/python3.7/dist-packages (from requests->transformers) (1.24.3)\n",
            "Requirement already satisfied: pyparsing>=2.0.2 in /usr/local/lib/python3.7/dist-packages (from packaging->transformers) (2.4.7)\n",
            "Requirement already satisfied: click in /usr/local/lib/python3.7/dist-packages (from sacremoses->transformers) (7.1.2)\n",
            "Requirement already satisfied: six in /usr/local/lib/python3.7/dist-packages (from sacremoses->transformers) (1.15.0)\n",
            "Requirement already satisfied: joblib in /usr/local/lib/python3.7/dist-packages (from sacremoses->transformers) (1.0.1)\n",
            "Requirement already satisfied: nltk in /usr/local/lib/python3.7/dist-packages (3.2.5)\n",
            "Requirement already satisfied: six in /usr/local/lib/python3.7/dist-packages (from nltk) (1.15.0)\n"
          ],
          "name": "stdout"
        }
      ]
    },
    {
      "cell_type": "code",
      "metadata": {
        "id": "2dW3sSrujJHu"
      },
      "source": [
        "from transformers import AutoModelForSequenceClassification\r\n",
        "from transformers import TFAutoModelForSequenceClassification\r\n",
        "from transformers import AutoTokenizer\r\n",
        "import numpy as np\r\n",
        "from scipy.special import softmax\r\n",
        "import csv\r\n",
        "import urllib.request\r\n",
        "from IPython.display import clear_output\r\n",
        "from sklearn.metrics import recall_score, f1_score, get_scorer\r\n",
        "import nltk\r\n",
        "import random\r\n",
        "import string\r\n",
        "from nltk import re\r\n",
        "import pandas as pd\r\n",
        "import seaborn as sns\r\n",
        "import en_core_web_sm\r\n",
        "from nltk.stem import WordNetLemmatizer\r\n",
        "import re\r\n",
        "import string"
      ],
      "execution_count": 2,
      "outputs": []
    },
    {
      "cell_type": "code",
      "metadata": {
        "colab": {
          "base_uri": "https://localhost:8080/"
        },
        "id": "fY1AYbjw744N",
        "outputId": "35cae6d6-e292-4e1d-9e39-bdc935363593"
      },
      "source": [
        "nltk.download('wordnet')"
      ],
      "execution_count": 3,
      "outputs": [
        {
          "output_type": "stream",
          "text": [
            "[nltk_data] Downloading package wordnet to /root/nltk_data...\n",
            "[nltk_data]   Package wordnet is already up-to-date!\n"
          ],
          "name": "stdout"
        },
        {
          "output_type": "execute_result",
          "data": {
            "text/plain": [
              "True"
            ]
          },
          "metadata": {
            "tags": []
          },
          "execution_count": 3
        }
      ]
    },
    {
      "cell_type": "code",
      "metadata": {
        "id": "yQHNnA8N7bFy"
      },
      "source": [
        "stemmer = WordNetLemmatizer() # initialisation of a lemmatiser that detaches lemmas from words\r\n",
        "digits = string.digits  #a list of digits from 0 to 9\r\n",
        "verbose=1\r\n",
        "chars = re.escape(string.punctuation)"
      ],
      "execution_count": 4,
      "outputs": []
    },
    {
      "cell_type": "code",
      "metadata": {
        "colab": {
          "base_uri": "https://localhost:8080/",
          "height": 35
        },
        "id": "DVnqSRzOhslB",
        "outputId": "7de9ec96-b48d-48e8-bdf9-ef2edaa6bac9"
      },
      "source": [
        "chars"
      ],
      "execution_count": 5,
      "outputs": [
        {
          "output_type": "execute_result",
          "data": {
            "application/vnd.google.colaboratory.intrinsic+json": {
              "type": "string"
            },
            "text/plain": [
              "'!\"\\\\#\\\\$%\\\\&\\'\\\\(\\\\)\\\\*\\\\+,\\\\-\\\\./:;<=>\\\\?@\\\\[\\\\\\\\\\\\]\\\\^_`\\\\{\\\\|\\\\}\\\\~'"
            ]
          },
          "metadata": {
            "tags": []
          },
          "execution_count": 5
        }
      ]
    },
    {
      "cell_type": "code",
      "metadata": {
        "id": "eUXMECkejJFF"
      },
      "source": [
        "def preprocess(tweet, do_pre_processing):\r\n",
        "    tweet_list= []\r\n",
        "    for t in tweet.split(\" \"):\r\n",
        "        t = '' if t.startswith('@') and len(t) > 1 else t\r\n",
        "        t = '' if t.startswith('http') else t\r\n",
        "        tweet_list.append(t.strip())\r\n",
        "        \r\n",
        "    if do_pre_processing:\r\n",
        "      prepared_tweet = \" \".join(tweet_list)\r\n",
        "      # print(prepared_tweet)\r\n",
        "      tweet_list=re.sub(\"[\"+chars+\"“”‘]\",\"\",prepared_tweet).split(\" \")\r\n",
        "      tweet_list[:] = [item for item in tweet_list if item != '']\r\n",
        "      tweet_list=clean_tweet(tweet_list)\r\n",
        "    return \" \".join(tweet_list), tweet_list"
      ],
      "execution_count": 17,
      "outputs": []
    },
    {
      "cell_type": "code",
      "metadata": {
        "id": "bqnfrIpmzxXI"
      },
      "source": [
        "def load_data(link, is_csv=False):\r\n",
        "  with urllib.request.urlopen(link) as f:\r\n",
        "    html = f.read().decode('utf-8').split(\"\\n\")\r\n",
        "    if is_csv:\r\n",
        "       csvreader = csv.reader(html, delimiter='\\t')\r\n",
        "       return csvreader\r\n",
        "    return html"
      ],
      "execution_count": 7,
      "outputs": []
    },
    {
      "cell_type": "code",
      "metadata": {
        "id": "ximDixjg3dyW"
      },
      "source": [
        "def clean_word(raw_word):\r\n",
        "    word=raw_word.lower()\r\n",
        "    \r\n",
        "    #Lemmatisation of words\r\n",
        "    word=stemmer.lemmatize(word)\r\n",
        "    \r\n",
        "    #Elimination of stop-words or other words(punctuation, numbers, tiny words, detached letters) \r\n",
        "    #that make up a noise in input data\r\n",
        "    if any(map(str.isdigit, word)): \r\n",
        "        return None\r\n",
        "    else:\r\n",
        "        return word"
      ],
      "execution_count": 8,
      "outputs": []
    },
    {
      "cell_type": "code",
      "metadata": {
        "id": "AqOtxD8m3kHM"
      },
      "source": [
        "def clean_tweet(text):\r\n",
        "    for w in text[:]: #cleaning every word in the text\r\n",
        "        word_res=clean_word(w) \r\n",
        "        if word_res!=None:\r\n",
        "            text[text.index(w)]=word_res.strip() #returning back the cleaned word\r\n",
        "        else: #removing noisy word from the text \r\n",
        "            text.remove(w) \r\n",
        "    return text"
      ],
      "execution_count": 9,
      "outputs": []
    },
    {
      "cell_type": "code",
      "metadata": {
        "id": "065kV28qyv0i"
      },
      "source": [
        "def classify_many(xtexts, task, do_pre_processing):\r\n",
        "  MODEL = f\"cardiffnlp/twitter-roberta-base-{task}\"\r\n",
        "  model = TFAutoModelForSequenceClassification.from_pretrained(MODEL)\r\n",
        "  tokenizer = AutoTokenizer.from_pretrained(MODEL)\r\n",
        "  ypred=[]\r\n",
        "  text_num=0\r\n",
        "  for text in xtexts:\r\n",
        "    # text_num+=1\r\n",
        "    # print(\"Analysing\",text_num,\"- text from\",len(xtexts))\r\n",
        "    text, words_list = preprocess(text,do_pre_processing)\r\n",
        "    encoded_input = tokenizer(text, return_tensors='tf')\r\n",
        "    output = model(encoded_input)\r\n",
        "    scores = output[0][0].numpy()\r\n",
        "    scores = softmax(scores)\r\n",
        "    ranking = np.argsort(scores)\r\n",
        "    ranking = ranking[::-1]\r\n",
        "    l = labels[ranking[0]]\r\n",
        "    # s = scores[ranking[0]]\r\n",
        "    ypred.append(l)\r\n",
        "    # clear_output(wait=True)\r\n",
        "    # print(f\"{1} {l} {np.round(float(s), 4)}\")\r\n",
        "\r\n",
        "  return ypred "
      ],
      "execution_count": 19,
      "outputs": []
    },
    {
      "cell_type": "markdown",
      "metadata": {
        "id": "HpuY_Vm9d5JJ"
      },
      "source": [
        "# RoBERTa - base model testing on chosen datasets"
      ]
    },
    {
      "cell_type": "code",
      "metadata": {
        "id": "ZamfqdkujJLQ"
      },
      "source": [
        "tasks=[\"sentiment\",\"emotion\",\"emoji\"]"
      ],
      "execution_count": 11,
      "outputs": []
    },
    {
      "cell_type": "code",
      "metadata": {
        "id": "DlIrqM9L3uY4"
      },
      "source": [
        "metrics={\"sentiment\":lambda y_true,y_pred : recall_score(y_true=y_true,y_pred=y_pred, average=\"macro\"),\"emotion\":lambda y_true,y_pred : f1_score(y_true=y_true,y_pred=y_pred, average=\"macro\"),\"emoji\":lambda y_true,y_pred : f1_score(y_true=y_true,y_pred=y_pred, average=\"macro\")}"
      ],
      "execution_count": 12,
      "outputs": []
    },
    {
      "cell_type": "code",
      "metadata": {
        "id": "eQhkG4J1m0U3",
        "colab": {
          "base_uri": "https://localhost:8080/"
        },
        "outputId": "2ea6610f-93df-41b5-d500-670345df5ec2"
      },
      "source": [
        "for task in tasks:\r\n",
        "  print(\"Performing \"+task,\"task\")\r\n",
        "  mapping_link = f\"https://raw.githubusercontent.com/cardiffnlp/tweeteval/main/datasets/{task}/mapping.txt\"\r\n",
        "  test_tweets_link = f\"https://raw.githubusercontent.com/cardiffnlp/tweeteval/main/datasets/{task}/test_text.txt\"\r\n",
        "  test_labels_link = f\"https://raw.githubusercontent.com/cardiffnlp/tweeteval/main/datasets/{task}/test_labels.txt\"\r\n",
        "\r\n",
        "  # download label mapping\r\n",
        "  csvreader = load_data(mapping_link, is_csv=True)\r\n",
        "  labels = [row[1] for row in csvreader if len(row) > 1]\r\n",
        "  mapping={str(key):value for key,value in enumerate(labels)}\r\n",
        "\r\n",
        "  # download tweets\r\n",
        "  test_tweets = load_data(test_tweets_link)\r\n",
        "\r\n",
        "  # download tweets labels\r\n",
        "  test_labels = load_data(test_labels_link)\r\n",
        "\r\n",
        "  y_pred= classify_many(test_tweets[:300], task, False)\r\n",
        "  y_true=[]\r\n",
        "  for i in range(0, len(y_pred)):\r\n",
        "    y_true.append(mapping[test_labels[i]])\r\n",
        "    # print(i,\"Predicted - \", y_pred[i], \", Expected - \", mapping[test_labels[i]])\r\n",
        "\r\n",
        "  print(\"An example of classification for the task -\", task)\r\n",
        "  print(\"Tweet:\")\r\n",
        "  print(test_tweets[0])\r\n",
        "  print(1,\"Predicted - \", y_pred[0], \", Expected - \", mapping[test_labels[0]])\r\n",
        "  print()\r\n",
        "\r\n",
        "  print(\"Metric value:\", metrics[task](y_true,y_pred))\r\n",
        "\r\n",
        "  print(\"Attempting pre-processing...\")\r\n",
        "  y_pred_pre_processed=classify_many(test_tweets[:300], task, True)\r\n",
        "  y_true=[]\r\n",
        "\r\n",
        "  for i in range(0, len(y_pred_pre_processed)):\r\n",
        "    y_true.append(mapping[test_labels[i]])\r\n",
        "    # print(i,\"Predicted - \", y_pred[i], \", Expected - \", mapping[test_labels[i]])\r\n",
        "  print(\"An example of classification for the task -\", task,\" on the pre-processed data\")\r\n",
        "  print(\"Tweet:\")\r\n",
        "  print(test_tweets[0])\r\n",
        "  print(1,\"Predicted - \", y_pred_pre_processed[0], \", Expected - \", mapping[test_labels[0]])\r\n",
        "  print()\r\n",
        "  print(metrics[task](y_true,y_pred_pre_processed),\":\")\r\n",
        " \r\n",
        "  "
      ],
      "execution_count": 23,
      "outputs": [
        {
          "output_type": "stream",
          "text": [
            "Performing sentiment task\n"
          ],
          "name": "stdout"
        },
        {
          "output_type": "stream",
          "text": [
            "All model checkpoint layers were used when initializing TFRobertaForSequenceClassification.\n",
            "\n",
            "All the layers of TFRobertaForSequenceClassification were initialized from the model checkpoint at cardiffnlp/twitter-roberta-base-sentiment.\n",
            "If your task is similar to the task the model of the checkpoint was trained on, you can already use TFRobertaForSequenceClassification for predictions without further training.\n"
          ],
          "name": "stderr"
        },
        {
          "output_type": "stream",
          "text": [
            "An example of classification for the task - sentiment\n",
            "Tweet:\n",
            "@user @user what do these '1/2 naked pics' have to do with anything? They're not even like that. \n",
            "1 Predicted -  negative , Expected -  neutral\n",
            "\n",
            "Metric value: 0.7170756477821696\n",
            "Attempting pre-processing...\n"
          ],
          "name": "stdout"
        },
        {
          "output_type": "stream",
          "text": [
            "All model checkpoint layers were used when initializing TFRobertaForSequenceClassification.\n",
            "\n",
            "All the layers of TFRobertaForSequenceClassification were initialized from the model checkpoint at cardiffnlp/twitter-roberta-base-sentiment.\n",
            "If your task is similar to the task the model of the checkpoint was trained on, you can already use TFRobertaForSequenceClassification for predictions without further training.\n"
          ],
          "name": "stderr"
        },
        {
          "output_type": "stream",
          "text": [
            "An example of classification for the task - sentiment  on the pre-processed data\n",
            "Tweet:\n",
            "@user @user what do these '1/2 naked pics' have to do with anything? They're not even like that. \n",
            "1 Predicted -  negative , Expected -  neutral\n",
            "\n",
            "0.6625494071146245 :\n",
            "Performing emotion task\n"
          ],
          "name": "stdout"
        },
        {
          "output_type": "stream",
          "text": [
            "All model checkpoint layers were used when initializing TFRobertaForSequenceClassification.\n",
            "\n",
            "All the layers of TFRobertaForSequenceClassification were initialized from the model checkpoint at cardiffnlp/twitter-roberta-base-emotion.\n",
            "If your task is similar to the task the model of the checkpoint was trained on, you can already use TFRobertaForSequenceClassification for predictions without further training.\n"
          ],
          "name": "stderr"
        },
        {
          "output_type": "stream",
          "text": [
            "An example of classification for the task - emotion\n",
            "Tweet:\n",
            "#Deppression is real. Partners w/ #depressed people truly dont understand the depth in which they affect us. Add in #anxiety &amp;makes it worse \n",
            "1 Predicted -  sadness , Expected -  sadness\n",
            "\n",
            "Metric value: 0.7965684600751184\n",
            "Attempting pre-processing...\n"
          ],
          "name": "stdout"
        },
        {
          "output_type": "stream",
          "text": [
            "All model checkpoint layers were used when initializing TFRobertaForSequenceClassification.\n",
            "\n",
            "All the layers of TFRobertaForSequenceClassification were initialized from the model checkpoint at cardiffnlp/twitter-roberta-base-emotion.\n",
            "If your task is similar to the task the model of the checkpoint was trained on, you can already use TFRobertaForSequenceClassification for predictions without further training.\n"
          ],
          "name": "stderr"
        },
        {
          "output_type": "stream",
          "text": [
            "An example of classification for the task - emotion  on the pre-processed data\n",
            "Tweet:\n",
            "#Deppression is real. Partners w/ #depressed people truly dont understand the depth in which they affect us. Add in #anxiety &amp;makes it worse \n",
            "1 Predicted -  sadness , Expected -  sadness\n",
            "\n",
            "0.7901440522871567 :\n",
            "Performing emoji task\n"
          ],
          "name": "stdout"
        },
        {
          "output_type": "stream",
          "text": [
            "All model checkpoint layers were used when initializing TFRobertaForSequenceClassification.\n",
            "\n",
            "All the layers of TFRobertaForSequenceClassification were initialized from the model checkpoint at cardiffnlp/twitter-roberta-base-emoji.\n",
            "If your task is similar to the task the model of the checkpoint was trained on, you can already use TFRobertaForSequenceClassification for predictions without further training.\n"
          ],
          "name": "stderr"
        },
        {
          "output_type": "stream",
          "text": [
            "An example of classification for the task - emoji\n",
            "Tweet:\n",
            "en Pelham Parkway\n",
            "1 Predicted -  😍 , Expected -  😂\n",
            "\n",
            "Metric value: 0.26978635721206096\n",
            "Attempting pre-processing...\n"
          ],
          "name": "stdout"
        },
        {
          "output_type": "stream",
          "text": [
            "All model checkpoint layers were used when initializing TFRobertaForSequenceClassification.\n",
            "\n",
            "All the layers of TFRobertaForSequenceClassification were initialized from the model checkpoint at cardiffnlp/twitter-roberta-base-emoji.\n",
            "If your task is similar to the task the model of the checkpoint was trained on, you can already use TFRobertaForSequenceClassification for predictions without further training.\n"
          ],
          "name": "stderr"
        },
        {
          "output_type": "stream",
          "text": [
            "An example of classification for the task - emoji  on the pre-processed data\n",
            "Tweet:\n",
            "en Pelham Parkway\n",
            "1 Predicted -  😍 , Expected -  😂\n",
            "\n",
            "0.27636124709278675 :\n"
          ],
          "name": "stdout"
        }
      ]
    },
    {
      "cell_type": "markdown",
      "metadata": {
        "id": "wzK1Han5DkA3"
      },
      "source": [
        "# Data Exploration Part"
      ]
    },
    {
      "cell_type": "markdown",
      "metadata": {
        "id": "SUjlQxr_IErk"
      },
      "source": [
        "##1. Labels distribution in different datasets"
      ]
    },
    {
      "cell_type": "code",
      "metadata": {
        "id": "ZxvxtZeAMNHZ"
      },
      "source": [
        "import collections\r\n",
        "from matplotlib import pyplot as plt "
      ],
      "execution_count": 24,
      "outputs": []
    },
    {
      "cell_type": "code",
      "metadata": {
        "colab": {
          "base_uri": "https://localhost:8080/",
          "height": 1000
        },
        "id": "Ll2xovi8IZt2",
        "outputId": "d1555255-2a7f-4c06-ff6c-bb77dfd31a30"
      },
      "source": [
        "for task in tasks:\r\n",
        "  print(\"Performing \"+task,\"task\")\r\n",
        "  mapping_link = f\"https://raw.githubusercontent.com/cardiffnlp/tweeteval/main/datasets/{task}/mapping.txt\"\r\n",
        "  test_tweets_link = f\"https://raw.githubusercontent.com/cardiffnlp/tweeteval/main/datasets/{task}/test_text.txt\"\r\n",
        "  test_labels_link = f\"https://raw.githubusercontent.com/cardiffnlp/tweeteval/main/datasets/{task}/test_labels.txt\"\r\n",
        "\r\n",
        "  # download label mapping\r\n",
        "  csvreader = load_data(mapping_link, is_csv=True)\r\n",
        "  labels = [row[1] for row in csvreader if len(row) > 1]\r\n",
        "  mapping={str(key):value for key,value in enumerate(labels)}\r\n",
        "\r\n",
        "  # download tweets\r\n",
        "  test_tweets = load_data(test_tweets_link)\r\n",
        "  print(\"Amount of tweets in the \"+task+\" dataset -\",len(test_tweets))\r\n",
        "\r\n",
        "  # download tweets labels\r\n",
        "  test_labels = load_data(test_labels_link)\r\n",
        "  if task!=\"emoji\":\r\n",
        "    test_labels_names=[mapping[item] if item in mapping else \"Undefined\" for item in test_labels]\r\n",
        "  else:\r\n",
        "    print(mapping)\r\n",
        "    test_labels_names=[item if item in mapping else \"Undefined\" for item in test_labels]\r\n",
        "  c = collections.Counter(test_labels_names)\r\n",
        "  # Creating pie chart \r\n",
        "  fig = plt.figure(figsize =(10, 7)) \r\n",
        "  plt.pie(c.values(), labels = c.keys(),autopct='%1.2f%%') \r\n",
        "\r\n",
        "  # show plot \r\n",
        "  plt.show() \r\n",
        "\r\n"
      ],
      "execution_count": 25,
      "outputs": [
        {
          "output_type": "stream",
          "text": [
            "Performing sentiment task\n",
            "Amount of tweets in the sentiment dataset - 12285\n"
          ],
          "name": "stdout"
        },
        {
          "output_type": "display_data",
          "data": {
            "image/png": "[encoded data removed]",
            "text/plain": [
              "<Figure size 720x504 with 1 Axes>"
            ]
          },
          "metadata": {
            "tags": []
          }
        },
        {
          "output_type": "stream",
          "text": [
            "Performing emotion task\n",
            "Amount of tweets in the emotion dataset - 1422\n"
          ],
          "name": "stdout"
        },
        {
          "output_type": "display_data",
          "data": {
            "image/png": "[encoded data removed]",
            "text/plain": [
              "<Figure size 720x504 with 1 Axes>"
            ]
          },
          "metadata": {
            "tags": []
          }
        },
        {
          "output_type": "stream",
          "text": [
            "Performing emoji task\n",
            "Amount of tweets in the emoji dataset - 50001\n",
            "{'0': '❤', '1': '😍', '2': '😂', '3': '💕', '4': '🔥', '5': '😊', '6': '😎', '7': '✨', '8': '💙', '9': '😘', '10': '📷', '11': '🇺🇸', '12': '☀', '13': '💜', '14': '😉', '15': '💯', '16': '😁', '17': '🎄', '18': '📸', '19': '😜'}\n"
          ],
          "name": "stdout"
        },
        {
          "output_type": "display_data",
          "data": {
            "image/png": "[encoded data removed]",
            "text/plain": [
              "<Figure size 720x504 with 1 Axes>"
            ]
          },
          "metadata": {
            "tags": []
          }
        }
      ]
    },
    {
      "cell_type": "markdown",
      "metadata": {
        "id": "hs7CxiirHt-r"
      },
      "source": [
        "## 2. Demonstration of pre-processing "
      ]
    },
    {
      "cell_type": "code",
      "metadata": {
        "colab": {
          "base_uri": "https://localhost:8080/"
        },
        "id": "6f4Oo3p_FWQe",
        "outputId": "80844b09-8037-4706-d8d9-e2540b86d6b4"
      },
      "source": [
        "for task in tasks:\r\n",
        "  print(\"Performing \"+task,\"task\")\r\n",
        "  mapping_link = f\"https://raw.githubusercontent.com/cardiffnlp/tweeteval/main/datasets/{task}/mapping.txt\"\r\n",
        "  test_tweets_link = f\"https://raw.githubusercontent.com/cardiffnlp/tweeteval/main/datasets/{task}/test_text.txt\"\r\n",
        "  test_labels_link = f\"https://raw.githubusercontent.com/cardiffnlp/tweeteval/main/datasets/{task}/test_labels.txt\"\r\n",
        "\r\n",
        "  # download label mapping\r\n",
        "  csvreader = load_data(mapping_link, is_csv=True)\r\n",
        "  labels = [row[1] for row in csvreader if len(row) > 1]\r\n",
        "  mapping={str(key):value for key,value in enumerate(labels)}\r\n",
        "\r\n",
        "  # download tweets\r\n",
        "  test_tweets = load_data(test_tweets_link)\r\n",
        "\r\n",
        "  # download tweets labels\r\n",
        "  test_labels = load_data(test_labels_link)\r\n",
        "\r\n",
        "  for index, item in enumerate(test_tweets[:10]):\r\n",
        "    print(str(index+1)+\".\")\r\n",
        "    print(\" Original tweet:\")\r\n",
        "    print(item)\r\n",
        "    print()\r\n",
        "    i1,i2=preprocess(item, do_pre_processing=True)\r\n",
        "    print(\" Processed tweet\")\r\n",
        "    print(i1)\r\n",
        "    print(\" List of tokens:\")\r\n",
        "    print(i2)\r\n",
        "    print(\"---------------\")\r\n",
        "  print(\"<===================================================>\")"
      ],
      "execution_count": 26,
      "outputs": [
        {
          "output_type": "stream",
          "text": [
            "Performing sentiment task\n",
            "1.\n",
            " Original tweet:\n",
            "@user @user what do these '1/2 naked pics' have to do with anything? They're not even like that. \n",
            "\n",
            " Processed tweet\n",
            "what do these naked pic have to do with anything theyre not even like that\n",
            " List of tokens:\n",
            "['what', 'do', 'these', 'naked', 'pic', 'have', 'to', 'do', 'with', 'anything', 'theyre', 'not', 'even', 'like', 'that']\n",
            "---------------\n",
            "2.\n",
            " Original tweet:\n",
            "OH: “I had a blue penis while I was this” [playing with Google Earth VR] \n",
            "\n",
            " Processed tweet\n",
            "oh i had a blue penis while i wa this playing with google earth vr\n",
            " List of tokens:\n",
            "['oh', 'i', 'had', 'a', 'blue', 'penis', 'while', 'i', 'wa', 'this', 'playing', 'with', 'google', 'earth', 'vr']\n",
            "---------------\n",
            "3.\n",
            " Original tweet:\n",
            "@user @user That's coming, but I think the victims are going to be Medicaid recipients. \n",
            "\n",
            " Processed tweet\n",
            "thats coming but i think the victim are going to be medicaid recipient\n",
            " List of tokens:\n",
            "['thats', 'coming', 'but', 'i', 'think', 'the', 'victim', 'are', 'going', 'to', 'be', 'medicaid', 'recipient']\n",
            "---------------\n",
            "4.\n",
            " Original tweet:\n",
            "I think I may be finally in with the in crowd #mannequinchallenge  #grads2014 @user \n",
            "\n",
            " Processed tweet\n",
            "i think i may be finally in with the in crowd mannequinchallenge\n",
            " List of tokens:\n",
            "['i', 'think', 'i', 'may', 'be', 'finally', 'in', 'with', 'the', 'in', 'crowd', 'mannequinchallenge']\n",
            "---------------\n",
            "5.\n",
            " Original tweet:\n",
            "@user Wow,first Hugo Chavez and now Fidel Castro. Danny Glover, Michael Moore, Oliver Stone, and Sean Penn are running out of heroes. \n",
            "\n",
            " Processed tweet\n",
            "wowfirst hugo chavez and now fidel castro danny glover michael moore oliver stone and sean penn are running out of hero\n",
            " List of tokens:\n",
            "['wowfirst', 'hugo', 'chavez', 'and', 'now', 'fidel', 'castro', 'danny', 'glover', 'michael', 'moore', 'oliver', 'stone', 'and', 'sean', 'penn', 'are', 'running', 'out', 'of', 'hero']\n",
            "---------------\n",
            "6.\n",
            " Original tweet:\n",
            "Savchenko now Saakashvili took drug test live on Ukraine TV. To prove they are not drug-fueled loonies? \n",
            "\n",
            " Processed tweet\n",
            "savchenko now saakashvili took drug test live on ukraine tv to prove they are not drugfueled loony\n",
            " List of tokens:\n",
            "['savchenko', 'now', 'saakashvili', 'took', 'drug', 'test', 'live', 'on', 'ukraine', 'tv', 'to', 'prove', 'they', 'are', 'not', 'drugfueled', 'loony']\n",
            "---------------\n",
            "7.\n",
            " Original tweet:\n",
            "How many more days until opening day? 😩 \n",
            "\n",
            " Processed tweet\n",
            "how many more day until opening day 😩\n",
            " List of tokens:\n",
            "['how', 'many', 'more', 'day', 'until', 'opening', 'day', '😩']\n",
            "---------------\n",
            "8.\n",
            " Original tweet:\n",
            "Twitter's #ThankYouObama Shows Heartfelt Gratitude To POTUS \n",
            "\n",
            " Processed tweet\n",
            "twitter thankyouobama show heartfelt gratitude to potus\n",
            " List of tokens:\n",
            "['twitter', 'thankyouobama', 'show', 'heartfelt', 'gratitude', 'to', 'potus']\n",
            "---------------\n",
            "9.\n",
            " Original tweet:\n",
            "All CSG and Fracking all around Australia is to cease and Mining Entities held Accountable! - Sign the Petition! \n",
            "\n",
            " Processed tweet\n",
            "all csg and fracking all around australia is to cease and mining entity held accountable sign the petition\n",
            " List of tokens:\n",
            "['all', 'csg', 'and', 'fracking', 'all', 'around', 'australia', 'is', 'to', 'cease', 'and', 'mining', 'entity', 'held', 'accountable', 'sign', 'the', 'petition']\n",
            "---------------\n",
            "10.\n",
            " Original tweet:\n",
            "@user @user @user @user @user @user take away illegals and dead people and Trump wins popular vote too. \n",
            "\n",
            " Processed tweet\n",
            "take away illegals and dead people and trump win popular vote too\n",
            " List of tokens:\n",
            "['take', 'away', 'illegals', 'and', 'dead', 'people', 'and', 'trump', 'win', 'popular', 'vote', 'too']\n",
            "---------------\n",
            "<===================================================>\n",
            "Performing emotion task\n",
            "1.\n",
            " Original tweet:\n",
            "#Deppression is real. Partners w/ #depressed people truly dont understand the depth in which they affect us. Add in #anxiety &amp;makes it worse \n",
            "\n",
            " Processed tweet\n",
            "deppression is real partner w depressed people truly dont understand the depth in which they affect u add in anxiety ampmakes it worse\n",
            " List of tokens:\n",
            "['deppression', 'is', 'real', 'partner', 'w', 'depressed', 'people', 'truly', 'dont', 'understand', 'the', 'depth', 'in', 'which', 'they', 'affect', 'u', 'add', 'in', 'anxiety', 'ampmakes', 'it', 'worse']\n",
            "---------------\n",
            "2.\n",
            " Original tweet:\n",
            "@user Interesting choice of words... Are you confirming that governments fund #terrorism? Bit of an open door, but still... \n",
            "\n",
            " Processed tweet\n",
            "interesting choice of word are you confirming that government fund terrorism bit of an open door but still\n",
            " List of tokens:\n",
            "['interesting', 'choice', 'of', 'word', 'are', 'you', 'confirming', 'that', 'government', 'fund', 'terrorism', 'bit', 'of', 'an', 'open', 'door', 'but', 'still']\n",
            "---------------\n",
            "3.\n",
            " Original tweet:\n",
            "My visit to hospital for care triggered #trauma from accident 20+yrs ago and image of my dead brother in it. Feeling symptoms of #depression \n",
            "\n",
            " Processed tweet\n",
            "my visit to hospital for care triggered trauma from accident ago and image of my dead brother in it feeling symptom of depression\n",
            " List of tokens:\n",
            "['my', 'visit', 'to', 'hospital', 'for', 'care', 'triggered', 'trauma', 'from', 'accident', 'ago', 'and', 'image', 'of', 'my', 'dead', 'brother', 'in', 'it', 'feeling', 'symptom', 'of', 'depression']\n",
            "---------------\n",
            "4.\n",
            " Original tweet:\n",
            "@user Welcome to #MPSVT! We are delighted to have you! #grateful #MPSVT #relationships \n",
            "\n",
            " Processed tweet\n",
            "welcome to mpsvt we are delighted to have you grateful mpsvt relationship\n",
            " List of tokens:\n",
            "['welcome', 'to', 'mpsvt', 'we', 'are', 'delighted', 'to', 'have', 'you', 'grateful', 'mpsvt', 'relationship']\n",
            "---------------\n",
            "5.\n",
            " Original tweet:\n",
            "What makes you feel #joyful? \n",
            "\n",
            " Processed tweet\n",
            "what make you feel joyful\n",
            " List of tokens:\n",
            "['what', 'make', 'you', 'feel', 'joyful']\n",
            "---------------\n",
            "6.\n",
            " Original tweet:\n",
            "i am revolting. \n",
            "\n",
            " Processed tweet\n",
            "i am revolting\n",
            " List of tokens:\n",
            "['i', 'am', 'revolting']\n",
            "---------------\n",
            "7.\n",
            " Original tweet:\n",
            "Rin might ever appeared gloomy but to be a melodramatic person was not her thing.\\n\\nBut honestly, she missed her old friend. The special one. \n",
            "\n",
            " Processed tweet\n",
            "rin might ever appeared gloomy but to be a melodramatic person wa not her thingnnbut honestly she missed her old friend the special one\n",
            " List of tokens:\n",
            "['rin', 'might', 'ever', 'appeared', 'gloomy', 'but', 'to', 'be', 'a', 'melodramatic', 'person', 'wa', 'not', 'her', 'thingnnbut', 'honestly', 'she', 'missed', 'her', 'old', 'friend', 'the', 'special', 'one']\n",
            "---------------\n",
            "8.\n",
            " Original tweet:\n",
            "In need of a change! #restless \n",
            "\n",
            " Processed tweet\n",
            "in need of a change restless\n",
            " List of tokens:\n",
            "['in', 'need', 'of', 'a', 'change', 'restless']\n",
            "---------------\n",
            "9.\n",
            " Original tweet:\n",
            "@user @user #cmbyn does screen  August 4 &amp; 6 at #miff \n",
            "\n",
            " Processed tweet\n",
            "cmbyn doe screen august amp at miff\n",
            " List of tokens:\n",
            "['cmbyn', 'doe', 'screen', 'august', 'amp', 'at', 'miff']\n",
            "---------------\n",
            "10.\n",
            " Original tweet:\n",
            "@user Get Donovan out of your soccer booth. He's awful. He's bitter. He makes me want to mute the tv. #horrid \n",
            "\n",
            " Processed tweet\n",
            "get donovan out of your soccer booth he awful he bitter he make me want to mute the tv horrid\n",
            " List of tokens:\n",
            "['get', 'donovan', 'out', 'of', 'your', 'soccer', 'booth', 'he', 'awful', 'he', 'bitter', 'he', 'make', 'me', 'want', 'to', 'mute', 'the', 'tv', 'horrid']\n",
            "---------------\n",
            "<===================================================>\n",
            "Performing emoji task\n",
            "1.\n",
            " Original tweet:\n",
            "en Pelham Parkway\n",
            "\n",
            " Processed tweet\n",
            "en pelham parkway\n",
            " List of tokens:\n",
            "['en', 'pelham', 'parkway']\n",
            "---------------\n",
            "2.\n",
            " Original tweet:\n",
            "The calm before...... | w/ sofarsounds @user | : B. Hall.......#sofarsounds…\n",
            "\n",
            " Processed tweet\n",
            "the calm before w sofarsounds b hallsofarsounds…\n",
            " List of tokens:\n",
            "['the', 'calm', 'before', 'w', 'sofarsounds', 'b', 'hallsofarsounds…']\n",
            "---------------\n",
            "3.\n",
            " Original tweet:\n",
            "Just witnessed the great solar eclipse @ Tampa, Florida\n",
            "\n",
            " Processed tweet\n",
            "just witnessed the great solar eclipse tampa florida\n",
            " List of tokens:\n",
            "['just', 'witnessed', 'the', 'great', 'solar', 'eclipse', 'tampa', 'florida']\n",
            "---------------\n",
            "4.\n",
            " Original tweet:\n",
            "This little lady is 26 weeks pregnant today! Excited for baby Cam to come! @ Springfield,…\n",
            "\n",
            " Processed tweet\n",
            "this little lady is week pregnant today excited for baby cam to come springfield…\n",
            " List of tokens:\n",
            "['this', 'little', 'lady', 'is', 'week', 'pregnant', 'today', 'excited', 'for', 'baby', 'cam', 'to', 'come', 'springfield…']\n",
            "---------------\n",
            "5.\n",
            " Original tweet:\n",
            "Great road trip views! @ Shartlesville, Pennsylvania\n",
            "\n",
            " Processed tweet\n",
            "great road trip view shartlesville pennsylvania\n",
            " List of tokens:\n",
            "['great', 'road', 'trip', 'view', 'shartlesville', 'pennsylvania']\n",
            "---------------\n",
            "6.\n",
            " Original tweet:\n",
            "CHRISTMAS DEALS BUY ANY 3 SMALL POMADES 1.5 OR 1.7 OZ RECEIVE THE F&amp;S COLLECTOR TIN &amp; COMB…\n",
            "\n",
            " Processed tweet\n",
            "christmas deal buy any small pomade or oz receive the famps collector tin amp comb…\n",
            " List of tokens:\n",
            "['christmas', 'deal', 'buy', 'any', 'small', 'pomade', 'or', 'oz', 'receive', 'the', 'famps', 'collector', 'tin', 'amp', 'comb…']\n",
            "---------------\n",
            "7.\n",
            " Original tweet:\n",
            "the #sisterstunt was mad real last night #MiaStaxxx #AndreaStaxxx #denverqueen #staxxxlife…\n",
            "\n",
            " Processed tweet\n",
            "the sisterstunt wa mad real last night miastaxxx andreastaxxx denverqueen staxxxlife…\n",
            " List of tokens:\n",
            "['the', 'sisterstunt', 'wa', 'mad', 'real', 'last', 'night', 'miastaxxx', 'andreastaxxx', 'denverqueen', 'staxxxlife…']\n",
            "---------------\n",
            "8.\n",
            " Original tweet:\n",
            "I'm starting to love shooting in the dark #brandonwolfel @ New York, New York\n",
            "\n",
            " Processed tweet\n",
            "im starting to love shooting in the dark brandonwolfel new york new york\n",
            " List of tokens:\n",
            "['im', 'starting', 'to', 'love', 'shooting', 'in', 'the', 'dark', 'brandonwolfel', 'new', 'york', 'new', 'york']\n",
            "---------------\n",
            "9.\n",
            " Original tweet:\n",
            "Let the sun shine through ️ 5x5 Feet #oilpainting #oiloncanvas #acrylicpainting #acryliconcanvas…\n",
            "\n",
            " Processed tweet\n",
            "let the sun shine through ️ foot oilpainting oiloncanvas acrylicpainting acryliconcanvas…\n",
            " List of tokens:\n",
            "['let', 'the', 'sun', 'shine', 'through', '️', 'foot', 'oilpainting', 'oiloncanvas', 'acrylicpainting', 'acryliconcanvas…']\n",
            "---------------\n",
            "10.\n",
            " Original tweet:\n",
            "Still bitch im trill never been no fiend :@vibesbygallo #mustard @ Connecticut\n",
            "\n",
            " Processed tweet\n",
            "still bitch im trill never been no fiend vibesbygallo mustard connecticut\n",
            " List of tokens:\n",
            "['still', 'bitch', 'im', 'trill', 'never', 'been', 'no', 'fiend', 'vibesbygallo', 'mustard', 'connecticut']\n",
            "---------------\n",
            "<===================================================>\n"
          ],
          "name": "stdout"
        }
      ]
    },
    {
      "cell_type": "markdown",
      "metadata": {
        "id": "87GN1zo6hPGC"
      },
      "source": [
        "https://medium.com/analytics-vidhya/hugging-face-transformers-how-to-use-pipelines-10775aa3db7e\r\n",
        "https://tomaxent.com/2018/04/27/Micro-and-Macro-average-of-Precision-Recall-and-F-Score/"
      ]
    }
  ]
}