{
  "nbformat": 4,
  "nbformat_minor": 0,
  "metadata": {
    "kernelspec": {
      "display_name": "Python 3",
      "language": "python",
      "name": "python3"
    },
    "language_info": {
      "codemirror_mode": {
        "name": "ipython",
        "version": 3
      },
      "file_extension": ".py",
      "mimetype": "text/x-python",
      "name": "python",
      "nbconvert_exporter": "python",
      "pygments_lexer": "ipython3",
      "version": "3.6.5"
    },
    "colab": {
      "name": "Lab7_CNN",
      "provenance": [],
      "include_colab_link": true
    },
    "accelerator": "GPU"
  },
  "cells": [
    {
      "cell_type": "markdown",
      "metadata": {
        "id": "view-in-github",
        "colab_type": "text"
      },
      "source": [
        "<a href=\"https://colab.research.google.com/github/BlinkovYevhenGit/CE888_Repository/blob/main/Lab7/Lab7_CNN.ipynb\" target=\"_parent\"><img src=\"https://colab.research.google.com/assets/colab-badge.svg\" alt=\"Open In Colab\"/></a>"
      ]
    },
    {
      "cell_type": "markdown",
      "metadata": {
        "id": "vwRGEQbzGpYQ"
      },
      "source": [
        "# First CNN model for MNIST Dataset\n",
        "\n",
        "* MNIST Dataset is ''Hello World'' of Image Recognition\n",
        "\n",
        "* [Dataset HomePage](http://yann.lecun.com/exdb/mnist/)\n",
        "\n",
        "* History of MNIST Dataset [Watch here](https://www.youtube.com/watch?v=oKzNUGz21JM)\n",
        "\n",
        "\n",
        "---\n",
        "The MNIST database of handwritten digits, available from this page, has a training set of 60,000 examples, and a \n",
        "test set of 10,000 examples. It is a subset of a larger set available from NIST. The digits have been size-normalized and centered in a fixed-size image.\n",
        "\n",
        "![Kitten](https://camo.githubusercontent.com/01c057a753e92a9bc70b8c45d62b295431851c09cffadf53106fc0aea7e2843f/687474703a2f2f692e7974696d672e636f6d2f76692f3051493378675875422d512f687164656661756c742e6a7067)\n"
      ]
    },
    {
      "cell_type": "markdown",
      "metadata": {
        "id": "PhmJOHCpJD_w"
      },
      "source": [
        "# Let's start building our first CNN Model"
      ]
    },
    {
      "cell_type": "code",
      "metadata": {
        "id": "lSyHCSV7jymI"
      },
      "source": [
        "from keras import layers\n",
        "from keras import models"
      ],
      "execution_count": 1,
      "outputs": []
    },
    {
      "cell_type": "markdown",
      "metadata": {
        "id": "oWNzCYUUjymN"
      },
      "source": [
        "Importantly, a convnet takes as input tensors of shape (image_height, image_width,\n",
        "image_channels) (not including the batch dimension). In this case, we’ll configure\n",
        "the convnet to process inputs of size (28, 28, 1), which is the format of MNIST\n",
        "images. We’ll do this by passing the argument input_shape=(28, 28, 1) to the first\n",
        "layer."
      ]
    },
    {
      "cell_type": "markdown",
      "metadata": {
        "id": "dM4JLEpwjymN"
      },
      "source": [
        "#### Instantiating a small convnet"
      ]
    },
    {
      "cell_type": "code",
      "metadata": {
        "id": "p-OnpExGjymO",
        "colab": {
          "base_uri": "https://localhost:8080/"
        },
        "outputId": "d246cfbf-4978-4cfa-a552-a5823892e2fb"
      },
      "source": [
        "model = models.Sequential()\n",
        "model.add(layers.Conv2D(32, (3, 3), activation='relu', input_shape=(28, 28, 1)))\n",
        "model.add(layers.MaxPooling2D((2, 2)))\n",
        "model.add(layers.Conv2D(64, (3, 3), activation='relu'))\n",
        "model.add(layers.MaxPooling2D((2, 2)))\n",
        "model.add(layers.Conv2D(64, (3, 3), activation='relu'))\n",
        "model.summary()"
      ],
      "execution_count": null,
      "outputs": [
        {
          "output_type": "stream",
          "text": [
            "Model: \"sequential_1\"\n",
            "_________________________________________________________________\n",
            "Layer (type)                 Output Shape              Param #   \n",
            "=================================================================\n",
            "conv2d_3 (Conv2D)            (None, 26, 26, 32)        320       \n",
            "_________________________________________________________________\n",
            "max_pooling2d_2 (MaxPooling2 (None, 13, 13, 32)        0         \n",
            "_________________________________________________________________\n",
            "conv2d_4 (Conv2D)            (None, 11, 11, 64)        18496     \n",
            "_________________________________________________________________\n",
            "max_pooling2d_3 (MaxPooling2 (None, 5, 5, 64)          0         \n",
            "_________________________________________________________________\n",
            "conv2d_5 (Conv2D)            (None, 3, 3, 64)          36928     \n",
            "=================================================================\n",
            "Total params: 55,744\n",
            "Trainable params: 55,744\n",
            "Non-trainable params: 0\n",
            "_________________________________________________________________\n"
          ],
          "name": "stdout"
        }
      ]
    },
    {
      "cell_type": "markdown",
      "metadata": {
        "id": "7gcVG3xkjymR"
      },
      "source": [
        "#### Adding a classifier on top of the convnet"
      ]
    },
    {
      "cell_type": "code",
      "metadata": {
        "id": "C2DfhDJYjymR",
        "colab": {
          "base_uri": "https://localhost:8080/"
        },
        "outputId": "1c23e275-033a-47da-8778-310a00b960cd"
      },
      "source": [
        "model.add(layers.Flatten())\n",
        "model.add(layers.Dense(64, activation='relu'))\n",
        "model.add(layers.Dense(10, activation='softmax'))\n",
        "model.summary()"
      ],
      "execution_count": null,
      "outputs": [
        {
          "output_type": "stream",
          "text": [
            "Model: \"sequential_1\"\n",
            "_________________________________________________________________\n",
            "Layer (type)                 Output Shape              Param #   \n",
            "=================================================================\n",
            "conv2d_3 (Conv2D)            (None, 26, 26, 32)        320       \n",
            "_________________________________________________________________\n",
            "max_pooling2d_2 (MaxPooling2 (None, 13, 13, 32)        0         \n",
            "_________________________________________________________________\n",
            "conv2d_4 (Conv2D)            (None, 11, 11, 64)        18496     \n",
            "_________________________________________________________________\n",
            "max_pooling2d_3 (MaxPooling2 (None, 5, 5, 64)          0         \n",
            "_________________________________________________________________\n",
            "conv2d_5 (Conv2D)            (None, 3, 3, 64)          36928     \n",
            "_________________________________________________________________\n",
            "flatten_1 (Flatten)          (None, 576)               0         \n",
            "_________________________________________________________________\n",
            "dense_2 (Dense)              (None, 64)                36928     \n",
            "_________________________________________________________________\n",
            "dense_3 (Dense)              (None, 10)                650       \n",
            "=================================================================\n",
            "Total params: 93,322\n",
            "Trainable params: 93,322\n",
            "Non-trainable params: 0\n",
            "_________________________________________________________________\n"
          ],
          "name": "stdout"
        }
      ]
    },
    {
      "cell_type": "markdown",
      "metadata": {
        "id": "NOKVF4nKjymU"
      },
      "source": [
        "### Training the convnet on MNIST images"
      ]
    },
    {
      "cell_type": "code",
      "metadata": {
        "id": "oIcgUbbUjymV"
      },
      "source": [
        "from keras.datasets import mnist\n",
        "from keras.utils import to_categorical"
      ],
      "execution_count": 2,
      "outputs": []
    },
    {
      "cell_type": "markdown",
      "metadata": {
        "id": "ZnJ2Pfs_jymX"
      },
      "source": [
        "#### Load Data"
      ]
    },
    {
      "cell_type": "code",
      "metadata": {
        "id": "JpHGHE9MjymY",
        "colab": {
          "base_uri": "https://localhost:8080/"
        },
        "outputId": "10434f3e-a7f8-44c1-bdaf-5b222b068aee"
      },
      "source": [
        "(train_images, train_labels), (test_images, test_labels) = mnist.load_data()\n"
      ],
      "execution_count": 4,
      "outputs": [
        {
          "output_type": "stream",
          "text": [
            "Downloading data from https://storage.googleapis.com/tensorflow/tf-keras-datasets/mnist.npz\n",
            "11493376/11490434 [==============================] - 0s 0us/step\n"
          ],
          "name": "stdout"
        }
      ]
    },
    {
      "cell_type": "code",
      "metadata": {
        "colab": {
          "base_uri": "https://localhost:8080/"
        },
        "id": "YbGTBpmaAFgF",
        "outputId": "33034a43-a75d-4671-ceb7-7f098f8211d2"
      },
      "source": [
        "len((train_images, train_labels))"
      ],
      "execution_count": null,
      "outputs": [
        {
          "output_type": "execute_result",
          "data": {
            "text/plain": [
              "2"
            ]
          },
          "metadata": {
            "tags": []
          },
          "execution_count": 19
        }
      ]
    },
    {
      "cell_type": "code",
      "metadata": {
        "id": "uyEUMsgBAG12"
      },
      "source": [
        "(test_images, test_labels).shape()"
      ],
      "execution_count": null,
      "outputs": []
    },
    {
      "cell_type": "code",
      "metadata": {
        "id": "W4BemNJuAFqG"
      },
      "source": [
        "train_images = train_images.reshape((60000, 28, 28, 1))\r\n",
        "train_images = train_images.astype('float32') / 255\r\n",
        "test_images = test_images.reshape((10000, 28, 28, 1))\r\n",
        "test_images = test_images.astype('float32') / 255\r\n",
        "train_labels = to_categorical(train_labels)\r\n",
        "test_labels = to_categorical(test_labels)"
      ],
      "execution_count": null,
      "outputs": []
    },
    {
      "cell_type": "markdown",
      "metadata": {
        "id": "4HoTLrfSjymd"
      },
      "source": [
        "#### compile and fit model "
      ]
    },
    {
      "cell_type": "code",
      "metadata": {
        "id": "i23FDtC9jyme",
        "colab": {
          "base_uri": "https://localhost:8080/"
        },
        "outputId": "73c48473-8a55-48b5-bd86-e55109661aa2"
      },
      "source": [
        "model.compile(optimizer='adam', \n",
        "              loss='categorical_crossentropy',\n",
        "              metrics=['accuracy'])\n",
        "history = model.fit(train_images, train_labels, epochs=5, batch_size=64, validation_split=0.2)"
      ],
      "execution_count": null,
      "outputs": [
        {
          "output_type": "stream",
          "text": [
            "Epoch 1/5\n",
            "750/750 [==============================] - 37s 49ms/step - loss: 0.0192 - accuracy: 0.9942 - val_loss: 0.0390 - val_accuracy: 0.9901\n",
            "Epoch 2/5\n",
            "750/750 [==============================] - 37s 49ms/step - loss: 0.0150 - accuracy: 0.9951 - val_loss: 0.0451 - val_accuracy: 0.9876\n",
            "Epoch 3/5\n",
            "750/750 [==============================] - 37s 50ms/step - loss: 0.0106 - accuracy: 0.9962 - val_loss: 0.0429 - val_accuracy: 0.9895\n",
            "Epoch 4/5\n",
            "750/750 [==============================] - 37s 50ms/step - loss: 0.0114 - accuracy: 0.9962 - val_loss: 0.0480 - val_accuracy: 0.9888\n",
            "Epoch 5/5\n",
            "750/750 [==============================] - 37s 49ms/step - loss: 0.0100 - accuracy: 0.9969 - val_loss: 0.0347 - val_accuracy: 0.9922\n"
          ],
          "name": "stdout"
        }
      ]
    },
    {
      "cell_type": "markdown",
      "metadata": {
        "id": "9zU8iI5ojymg"
      },
      "source": [
        "#### evaluate model"
      ]
    },
    {
      "cell_type": "code",
      "metadata": {
        "id": "Z3VeaL1Njymh",
        "colab": {
          "base_uri": "https://localhost:8080/"
        },
        "outputId": "0585dcf2-0cce-4a44-b8c6-94685a8eaac3"
      },
      "source": [
        "test_loss, test_acc = model.evaluate(test_images, test_labels)\n",
        "test_acc"
      ],
      "execution_count": null,
      "outputs": [
        {
          "output_type": "stream",
          "text": [
            "313/313 [==============================] - 3s 8ms/step - loss: 0.0267 - accuracy: 0.9924\n"
          ],
          "name": "stdout"
        },
        {
          "output_type": "execute_result",
          "data": {
            "text/plain": [
              "0.9923999905586243"
            ]
          },
          "metadata": {
            "tags": []
          },
          "execution_count": 10
        }
      ]
    },
    {
      "cell_type": "code",
      "metadata": {
        "id": "wXNZOY7Sjymj",
        "colab": {
          "base_uri": "https://localhost:8080/",
          "height": 545
        },
        "outputId": "0ec986fb-fd3d-48df-f47c-dea3ad81410c"
      },
      "source": [
        "import matplotlib.pyplot as plt\n",
        "\n",
        "acc = history.history['accuracy']\n",
        "val_acc = history.history['val_accuracy']\n",
        "loss = history.history['loss']\n",
        "val_loss = history.history['val_loss']\n",
        "\n",
        "epochs = range(1, len(acc) + 1)\n",
        "\n",
        "plt.plot(epochs, acc, 'bo', label='Training acc')\n",
        "plt.plot(epochs, val_acc, 'b', label='Validation acc')\n",
        "plt.title('Training and validation accuracy')\n",
        "plt.legend()\n",
        "\n",
        "plt.figure()\n",
        "\n",
        "plt.plot(epochs, loss, 'bo', label='Training loss')\n",
        "plt.plot(epochs, val_loss, 'b', label='Validation loss')\n",
        "plt.title('Training and validation loss')\n",
        "plt.legend()\n",
        "\n",
        "plt.show()"
      ],
      "execution_count": null,
      "outputs": [
        {
          "output_type": "display_data",
          "data": {
            "image/png": "[encoded data removed]",
            "text/plain": [
              "<Figure size 432x288 with 1 Axes>"
            ]
          },
          "metadata": {
            "tags": [],
            "needs_background": "light"
          }
        },
        {
          "output_type": "display_data",
          "data": {
            "image/png": "[encoded data removed]",
            "text/plain": [
              "<Figure size 432x288 with 1 Axes>"
            ]
          },
          "metadata": {
            "tags": [],
            "needs_background": "light"
          }
        }
      ]
    },
    {
      "cell_type": "markdown",
      "metadata": {
        "id": "dsQMc0Iojyml"
      },
      "source": [
        "## Task 1\n",
        "\n",
        "Change the activation function and other parameters such as optimizer to see the effect on the network and it's performance. If possible create a grid search. "
      ]
    },
    {
      "cell_type": "code",
      "metadata": {
        "id": "owJ-29BrJXNa"
      },
      "source": [
        "from sklearn.model_selection import GridSearchCV"
      ],
      "execution_count": 3,
      "outputs": []
    },
    {
      "cell_type": "code",
      "metadata": {
        "id": "_3iHoPR2hnzl"
      },
      "source": [
        "import numpy as np"
      ],
      "execution_count": 4,
      "outputs": []
    },
    {
      "cell_type": "code",
      "metadata": {
        "id": "Byeh4fCPqtQr"
      },
      "source": [
        "import pandas as pd\r\n"
      ],
      "execution_count": 21,
      "outputs": []
    },
    {
      "cell_type": "code",
      "metadata": {
        "colab": {
          "base_uri": "https://localhost:8080/"
        },
        "id": "xnZ9tNvSd6xp",
        "outputId": "53232b21-0bce-437a-c3e9-b9cfe236d04b"
      },
      "source": [
        "(train_images, train_labels), (test_images, test_labels) = mnist.load_data()\r\n"
      ],
      "execution_count": 5,
      "outputs": [
        {
          "output_type": "stream",
          "text": [
            "Downloading data from https://storage.googleapis.com/tensorflow/tf-keras-datasets/mnist.npz\n",
            "11493376/11490434 [==============================] - 0s 0us/step\n"
          ],
          "name": "stdout"
        }
      ]
    },
    {
      "cell_type": "code",
      "metadata": {
        "id": "kYdlC_xFd96B"
      },
      "source": [
        "train_images = train_images.reshape((60000, 28, 28, 1))\r\n",
        "train_images = train_images.astype('float32') / 255\r\n",
        "test_images = test_images.reshape((10000, 28, 28, 1))\r\n",
        "test_images = test_images.astype('float32') / 255\r\n",
        "train_labels = to_categorical(train_labels)\r\n",
        "test_labels = to_categorical(test_labels)"
      ],
      "execution_count": 6,
      "outputs": []
    },
    {
      "cell_type": "code",
      "metadata": {
        "colab": {
          "base_uri": "https://localhost:8080/",
          "height": 1000
        },
        "id": "fHygM_k3kdre",
        "outputId": "875851fc-5401-4569-c469-319633ca2809"
      },
      "source": [
        "def create_model(optimizer='rmsprop', init='glorot_uniform', activation=\"relu\"):\r\n",
        "  model = models.Sequential()\r\n",
        "  model.add(layers.Conv2D(32, (3, 3), activation=activation, input_shape=(28, 28, 1)))\r\n",
        "  model.add(layers.MaxPooling2D((2, 2)))\r\n",
        "  model.add(layers.Conv2D(64, (3, 3), activation=activation))\r\n",
        "  model.add(layers.MaxPooling2D((2, 2)))\r\n",
        "  model.add(layers.Conv2D(64, (3, 3), activation=activation))\r\n",
        "  model.add(layers.Flatten())\r\n",
        "  model.add(layers.Dense(64, activation=activation))\r\n",
        "  model.add(layers.Dense(10, activation='softmax'))\r\n",
        "  model.compile(optimizer=optimizer, loss='categorical_crossentropy', metrics=['accuracy'])\r\n",
        "  return model\r\n",
        "\r\n",
        "from keras.wrappers.scikit_learn import KerasClassifier\r\n",
        "from sklearn.model_selection import GridSearchCV\r\n",
        "model = KerasClassifier(build_fn=create_model, verbose=1)\r\n",
        "# init = ['glorot_uniform', 'normal', 'uniform']\r\n",
        "\r\n",
        "optimizers = ['rmsprop', 'adam','SGD']\r\n",
        "activations = ['relu', 'sigmoid','tanh']\r\n",
        "epochs = [5]\r\n",
        "batches = [64]\r\n",
        "param_grid = dict(optimizer=optimizers,activation=activations,nb_epoch=epochs, batch_size=batches)\r\n",
        "grid = GridSearchCV(estimator=model, param_grid=param_grid, cv=5, n_jobs=1, verbose=3)\r\n",
        "grid_result = grid.fit(train_images, train_labels)\r\n",
        "\r\n",
        "df = pd.DataFrame(grid_result.cv_results_).drop([\"mean_fit_time\",\"std_fit_time\",\"mean_score_time\",\"std_score_time\"], axis =1).sort_values(by='rank_test_score')\r\n",
        "first_column = df.pop('rank_test_score') \r\n",
        "df.insert(0, 'rank_test_score', first_column) \r\n",
        "df"
      ],
      "execution_count": 53,
      "outputs": [
        {
          "output_type": "stream",
          "text": [
            "Fitting 5 folds for each of 9 candidates, totalling 45 fits\n",
            "[CV] activation=relu, batch_size=64, nb_epoch=5, optimizer=rmsprop ...\n"
          ],
          "name": "stdout"
        },
        {
          "output_type": "stream",
          "text": [
            "[Parallel(n_jobs=1)]: Using backend SequentialBackend with 1 concurrent workers.\n"
          ],
          "name": "stderr"
        },
        {
          "output_type": "stream",
          "text": [
            "750/750 [==============================] - 3s 4ms/step - loss: 0.4506 - accuracy: 0.8533\n",
            "188/188 [==============================] - 1s 3ms/step - loss: 0.0773 - accuracy: 0.9759\n",
            "[CV]  activation=relu, batch_size=64, nb_epoch=5, optimizer=rmsprop, score=0.976, total=   4.0s\n",
            "[CV] activation=relu, batch_size=64, nb_epoch=5, optimizer=rmsprop ...\n"
          ],
          "name": "stdout"
        },
        {
          "output_type": "stream",
          "text": [
            "[Parallel(n_jobs=1)]: Done   1 out of   1 | elapsed:    4.0s remaining:    0.0s\n"
          ],
          "name": "stderr"
        },
        {
          "output_type": "stream",
          "text": [
            "750/750 [==============================] - 4s 4ms/step - loss: 0.4611 - accuracy: 0.8523\n",
            "188/188 [==============================] - 1s 3ms/step - loss: 0.0805 - accuracy: 0.9755\n",
            "[CV]  activation=relu, batch_size=64, nb_epoch=5, optimizer=rmsprop, score=0.975, total=   4.3s\n",
            "[CV] activation=relu, batch_size=64, nb_epoch=5, optimizer=rmsprop ...\n"
          ],
          "name": "stdout"
        },
        {
          "output_type": "stream",
          "text": [
            "[Parallel(n_jobs=1)]: Done   2 out of   2 | elapsed:    8.3s remaining:    0.0s\n"
          ],
          "name": "stderr"
        },
        {
          "output_type": "stream",
          "text": [
            "750/750 [==============================] - 3s 4ms/step - loss: 0.4245 - accuracy: 0.8637\n",
            "188/188 [==============================] - 1s 3ms/step - loss: 0.0586 - accuracy: 0.9833\n",
            "[CV]  activation=relu, batch_size=64, nb_epoch=5, optimizer=rmsprop, score=0.983, total=   4.1s\n",
            "[CV] activation=relu, batch_size=64, nb_epoch=5, optimizer=rmsprop ...\n",
            "750/750 [==============================] - 3s 4ms/step - loss: 0.4632 - accuracy: 0.8491\n",
            "188/188 [==============================] - 1s 3ms/step - loss: 0.0865 - accuracy: 0.9736\n",
            "[CV]  activation=relu, batch_size=64, nb_epoch=5, optimizer=rmsprop, score=0.974, total=   4.0s\n",
            "[CV] activation=relu, batch_size=64, nb_epoch=5, optimizer=rmsprop ...\n",
            "750/750 [==============================] - 3s 4ms/step - loss: 0.4611 - accuracy: 0.8521\n",
            "188/188 [==============================] - 1s 3ms/step - loss: 0.0878 - accuracy: 0.9707\n",
            "[CV]  activation=relu, batch_size=64, nb_epoch=5, optimizer=rmsprop, score=0.971, total=   4.1s\n",
            "[CV] activation=relu, batch_size=64, nb_epoch=5, optimizer=adam ......\n",
            "750/750 [==============================] - 3s 3ms/step - loss: 0.4900 - accuracy: 0.8456\n",
            "188/188 [==============================] - 1s 3ms/step - loss: 0.0799 - accuracy: 0.9761\n",
            "[CV]  activation=relu, batch_size=64, nb_epoch=5, optimizer=adam, score=0.976, total=   3.6s\n",
            "[CV] activation=relu, batch_size=64, nb_epoch=5, optimizer=adam ......\n",
            "750/750 [==============================] - 3s 3ms/step - loss: 0.4624 - accuracy: 0.8592\n",
            "188/188 [==============================] - 1s 3ms/step - loss: 0.0781 - accuracy: 0.9747\n",
            "[CV]  activation=relu, batch_size=64, nb_epoch=5, optimizer=adam, score=0.975, total=   3.8s\n",
            "[CV] activation=relu, batch_size=64, nb_epoch=5, optimizer=adam ......\n",
            "750/750 [==============================] - 3s 3ms/step - loss: 0.5195 - accuracy: 0.8312\n",
            "188/188 [==============================] - 1s 3ms/step - loss: 0.0687 - accuracy: 0.9794\n",
            "[CV]  activation=relu, batch_size=64, nb_epoch=5, optimizer=adam, score=0.979, total=   3.5s\n",
            "[CV] activation=relu, batch_size=64, nb_epoch=5, optimizer=adam ......\n",
            "750/750 [==============================] - 3s 3ms/step - loss: 0.4791 - accuracy: 0.8540\n",
            "188/188 [==============================] - 1s 2ms/step - loss: 0.0739 - accuracy: 0.9768\n",
            "[CV]  activation=relu, batch_size=64, nb_epoch=5, optimizer=adam, score=0.977, total=   3.8s\n",
            "[CV] activation=relu, batch_size=64, nb_epoch=5, optimizer=adam ......\n",
            "750/750 [==============================] - 3s 3ms/step - loss: 0.4803 - accuracy: 0.8586\n",
            "188/188 [==============================] - 1s 3ms/step - loss: 0.0709 - accuracy: 0.9773\n",
            "[CV]  activation=relu, batch_size=64, nb_epoch=5, optimizer=adam, score=0.977, total=   3.7s\n",
            "[CV] activation=relu, batch_size=64, nb_epoch=5, optimizer=SGD .......\n",
            "750/750 [==============================] - 3s 3ms/step - loss: 1.8325 - accuracy: 0.4167\n",
            "188/188 [==============================] - 1s 2ms/step - loss: 0.3590 - accuracy: 0.8909\n",
            "[CV]  activation=relu, batch_size=64, nb_epoch=5, optimizer=SGD, score=0.891, total=   3.4s\n",
            "[CV] activation=relu, batch_size=64, nb_epoch=5, optimizer=SGD .......\n",
            "750/750 [==============================] - 3s 3ms/step - loss: 1.7451 - accuracy: 0.4630\n",
            "188/188 [==============================] - 1s 2ms/step - loss: 0.3344 - accuracy: 0.8992\n",
            "[CV]  activation=relu, batch_size=64, nb_epoch=5, optimizer=SGD, score=0.899, total=   3.3s\n",
            "[CV] activation=relu, batch_size=64, nb_epoch=5, optimizer=SGD .......\n",
            "750/750 [==============================] - 3s 3ms/step - loss: 1.7895 - accuracy: 0.4317\n",
            "188/188 [==============================] - 1s 2ms/step - loss: 0.3755 - accuracy: 0.8831\n",
            "[CV]  activation=relu, batch_size=64, nb_epoch=5, optimizer=SGD, score=0.883, total=   3.4s\n",
            "[CV] activation=relu, batch_size=64, nb_epoch=5, optimizer=SGD .......\n",
            "750/750 [==============================] - 3s 3ms/step - loss: 1.7416 - accuracy: 0.4853\n",
            "188/188 [==============================] - 1s 3ms/step - loss: 0.3887 - accuracy: 0.8798\n",
            "[CV]  activation=relu, batch_size=64, nb_epoch=5, optimizer=SGD, score=0.880, total=   3.6s\n",
            "[CV] activation=relu, batch_size=64, nb_epoch=5, optimizer=SGD .......\n",
            "750/750 [==============================] - 3s 3ms/step - loss: 1.7566 - accuracy: 0.4397\n",
            "188/188 [==============================] - 1s 3ms/step - loss: 0.3129 - accuracy: 0.9054\n",
            "[CV]  activation=relu, batch_size=64, nb_epoch=5, optimizer=SGD, score=0.905, total=   3.6s\n",
            "[CV] activation=sigmoid, batch_size=64, nb_epoch=5, optimizer=rmsprop \n",
            "750/750 [==============================] - 3s 4ms/step - loss: 1.7199 - accuracy: 0.3900\n",
            "188/188 [==============================] - 1s 3ms/step - loss: 0.2914 - accuracy: 0.9165\n",
            "[CV]  activation=sigmoid, batch_size=64, nb_epoch=5, optimizer=rmsprop, score=0.916, total=   4.2s\n",
            "[CV] activation=sigmoid, batch_size=64, nb_epoch=5, optimizer=rmsprop \n",
            "750/750 [==============================] - 3s 4ms/step - loss: 1.8095 - accuracy: 0.3455\n",
            "188/188 [==============================] - 1s 3ms/step - loss: 0.3167 - accuracy: 0.9099\n",
            "[CV]  activation=sigmoid, batch_size=64, nb_epoch=5, optimizer=rmsprop, score=0.910, total=   4.2s\n",
            "[CV] activation=sigmoid, batch_size=64, nb_epoch=5, optimizer=rmsprop \n",
            "750/750 [==============================] - 4s 4ms/step - loss: 1.7293 - accuracy: 0.3835\n",
            "188/188 [==============================] - 1s 3ms/step - loss: 0.3651 - accuracy: 0.8947\n",
            "[CV]  activation=sigmoid, batch_size=64, nb_epoch=5, optimizer=rmsprop, score=0.895, total=   4.5s\n",
            "[CV] activation=sigmoid, batch_size=64, nb_epoch=5, optimizer=rmsprop \n",
            "750/750 [==============================] - 3s 3ms/step - loss: 1.6613 - accuracy: 0.4146\n",
            "188/188 [==============================] - 1s 2ms/step - loss: 0.3154 - accuracy: 0.9076\n",
            "[CV]  activation=sigmoid, batch_size=64, nb_epoch=5, optimizer=rmsprop, score=0.908, total=   3.9s\n",
            "[CV] activation=sigmoid, batch_size=64, nb_epoch=5, optimizer=rmsprop \n",
            "750/750 [==============================] - 3s 3ms/step - loss: 1.7572 - accuracy: 0.3736\n",
            "188/188 [==============================] - 1s 2ms/step - loss: 0.3215 - accuracy: 0.9072\n",
            "[CV]  activation=sigmoid, batch_size=64, nb_epoch=5, optimizer=rmsprop, score=0.907, total=   3.9s\n",
            "[CV] activation=sigmoid, batch_size=64, nb_epoch=5, optimizer=adam ...\n",
            "750/750 [==============================] - 3s 3ms/step - loss: 1.8226 - accuracy: 0.3370\n",
            "188/188 [==============================] - 1s 3ms/step - loss: 0.2693 - accuracy: 0.9285\n",
            "[CV]  activation=sigmoid, batch_size=64, nb_epoch=5, optimizer=adam, score=0.928, total=   3.6s\n",
            "[CV] activation=sigmoid, batch_size=64, nb_epoch=5, optimizer=adam ...\n",
            "750/750 [==============================] - 3s 3ms/step - loss: 1.7860 - accuracy: 0.3506\n",
            "188/188 [==============================] - 1s 3ms/step - loss: 0.2844 - accuracy: 0.9253\n",
            "[CV]  activation=sigmoid, batch_size=64, nb_epoch=5, optimizer=adam, score=0.925, total=   3.6s\n",
            "[CV] activation=sigmoid, batch_size=64, nb_epoch=5, optimizer=adam ...\n",
            "750/750 [==============================] - 3s 3ms/step - loss: 1.7626 - accuracy: 0.3638\n",
            "188/188 [==============================] - 1s 2ms/step - loss: 0.2536 - accuracy: 0.9326\n",
            "[CV]  activation=sigmoid, batch_size=64, nb_epoch=5, optimizer=adam, score=0.933, total=   3.5s\n",
            "[CV] activation=sigmoid, batch_size=64, nb_epoch=5, optimizer=adam ...\n",
            "750/750 [==============================] - 3s 3ms/step - loss: 1.7762 - accuracy: 0.3546\n",
            "188/188 [==============================] - 1s 3ms/step - loss: 0.2621 - accuracy: 0.9294\n",
            "[CV]  activation=sigmoid, batch_size=64, nb_epoch=5, optimizer=adam, score=0.929, total=   3.7s\n",
            "[CV] activation=sigmoid, batch_size=64, nb_epoch=5, optimizer=adam ...\n",
            "750/750 [==============================] - 3s 3ms/step - loss: 1.7234 - accuracy: 0.3790\n",
            "188/188 [==============================] - 1s 2ms/step - loss: 0.2128 - accuracy: 0.9425\n",
            "[CV]  activation=sigmoid, batch_size=64, nb_epoch=5, optimizer=adam, score=0.942, total=   3.8s\n",
            "[CV] activation=sigmoid, batch_size=64, nb_epoch=5, optimizer=SGD ....\n",
            "750/750 [==============================] - 3s 3ms/step - loss: 2.3293 - accuracy: 0.1063\n",
            "188/188 [==============================] - 1s 3ms/step - loss: 2.3014 - accuracy: 0.1066\n",
            "[CV]  activation=sigmoid, batch_size=64, nb_epoch=5, optimizer=SGD, score=0.107, total=   3.5s\n",
            "[CV] activation=sigmoid, batch_size=64, nb_epoch=5, optimizer=SGD ....\n",
            "750/750 [==============================] - 3s 3ms/step - loss: 2.3185 - accuracy: 0.1080\n",
            "188/188 [==============================] - 1s 2ms/step - loss: 2.3022 - accuracy: 0.1151\n",
            "[CV]  activation=sigmoid, batch_size=64, nb_epoch=5, optimizer=SGD, score=0.115, total=   3.6s\n",
            "[CV] activation=sigmoid, batch_size=64, nb_epoch=5, optimizer=SGD ....\n",
            "750/750 [==============================] - 3s 3ms/step - loss: 2.3122 - accuracy: 0.1074\n",
            "188/188 [==============================] - 1s 3ms/step - loss: 2.3018 - accuracy: 0.1151\n",
            "[CV]  activation=sigmoid, batch_size=64, nb_epoch=5, optimizer=SGD, score=0.115, total=   3.7s\n",
            "[CV] activation=sigmoid, batch_size=64, nb_epoch=5, optimizer=SGD ....\n",
            "750/750 [==============================] - 3s 3ms/step - loss: 2.3211 - accuracy: 0.1046\n",
            "188/188 [==============================] - 1s 2ms/step - loss: 2.3024 - accuracy: 0.1131\n",
            "[CV]  activation=sigmoid, batch_size=64, nb_epoch=5, optimizer=SGD, score=0.113, total=   3.5s\n",
            "[CV] activation=sigmoid, batch_size=64, nb_epoch=5, optimizer=SGD ....\n",
            "750/750 [==============================] - 3s 3ms/step - loss: 2.3201 - accuracy: 0.1054\n",
            "188/188 [==============================] - 1s 2ms/step - loss: 2.3027 - accuracy: 0.1060\n",
            "[CV]  activation=sigmoid, batch_size=64, nb_epoch=5, optimizer=SGD, score=0.106, total=   3.5s\n",
            "[CV] activation=tanh, batch_size=64, nb_epoch=5, optimizer=rmsprop ...\n",
            "750/750 [==============================] - 3s 4ms/step - loss: 0.3565 - accuracy: 0.8938\n",
            "188/188 [==============================] - 1s 2ms/step - loss: 0.0793 - accuracy: 0.9775\n",
            "[CV]  activation=tanh, batch_size=64, nb_epoch=5, optimizer=rmsprop, score=0.978, total=   4.2s\n",
            "[CV] activation=tanh, batch_size=64, nb_epoch=5, optimizer=rmsprop ...\n",
            "750/750 [==============================] - 4s 4ms/step - loss: 0.3428 - accuracy: 0.8999\n",
            "188/188 [==============================] - 1s 3ms/step - loss: 0.0576 - accuracy: 0.9827\n",
            "[CV]  activation=tanh, batch_size=64, nb_epoch=5, optimizer=rmsprop, score=0.983, total=   4.3s\n",
            "[CV] activation=tanh, batch_size=64, nb_epoch=5, optimizer=rmsprop ...\n",
            "750/750 [==============================] - 3s 4ms/step - loss: 0.3428 - accuracy: 0.9033\n",
            "188/188 [==============================] - 1s 3ms/step - loss: 0.0654 - accuracy: 0.9806\n",
            "[CV]  activation=tanh, batch_size=64, nb_epoch=5, optimizer=rmsprop, score=0.981, total=   4.0s\n",
            "[CV] activation=tanh, batch_size=64, nb_epoch=5, optimizer=rmsprop ...\n",
            "750/750 [==============================] - 3s 4ms/step - loss: 0.3280 - accuracy: 0.9021\n",
            "188/188 [==============================] - 1s 2ms/step - loss: 0.0731 - accuracy: 0.9783\n",
            "[CV]  activation=tanh, batch_size=64, nb_epoch=5, optimizer=rmsprop, score=0.978, total=   4.4s\n",
            "[CV] activation=tanh, batch_size=64, nb_epoch=5, optimizer=rmsprop ...\n",
            "750/750 [==============================] - 3s 4ms/step - loss: 0.3776 - accuracy: 0.8887\n",
            "188/188 [==============================] - 1s 3ms/step - loss: 0.0709 - accuracy: 0.9793\n",
            "[CV]  activation=tanh, batch_size=64, nb_epoch=5, optimizer=rmsprop, score=0.979, total=   4.2s\n",
            "[CV] activation=tanh, batch_size=64, nb_epoch=5, optimizer=adam ......\n",
            "750/750 [==============================] - 3s 3ms/step - loss: 0.4236 - accuracy: 0.8782\n",
            "188/188 [==============================] - 1s 3ms/step - loss: 0.0656 - accuracy: 0.9808\n",
            "[CV]  activation=tanh, batch_size=64, nb_epoch=5, optimizer=adam, score=0.981, total=   3.8s\n",
            "[CV] activation=tanh, batch_size=64, nb_epoch=5, optimizer=adam ......\n",
            "750/750 [==============================] - 3s 3ms/step - loss: 0.3919 - accuracy: 0.8859\n",
            "188/188 [==============================] - 1s 3ms/step - loss: 0.0684 - accuracy: 0.9805\n",
            "[CV]  activation=tanh, batch_size=64, nb_epoch=5, optimizer=adam, score=0.980, total=   3.8s\n",
            "[CV] activation=tanh, batch_size=64, nb_epoch=5, optimizer=adam ......\n",
            "750/750 [==============================] - 3s 3ms/step - loss: 0.4086 - accuracy: 0.8794\n",
            "188/188 [==============================] - 1s 3ms/step - loss: 0.0741 - accuracy: 0.9777\n",
            "[CV]  activation=tanh, batch_size=64, nb_epoch=5, optimizer=adam, score=0.978, total=   3.7s\n",
            "[CV] activation=tanh, batch_size=64, nb_epoch=5, optimizer=adam ......\n",
            "750/750 [==============================] - 3s 3ms/step - loss: 0.4198 - accuracy: 0.8811\n",
            "188/188 [==============================] - 1s 2ms/step - loss: 0.0725 - accuracy: 0.9789\n",
            "[CV]  activation=tanh, batch_size=64, nb_epoch=5, optimizer=adam, score=0.979, total=   3.7s\n",
            "[CV] activation=tanh, batch_size=64, nb_epoch=5, optimizer=adam ......\n",
            "750/750 [==============================] - 3s 3ms/step - loss: 0.4236 - accuracy: 0.8753\n",
            "188/188 [==============================] - 1s 2ms/step - loss: 0.0734 - accuracy: 0.9788\n",
            "[CV]  activation=tanh, batch_size=64, nb_epoch=5, optimizer=adam, score=0.979, total=   3.6s\n",
            "[CV] activation=tanh, batch_size=64, nb_epoch=5, optimizer=SGD .......\n",
            "750/750 [==============================] - 3s 3ms/step - loss: 1.3939 - accuracy: 0.6495\n",
            "188/188 [==============================] - 1s 3ms/step - loss: 0.3953 - accuracy: 0.8932\n",
            "[CV]  activation=tanh, batch_size=64, nb_epoch=5, optimizer=SGD, score=0.893, total=   3.4s\n",
            "[CV] activation=tanh, batch_size=64, nb_epoch=5, optimizer=SGD .......\n",
            "750/750 [==============================] - 3s 3ms/step - loss: 1.4064 - accuracy: 0.6359\n",
            "188/188 [==============================] - 1s 3ms/step - loss: 0.4206 - accuracy: 0.8899\n",
            "[CV]  activation=tanh, batch_size=64, nb_epoch=5, optimizer=SGD, score=0.890, total=   3.8s\n",
            "[CV] activation=tanh, batch_size=64, nb_epoch=5, optimizer=SGD .......\n",
            "750/750 [==============================] - 3s 3ms/step - loss: 1.3956 - accuracy: 0.6531\n",
            "188/188 [==============================] - 1s 3ms/step - loss: 0.4135 - accuracy: 0.8878\n",
            "[CV]  activation=tanh, batch_size=64, nb_epoch=5, optimizer=SGD, score=0.888, total=   3.6s\n",
            "[CV] activation=tanh, batch_size=64, nb_epoch=5, optimizer=SGD .......\n",
            "750/750 [==============================] - 3s 3ms/step - loss: 1.4147 - accuracy: 0.6345\n",
            "188/188 [==============================] - 1s 3ms/step - loss: 0.3988 - accuracy: 0.8945\n",
            "[CV]  activation=tanh, batch_size=64, nb_epoch=5, optimizer=SGD, score=0.895, total=   3.5s\n",
            "[CV] activation=tanh, batch_size=64, nb_epoch=5, optimizer=SGD .......\n",
            "750/750 [==============================] - 3s 3ms/step - loss: 1.3574 - accuracy: 0.6593\n",
            "188/188 [==============================] - 1s 3ms/step - loss: 0.3630 - accuracy: 0.9041\n",
            "[CV]  activation=tanh, batch_size=64, nb_epoch=5, optimizer=SGD, score=0.904, total=   3.5s\n"
          ],
          "name": "stdout"
        },
        {
          "output_type": "stream",
          "text": [
            "[Parallel(n_jobs=1)]: Done  45 out of  45 | elapsed:  2.8min finished\n"
          ],
          "name": "stderr"
        },
        {
          "output_type": "stream",
          "text": [
            "938/938 [==============================] - 4s 4ms/step - loss: 0.3057 - accuracy: 0.9095\n"
          ],
          "name": "stdout"
        },
        {
          "output_type": "execute_result",
          "data": {
            "text/html": [
              "<div>\n",
              "<style scoped>\n",
              "    .dataframe tbody tr th:only-of-type {\n",
              "        vertical-align: middle;\n",
              "    }\n",
              "\n",
              "    .dataframe tbody tr th {\n",
              "        vertical-align: top;\n",
              "    }\n",
              "\n",
              "    .dataframe thead th {\n",
              "        text-align: right;\n",
              "    }\n",
              "</style>\n",
              "<table border=\"1\" class=\"dataframe\">\n",
              "  <thead>\n",
              "    <tr style=\"text-align: right;\">\n",
              "      <th></th>\n",
              "      <th>rank_test_score</th>\n",
              "      <th>param_activation</th>\n",
              "      <th>param_batch_size</th>\n",
              "      <th>param_nb_epoch</th>\n",
              "      <th>param_optimizer</th>\n",
              "      <th>params</th>\n",
              "      <th>split0_test_score</th>\n",
              "      <th>split1_test_score</th>\n",
              "      <th>split2_test_score</th>\n",
              "      <th>split3_test_score</th>\n",
              "      <th>split4_test_score</th>\n",
              "      <th>mean_test_score</th>\n",
              "      <th>std_test_score</th>\n",
              "    </tr>\n",
              "  </thead>\n",
              "  <tbody>\n",
              "    <tr>\n",
              "      <th>6</th>\n",
              "      <td>1</td>\n",
              "      <td>tanh</td>\n",
              "      <td>64</td>\n",
              "      <td>5</td>\n",
              "      <td>rmsprop</td>\n",
              "      <td>{'activation': 'tanh', 'batch_size': 64, 'nb_e...</td>\n",
              "      <td>0.977500</td>\n",
              "      <td>0.982750</td>\n",
              "      <td>0.980583</td>\n",
              "      <td>0.978333</td>\n",
              "      <td>0.979250</td>\n",
              "      <td>0.979683</td>\n",
              "      <td>0.001843</td>\n",
              "    </tr>\n",
              "    <tr>\n",
              "      <th>7</th>\n",
              "      <td>2</td>\n",
              "      <td>tanh</td>\n",
              "      <td>64</td>\n",
              "      <td>5</td>\n",
              "      <td>adam</td>\n",
              "      <td>{'activation': 'tanh', 'batch_size': 64, 'nb_e...</td>\n",
              "      <td>0.980750</td>\n",
              "      <td>0.980500</td>\n",
              "      <td>0.977667</td>\n",
              "      <td>0.978917</td>\n",
              "      <td>0.978833</td>\n",
              "      <td>0.979333</td>\n",
              "      <td>0.001146</td>\n",
              "    </tr>\n",
              "    <tr>\n",
              "      <th>1</th>\n",
              "      <td>3</td>\n",
              "      <td>relu</td>\n",
              "      <td>64</td>\n",
              "      <td>5</td>\n",
              "      <td>adam</td>\n",
              "      <td>{'activation': 'relu', 'batch_size': 64, 'nb_e...</td>\n",
              "      <td>0.976083</td>\n",
              "      <td>0.974750</td>\n",
              "      <td>0.979417</td>\n",
              "      <td>0.976750</td>\n",
              "      <td>0.977333</td>\n",
              "      <td>0.976867</td>\n",
              "      <td>0.001538</td>\n",
              "    </tr>\n",
              "    <tr>\n",
              "      <th>0</th>\n",
              "      <td>4</td>\n",
              "      <td>relu</td>\n",
              "      <td>64</td>\n",
              "      <td>5</td>\n",
              "      <td>rmsprop</td>\n",
              "      <td>{'activation': 'relu', 'batch_size': 64, 'nb_e...</td>\n",
              "      <td>0.975917</td>\n",
              "      <td>0.975500</td>\n",
              "      <td>0.983333</td>\n",
              "      <td>0.973583</td>\n",
              "      <td>0.970750</td>\n",
              "      <td>0.975817</td>\n",
              "      <td>0.004178</td>\n",
              "    </tr>\n",
              "    <tr>\n",
              "      <th>4</th>\n",
              "      <td>5</td>\n",
              "      <td>sigmoid</td>\n",
              "      <td>64</td>\n",
              "      <td>5</td>\n",
              "      <td>adam</td>\n",
              "      <td>{'activation': 'sigmoid', 'batch_size': 64, 'n...</td>\n",
              "      <td>0.928500</td>\n",
              "      <td>0.925333</td>\n",
              "      <td>0.932583</td>\n",
              "      <td>0.929417</td>\n",
              "      <td>0.942500</td>\n",
              "      <td>0.931667</td>\n",
              "      <td>0.005889</td>\n",
              "    </tr>\n",
              "    <tr>\n",
              "      <th>3</th>\n",
              "      <td>6</td>\n",
              "      <td>sigmoid</td>\n",
              "      <td>64</td>\n",
              "      <td>5</td>\n",
              "      <td>rmsprop</td>\n",
              "      <td>{'activation': 'sigmoid', 'batch_size': 64, 'n...</td>\n",
              "      <td>0.916500</td>\n",
              "      <td>0.909917</td>\n",
              "      <td>0.894750</td>\n",
              "      <td>0.907583</td>\n",
              "      <td>0.907250</td>\n",
              "      <td>0.907200</td>\n",
              "      <td>0.007057</td>\n",
              "    </tr>\n",
              "    <tr>\n",
              "      <th>8</th>\n",
              "      <td>7</td>\n",
              "      <td>tanh</td>\n",
              "      <td>64</td>\n",
              "      <td>5</td>\n",
              "      <td>SGD</td>\n",
              "      <td>{'activation': 'tanh', 'batch_size': 64, 'nb_e...</td>\n",
              "      <td>0.893167</td>\n",
              "      <td>0.889917</td>\n",
              "      <td>0.887833</td>\n",
              "      <td>0.894500</td>\n",
              "      <td>0.904083</td>\n",
              "      <td>0.893900</td>\n",
              "      <td>0.005608</td>\n",
              "    </tr>\n",
              "    <tr>\n",
              "      <th>2</th>\n",
              "      <td>8</td>\n",
              "      <td>relu</td>\n",
              "      <td>64</td>\n",
              "      <td>5</td>\n",
              "      <td>SGD</td>\n",
              "      <td>{'activation': 'relu', 'batch_size': 64, 'nb_e...</td>\n",
              "      <td>0.890917</td>\n",
              "      <td>0.899167</td>\n",
              "      <td>0.883083</td>\n",
              "      <td>0.879833</td>\n",
              "      <td>0.905417</td>\n",
              "      <td>0.891683</td>\n",
              "      <td>0.009587</td>\n",
              "    </tr>\n",
              "    <tr>\n",
              "      <th>5</th>\n",
              "      <td>9</td>\n",
              "      <td>sigmoid</td>\n",
              "      <td>64</td>\n",
              "      <td>5</td>\n",
              "      <td>SGD</td>\n",
              "      <td>{'activation': 'sigmoid', 'batch_size': 64, 'n...</td>\n",
              "      <td>0.106583</td>\n",
              "      <td>0.115083</td>\n",
              "      <td>0.115083</td>\n",
              "      <td>0.113083</td>\n",
              "      <td>0.106000</td>\n",
              "      <td>0.111167</td>\n",
              "      <td>0.004051</td>\n",
              "    </tr>\n",
              "  </tbody>\n",
              "</table>\n",
              "</div>"
            ],
            "text/plain": [
              "   rank_test_score param_activation  ... mean_test_score std_test_score\n",
              "6                1             tanh  ...        0.979683       0.001843\n",
              "7                2             tanh  ...        0.979333       0.001146\n",
              "1                3             relu  ...        0.976867       0.001538\n",
              "0                4             relu  ...        0.975817       0.004178\n",
              "4                5          sigmoid  ...        0.931667       0.005889\n",
              "3                6          sigmoid  ...        0.907200       0.007057\n",
              "8                7             tanh  ...        0.893900       0.005608\n",
              "2                8             relu  ...        0.891683       0.009587\n",
              "5                9          sigmoid  ...        0.111167       0.004051\n",
              "\n",
              "[9 rows x 13 columns]"
            ]
          },
          "metadata": {
            "tags": []
          },
          "execution_count": 53
        }
      ]
    },
    {
      "cell_type": "code",
      "metadata": {
        "id": "Oe14nepgqpQT"
      },
      "source": [
        ""
      ],
      "execution_count": 23,
      "outputs": []
    }
  ]
}