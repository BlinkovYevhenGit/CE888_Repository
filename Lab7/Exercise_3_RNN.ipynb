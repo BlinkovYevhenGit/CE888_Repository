{
  "nbformat": 4,
  "nbformat_minor": 0,
  "metadata": {
    "kernelspec": {
      "display_name": "Python 3",
      "language": "python",
      "name": "python3"
    },
    "language_info": {
      "codemirror_mode": {
        "name": "ipython",
        "version": 3
      },
      "file_extension": ".py",
      "mimetype": "text/x-python",
      "name": "python",
      "nbconvert_exporter": "python",
      "pygments_lexer": "ipython3",
      "version": "3.6.5"
    },
    "colab": {
      "name": "Exercise_3_RNN.ipynb",
      "provenance": [],
      "collapsed_sections": [],
      "include_colab_link": true
    }
  },
  "cells": [
    {
      "cell_type": "markdown",
      "metadata": {
        "id": "view-in-github",
        "colab_type": "text"
      },
      "source": [
        "<a href=\"https://colab.research.google.com/github/BlinkovYevhenGit/CE888_Repository/blob/main/Lab7/Exercise_3_RNN.ipynb\" target=\"_parent\"><img src=\"https://colab.research.google.com/assets/colab-badge.svg\" alt=\"Open In Colab\"/></a>"
      ]
    },
    {
      "cell_type": "markdown",
      "metadata": {
        "id": "r69U5tFUZ82R"
      },
      "source": [
        "### Task 3: \n",
        "\n",
        "Please consider this Time Series Prediction with LSTM Recurrent Neural Networks. We can see that the LSTM model in the code below has an average error of about 23 passengers (in thousands) on the training dataset, and about 53 passengers (in thousands) on the test dataset. Not that bad. Can you please improve the performance?\n",
        "\n",
        "#### Dataset Discription\n",
        "The problem we are going to look at in this post is the International Airline Passengers prediction problem.\n",
        "This is a problem where, given a year and a month, the task is to predict the number of international airline passengers in units of 1,000. The data ranges from January 1949 to December 1960, or 12 years, with 144 observations.\n",
        "\n"
      ]
    },
    {
      "cell_type": "code",
      "metadata": {
        "id": "w1vSusoyatCW"
      },
      "source": [
        "import numpy\n",
        "import math\n",
        "import matplotlib.pyplot as plt\n",
        "from pandas import read_csv\n",
        "from keras.models import Sequential\n",
        "from keras.layers import Dense\n",
        "from keras.layers import LSTM\n",
        "from sklearn.preprocessing import MinMaxScaler\n",
        "from sklearn.metrics import mean_squared_error\n"
      ],
      "execution_count": null,
      "outputs": []
    },
    {
      "cell_type": "markdown",
      "metadata": {
        "id": "ZSz24HhlbUPF"
      },
      "source": [
        ""
      ]
    },
    {
      "cell_type": "code",
      "metadata": {
        "id": "usaeeWvhcy6p"
      },
      "source": [
        "# convert an array of values into a dataset matrix\n",
        "def create_dataset(dataset, look_back=1):\n",
        "\tdataX, dataY = [], []\n",
        "\tfor i in range(len(dataset)-look_back-1):\n",
        "\t\ta = dataset[i:(i+look_back), 0]\n",
        "\t\tdataX.append(a)\n",
        "\t\tdataY.append(dataset[i + look_back, 0])\n",
        "\treturn numpy.array(dataX), numpy.array(dataY)\n"
      ],
      "execution_count": null,
      "outputs": []
    },
    {
      "cell_type": "code",
      "metadata": {
        "id": "yfRhWVOScyy7"
      },
      "source": [
        "# fix random seed for reproducibility\n",
        "numpy.random.seed(7)\n",
        "# load the dataset\n",
        "dataframe = read_csv('https://raw.githubusercontent.com/jbrownlee/Datasets/master/airline-passengers.csv', usecols=[1], engine='python')\n",
        "dataset = dataframe.values\n",
        "dataset = dataset.astype('float32')\n",
        "\n"
      ],
      "execution_count": null,
      "outputs": []
    },
    {
      "cell_type": "code",
      "metadata": {
        "id": "0Ie50Ljecyod"
      },
      "source": [
        "# normalize the dataset\n",
        "scaler = MinMaxScaler(feature_range=(0, 1))\n",
        "dataset = scaler.fit_transform(dataset)"
      ],
      "execution_count": null,
      "outputs": []
    },
    {
      "cell_type": "code",
      "metadata": {
        "id": "yxVmEQGTdhQA"
      },
      "source": [
        "# split into train and test sets\n",
        "train_size = int(len(dataset) * 0.67)\n",
        "test_size = len(dataset) - train_size\n",
        "train, test = dataset[0:train_size,:], dataset[train_size:len(dataset),:]"
      ],
      "execution_count": null,
      "outputs": []
    },
    {
      "cell_type": "code",
      "metadata": {
        "id": "fLI62Fy8dhNH"
      },
      "source": [
        "# reshape into X=t and Y=t+1\n",
        "look_back = 15\n",
        "trainX, trainY = create_dataset(train, look_back)\n",
        "testX,testY=create_dataset(test,look_back)"
      ],
      "execution_count": null,
      "outputs": []
    },
    {
      "cell_type": "code",
      "metadata": {
        "id": "_36xCXbsprjc"
      },
      "source": [
        "# https://hub.packtpub.com/cross-validation-strategies-for-time-series-forecasting-tutorial/\n",
        "import numpy as np\n",
        "class BlockingTimeSeriesSplit():\n",
        "    def __init__(self, n_splits):\n",
        "        self.n_splits = n_splits\n",
        "    \n",
        "    def get_n_splits(self, X, y, groups):\n",
        "        return self.n_splits\n",
        "    \n",
        "    def split(self, X, y=None, groups=None):\n",
        "        n_samples = len(X)\n",
        "        k_fold_size = n_samples // self.n_splits\n",
        "        indices = np.arange(n_samples)\n",
        "\n",
        "        margin = 0\n",
        "        for i in range(self.n_splits):\n",
        "            start = i * k_fold_size\n",
        "            stop = start + k_fold_size\n",
        "            mid = int(0.8 * (stop - start)) + start\n",
        "            yield indices[start: mid], indices[mid + margin: stop]"
      ],
      "execution_count": null,
      "outputs": []
    },
    {
      "cell_type": "code",
      "metadata": {
        "id": "uxCnWhTpJaHp"
      },
      "source": [
        " # create and fit the LSTM \n",
        "model = Sequential()\n",
        "model.add(LSTM(40, input_shape=(1, look_back)))\n",
        "model.add(Dense(20))\n",
        "model.add(Dense(10))\n",
        "model.add(Dense(5))\n",
        "model.add(Dense(2))\n",
        "model.add(Dense(1))\n",
        "model.compile(loss='mean_squared_error', metrics = ['mean_squared_error'], optimizer='rmsprop')\n"
      ],
      "execution_count": null,
      "outputs": []
    },
    {
      "cell_type": "code",
      "metadata": {
        "id": "hwuqliqzlv3s",
        "colab": {
          "base_uri": "https://localhost:8080/"
        },
        "outputId": "91cb41a7-2fbb-4782-b4ac-7a99bfa319b8"
      },
      "source": [
        "btss = BlockingTimeSeriesSplit(n_splits=5)\n",
        "cvscores = []\n",
        "for train_index, test_index in btss.split(trainX):\n",
        "  X_train, X_val = trainX[train_index], trainX[test_index]\n",
        "  y_train, y_val = trainY[train_index], trainY[test_index]\n",
        "\n",
        "    # reshape input to be [samples, time steps, features]\n",
        "  X_train = numpy.reshape(X_train, (X_train.shape[0], 1, X_train.shape[1]))\n",
        "  X_val = numpy.reshape(X_val, (X_val.shape[0], 1, X_val.shape[1]))\n",
        "  # create and fit the LSTM \n",
        "  model.fit(X_train, y_train,epochs=150, batch_size=1, verbose=0)\n",
        "\n",
        "  # evaluate the model\n",
        "  scores = model.evaluate(X_val, y_val, verbose=1)\n",
        "  cvscores.append(scores[1])\n",
        "print(\"%.3f (+/- %.3f)\" % (numpy.mean(cvscores), numpy.std(cvscores)))"
      ],
      "execution_count": null,
      "outputs": [
        {
          "output_type": "stream",
          "text": [
            "1/1 [==============================] - 1s 541ms/step - loss: 0.0026 - mean_squared_error: 0.0026\n",
            "1/1 [==============================] - 0s 19ms/step - loss: 2.7062e-04 - mean_squared_error: 2.7062e-04\n",
            "1/1 [==============================] - 0s 21ms/step - loss: 5.7779e-04 - mean_squared_error: 5.7779e-04\n",
            "1/1 [==============================] - 0s 17ms/step - loss: 0.0029 - mean_squared_error: 0.0029\n",
            "1/1 [==============================] - 0s 19ms/step - loss: 0.0020 - mean_squared_error: 0.0020\n",
            "0.002 (+/- 0.001)\n"
          ],
          "name": "stdout"
        }
      ]
    },
    {
      "cell_type": "code",
      "metadata": {
        "id": "UdN5ben4YdXm"
      },
      "source": [
        "  # reshape input to be [samples, time steps, features]\n",
        "  trainX = numpy.reshape(trainX, (trainX.shape[0], 1, trainX.shape[1]))\n",
        "  testX = numpy.reshape(testX, (testX.shape[0], 1, testX.shape[1]))"
      ],
      "execution_count": null,
      "outputs": []
    },
    {
      "cell_type": "code",
      "metadata": {
        "colab": {
          "base_uri": "https://localhost:8080/"
        },
        "id": "548CK2j1Y_N-",
        "outputId": "0c016ac0-deec-4c51-d140-8b6ea45b4090"
      },
      "source": [
        "model.fit(trainX, trainY, epochs=150, batch_size=1, verbose=1)"
      ],
      "execution_count": null,
      "outputs": [
        {
          "output_type": "stream",
          "text": [
            "Epoch 1/150\n",
            "80/80 [==============================] - 0s 2ms/step - loss: 0.0041 - mean_squared_error: 0.0041\n",
            "Epoch 2/150\n",
            "80/80 [==============================] - 0s 2ms/step - loss: 0.0011 - mean_squared_error: 0.0011\n",
            "Epoch 3/150\n",
            "80/80 [==============================] - 0s 2ms/step - loss: 9.5262e-04 - mean_squared_error: 9.5262e-04\n",
            "Epoch 4/150\n",
            "80/80 [==============================] - 0s 2ms/step - loss: 8.8692e-04 - mean_squared_error: 8.8692e-04\n",
            "Epoch 5/150\n",
            "80/80 [==============================] - 0s 2ms/step - loss: 8.9356e-04 - mean_squared_error: 8.9356e-04\n",
            "Epoch 6/150\n",
            "80/80 [==============================] - 0s 2ms/step - loss: 7.6403e-04 - mean_squared_error: 7.6403e-04\n",
            "Epoch 7/150\n",
            "80/80 [==============================] - 0s 2ms/step - loss: 7.8018e-04 - mean_squared_error: 7.8018e-04\n",
            "Epoch 8/150\n",
            "80/80 [==============================] - 0s 2ms/step - loss: 6.7080e-04 - mean_squared_error: 6.7080e-04\n",
            "Epoch 9/150\n",
            "80/80 [==============================] - 0s 3ms/step - loss: 8.2214e-04 - mean_squared_error: 8.2214e-04\n",
            "Epoch 10/150\n",
            "80/80 [==============================] - 0s 3ms/step - loss: 8.0117e-04 - mean_squared_error: 8.0117e-04\n",
            "Epoch 11/150\n",
            "80/80 [==============================] - 0s 2ms/step - loss: 8.0345e-04 - mean_squared_error: 8.0345e-04\n",
            "Epoch 12/150\n",
            "80/80 [==============================] - 0s 2ms/step - loss: 8.1406e-04 - mean_squared_error: 8.1406e-04\n",
            "Epoch 13/150\n",
            "80/80 [==============================] - 0s 2ms/step - loss: 6.5254e-04 - mean_squared_error: 6.5254e-04\n",
            "Epoch 14/150\n",
            "80/80 [==============================] - 0s 2ms/step - loss: 7.5215e-04 - mean_squared_error: 7.5215e-04\n",
            "Epoch 15/150\n",
            "80/80 [==============================] - 0s 2ms/step - loss: 6.4968e-04 - mean_squared_error: 6.4968e-04\n",
            "Epoch 16/150\n",
            "80/80 [==============================] - 0s 2ms/step - loss: 6.8357e-04 - mean_squared_error: 6.8357e-04\n",
            "Epoch 17/150\n",
            "80/80 [==============================] - 0s 2ms/step - loss: 6.5909e-04 - mean_squared_error: 6.5909e-04\n",
            "Epoch 18/150\n",
            "80/80 [==============================] - 0s 2ms/step - loss: 6.0269e-04 - mean_squared_error: 6.0269e-04\n",
            "Epoch 19/150\n",
            "80/80 [==============================] - 0s 2ms/step - loss: 7.0187e-04 - mean_squared_error: 7.0187e-04\n",
            "Epoch 20/150\n",
            "80/80 [==============================] - 0s 2ms/step - loss: 7.0939e-04 - mean_squared_error: 7.0939e-04\n",
            "Epoch 21/150\n",
            "80/80 [==============================] - 0s 2ms/step - loss: 6.7281e-04 - mean_squared_error: 6.7281e-04\n",
            "Epoch 22/150\n",
            "80/80 [==============================] - 0s 2ms/step - loss: 6.2542e-04 - mean_squared_error: 6.2542e-04\n",
            "Epoch 23/150\n",
            "80/80 [==============================] - 0s 2ms/step - loss: 6.1365e-04 - mean_squared_error: 6.1365e-04\n",
            "Epoch 24/150\n",
            "80/80 [==============================] - 0s 2ms/step - loss: 6.0761e-04 - mean_squared_error: 6.0761e-04\n",
            "Epoch 25/150\n",
            "80/80 [==============================] - 0s 2ms/step - loss: 6.2181e-04 - mean_squared_error: 6.2181e-04\n",
            "Epoch 26/150\n",
            "80/80 [==============================] - 0s 2ms/step - loss: 6.4358e-04 - mean_squared_error: 6.4358e-04\n",
            "Epoch 27/150\n",
            "80/80 [==============================] - 0s 2ms/step - loss: 6.8337e-04 - mean_squared_error: 6.8337e-04\n",
            "Epoch 28/150\n",
            "80/80 [==============================] - 0s 2ms/step - loss: 6.2124e-04 - mean_squared_error: 6.2124e-04\n",
            "Epoch 29/150\n",
            "80/80 [==============================] - 0s 2ms/step - loss: 7.0026e-04 - mean_squared_error: 7.0026e-04\n",
            "Epoch 30/150\n",
            "80/80 [==============================] - 0s 3ms/step - loss: 5.7423e-04 - mean_squared_error: 5.7423e-04\n",
            "Epoch 31/150\n",
            "80/80 [==============================] - 0s 2ms/step - loss: 5.9670e-04 - mean_squared_error: 5.9670e-04\n",
            "Epoch 32/150\n",
            "80/80 [==============================] - 0s 3ms/step - loss: 5.4116e-04 - mean_squared_error: 5.4116e-04\n",
            "Epoch 33/150\n",
            "80/80 [==============================] - 0s 2ms/step - loss: 5.8816e-04 - mean_squared_error: 5.8816e-04\n",
            "Epoch 34/150\n",
            "80/80 [==============================] - 0s 2ms/step - loss: 5.5467e-04 - mean_squared_error: 5.5467e-04\n",
            "Epoch 35/150\n",
            "80/80 [==============================] - 0s 3ms/step - loss: 5.8156e-04 - mean_squared_error: 5.8156e-04\n",
            "Epoch 36/150\n",
            "80/80 [==============================] - 0s 2ms/step - loss: 6.1516e-04 - mean_squared_error: 6.1516e-04\n",
            "Epoch 37/150\n",
            "80/80 [==============================] - 0s 2ms/step - loss: 5.7642e-04 - mean_squared_error: 5.7642e-04\n",
            "Epoch 38/150\n",
            "80/80 [==============================] - 0s 2ms/step - loss: 5.8971e-04 - mean_squared_error: 5.8971e-04\n",
            "Epoch 39/150\n",
            "80/80 [==============================] - 0s 2ms/step - loss: 5.6515e-04 - mean_squared_error: 5.6515e-04\n",
            "Epoch 40/150\n",
            "80/80 [==============================] - 0s 2ms/step - loss: 6.2159e-04 - mean_squared_error: 6.2159e-04\n",
            "Epoch 41/150\n",
            "80/80 [==============================] - 0s 2ms/step - loss: 5.0532e-04 - mean_squared_error: 5.0532e-04\n",
            "Epoch 42/150\n",
            "80/80 [==============================] - 0s 2ms/step - loss: 5.3043e-04 - mean_squared_error: 5.3043e-04\n",
            "Epoch 43/150\n",
            "80/80 [==============================] - 0s 2ms/step - loss: 5.8320e-04 - mean_squared_error: 5.8320e-04\n",
            "Epoch 44/150\n",
            "80/80 [==============================] - 0s 2ms/step - loss: 6.6165e-04 - mean_squared_error: 6.6165e-04\n",
            "Epoch 45/150\n",
            "80/80 [==============================] - 0s 2ms/step - loss: 5.6240e-04 - mean_squared_error: 5.6240e-04\n",
            "Epoch 46/150\n",
            "80/80 [==============================] - 0s 2ms/step - loss: 5.9636e-04 - mean_squared_error: 5.9636e-04\n",
            "Epoch 47/150\n",
            "80/80 [==============================] - 0s 2ms/step - loss: 5.8907e-04 - mean_squared_error: 5.8907e-04\n",
            "Epoch 48/150\n",
            "80/80 [==============================] - 0s 2ms/step - loss: 5.7797e-04 - mean_squared_error: 5.7797e-04\n",
            "Epoch 49/150\n",
            "80/80 [==============================] - 0s 2ms/step - loss: 5.6163e-04 - mean_squared_error: 5.6163e-04\n",
            "Epoch 50/150\n",
            "80/80 [==============================] - 0s 2ms/step - loss: 5.2923e-04 - mean_squared_error: 5.2923e-04\n",
            "Epoch 51/150\n",
            "80/80 [==============================] - 0s 3ms/step - loss: 5.2505e-04 - mean_squared_error: 5.2505e-04\n",
            "Epoch 52/150\n",
            "80/80 [==============================] - 0s 2ms/step - loss: 6.1266e-04 - mean_squared_error: 6.1266e-04\n",
            "Epoch 53/150\n",
            "80/80 [==============================] - 0s 3ms/step - loss: 5.1237e-04 - mean_squared_error: 5.1237e-04\n",
            "Epoch 54/150\n",
            "80/80 [==============================] - 0s 3ms/step - loss: 5.4056e-04 - mean_squared_error: 5.4056e-04\n",
            "Epoch 55/150\n",
            "80/80 [==============================] - 0s 3ms/step - loss: 5.6307e-04 - mean_squared_error: 5.6307e-04\n",
            "Epoch 56/150\n",
            "80/80 [==============================] - 0s 3ms/step - loss: 5.3560e-04 - mean_squared_error: 5.3560e-04\n",
            "Epoch 57/150\n",
            "80/80 [==============================] - 0s 2ms/step - loss: 5.6381e-04 - mean_squared_error: 5.6381e-04\n",
            "Epoch 58/150\n",
            "80/80 [==============================] - 0s 2ms/step - loss: 5.6054e-04 - mean_squared_error: 5.6054e-04\n",
            "Epoch 59/150\n",
            "80/80 [==============================] - 0s 3ms/step - loss: 5.9806e-04 - mean_squared_error: 5.9806e-04\n",
            "Epoch 60/150\n",
            "80/80 [==============================] - 0s 3ms/step - loss: 4.9176e-04 - mean_squared_error: 4.9176e-04\n",
            "Epoch 61/150\n",
            "80/80 [==============================] - 0s 3ms/step - loss: 6.0623e-04 - mean_squared_error: 6.0623e-04\n",
            "Epoch 62/150\n",
            "80/80 [==============================] - 0s 3ms/step - loss: 5.4559e-04 - mean_squared_error: 5.4559e-04\n",
            "Epoch 63/150\n",
            "80/80 [==============================] - 0s 2ms/step - loss: 5.0626e-04 - mean_squared_error: 5.0626e-04\n",
            "Epoch 64/150\n",
            "80/80 [==============================] - 0s 2ms/step - loss: 5.8381e-04 - mean_squared_error: 5.8381e-04\n",
            "Epoch 65/150\n",
            "80/80 [==============================] - 0s 2ms/step - loss: 5.5051e-04 - mean_squared_error: 5.5051e-04\n",
            "Epoch 66/150\n",
            "80/80 [==============================] - 0s 2ms/step - loss: 4.9056e-04 - mean_squared_error: 4.9056e-04\n",
            "Epoch 67/150\n",
            "80/80 [==============================] - 0s 2ms/step - loss: 5.0268e-04 - mean_squared_error: 5.0268e-04\n",
            "Epoch 68/150\n",
            "80/80 [==============================] - 0s 2ms/step - loss: 4.9000e-04 - mean_squared_error: 4.9000e-04\n",
            "Epoch 69/150\n",
            "80/80 [==============================] - 0s 2ms/step - loss: 5.5588e-04 - mean_squared_error: 5.5588e-04\n",
            "Epoch 70/150\n",
            "80/80 [==============================] - 0s 2ms/step - loss: 5.2786e-04 - mean_squared_error: 5.2786e-04\n",
            "Epoch 71/150\n",
            "80/80 [==============================] - 0s 2ms/step - loss: 5.4336e-04 - mean_squared_error: 5.4336e-04\n",
            "Epoch 72/150\n",
            "80/80 [==============================] - 0s 2ms/step - loss: 5.4285e-04 - mean_squared_error: 5.4285e-04\n",
            "Epoch 73/150\n",
            "80/80 [==============================] - 0s 3ms/step - loss: 5.7582e-04 - mean_squared_error: 5.7582e-04\n",
            "Epoch 74/150\n",
            "80/80 [==============================] - 0s 2ms/step - loss: 5.0725e-04 - mean_squared_error: 5.0725e-04\n",
            "Epoch 75/150\n",
            "80/80 [==============================] - 0s 3ms/step - loss: 5.0882e-04 - mean_squared_error: 5.0882e-04\n",
            "Epoch 76/150\n",
            "80/80 [==============================] - 0s 2ms/step - loss: 4.5497e-04 - mean_squared_error: 4.5497e-04\n",
            "Epoch 77/150\n",
            "80/80 [==============================] - 0s 2ms/step - loss: 5.0575e-04 - mean_squared_error: 5.0575e-04\n",
            "Epoch 78/150\n",
            "80/80 [==============================] - 0s 2ms/step - loss: 5.9678e-04 - mean_squared_error: 5.9678e-04\n",
            "Epoch 79/150\n",
            "80/80 [==============================] - 0s 2ms/step - loss: 5.4891e-04 - mean_squared_error: 5.4891e-04\n",
            "Epoch 80/150\n",
            "80/80 [==============================] - 0s 2ms/step - loss: 5.4377e-04 - mean_squared_error: 5.4377e-04\n",
            "Epoch 81/150\n",
            "80/80 [==============================] - 0s 2ms/step - loss: 5.1872e-04 - mean_squared_error: 5.1872e-04\n",
            "Epoch 82/150\n",
            "80/80 [==============================] - 0s 2ms/step - loss: 5.4038e-04 - mean_squared_error: 5.4038e-04\n",
            "Epoch 83/150\n",
            "80/80 [==============================] - 0s 2ms/step - loss: 5.4551e-04 - mean_squared_error: 5.4551e-04\n",
            "Epoch 84/150\n",
            "80/80 [==============================] - 0s 2ms/step - loss: 5.3377e-04 - mean_squared_error: 5.3377e-04\n",
            "Epoch 85/150\n",
            "80/80 [==============================] - 0s 2ms/step - loss: 4.8411e-04 - mean_squared_error: 4.8411e-04\n",
            "Epoch 86/150\n",
            "80/80 [==============================] - 0s 2ms/step - loss: 5.4217e-04 - mean_squared_error: 5.4217e-04\n",
            "Epoch 87/150\n",
            "80/80 [==============================] - 0s 2ms/step - loss: 5.0670e-04 - mean_squared_error: 5.0670e-04\n",
            "Epoch 88/150\n",
            "80/80 [==============================] - 0s 2ms/step - loss: 4.8259e-04 - mean_squared_error: 4.8259e-04\n",
            "Epoch 89/150\n",
            "80/80 [==============================] - 0s 2ms/step - loss: 5.0918e-04 - mean_squared_error: 5.0918e-04\n",
            "Epoch 90/150\n",
            "80/80 [==============================] - 0s 2ms/step - loss: 4.8338e-04 - mean_squared_error: 4.8338e-04\n",
            "Epoch 91/150\n",
            "80/80 [==============================] - 0s 2ms/step - loss: 5.2542e-04 - mean_squared_error: 5.2542e-04\n",
            "Epoch 92/150\n",
            "80/80 [==============================] - 0s 2ms/step - loss: 5.0732e-04 - mean_squared_error: 5.0732e-04\n",
            "Epoch 93/150\n",
            "80/80 [==============================] - 0s 2ms/step - loss: 4.8228e-04 - mean_squared_error: 4.8228e-04\n",
            "Epoch 94/150\n",
            "80/80 [==============================] - 0s 2ms/step - loss: 5.2321e-04 - mean_squared_error: 5.2321e-04\n",
            "Epoch 95/150\n",
            "80/80 [==============================] - 0s 2ms/step - loss: 5.6496e-04 - mean_squared_error: 5.6496e-04\n",
            "Epoch 96/150\n",
            "80/80 [==============================] - 0s 2ms/step - loss: 5.0339e-04 - mean_squared_error: 5.0339e-04\n",
            "Epoch 97/150\n",
            "80/80 [==============================] - 0s 2ms/step - loss: 4.8602e-04 - mean_squared_error: 4.8602e-04\n",
            "Epoch 98/150\n",
            "80/80 [==============================] - 0s 2ms/step - loss: 5.2385e-04 - mean_squared_error: 5.2385e-04\n",
            "Epoch 99/150\n",
            "80/80 [==============================] - 0s 2ms/step - loss: 5.1451e-04 - mean_squared_error: 5.1451e-04\n",
            "Epoch 100/150\n",
            "80/80 [==============================] - 0s 2ms/step - loss: 4.8678e-04 - mean_squared_error: 4.8678e-04\n",
            "Epoch 101/150\n",
            "80/80 [==============================] - 0s 2ms/step - loss: 4.9868e-04 - mean_squared_error: 4.9868e-04\n",
            "Epoch 102/150\n",
            "80/80 [==============================] - 0s 2ms/step - loss: 4.2556e-04 - mean_squared_error: 4.2556e-04\n",
            "Epoch 103/150\n",
            "80/80 [==============================] - 0s 2ms/step - loss: 4.7646e-04 - mean_squared_error: 4.7646e-04\n",
            "Epoch 104/150\n",
            "80/80 [==============================] - 0s 2ms/step - loss: 4.7098e-04 - mean_squared_error: 4.7098e-04\n",
            "Epoch 105/150\n",
            "80/80 [==============================] - 0s 2ms/step - loss: 4.9857e-04 - mean_squared_error: 4.9857e-04\n",
            "Epoch 106/150\n",
            "80/80 [==============================] - 0s 2ms/step - loss: 4.7553e-04 - mean_squared_error: 4.7553e-04\n",
            "Epoch 107/150\n",
            "80/80 [==============================] - 0s 2ms/step - loss: 5.1550e-04 - mean_squared_error: 5.1550e-04\n",
            "Epoch 108/150\n",
            "80/80 [==============================] - 0s 2ms/step - loss: 5.0628e-04 - mean_squared_error: 5.0628e-04\n",
            "Epoch 109/150\n",
            "80/80 [==============================] - 0s 3ms/step - loss: 5.1595e-04 - mean_squared_error: 5.1595e-04\n",
            "Epoch 110/150\n",
            "80/80 [==============================] - 0s 2ms/step - loss: 5.1057e-04 - mean_squared_error: 5.1057e-04\n",
            "Epoch 111/150\n",
            "80/80 [==============================] - 0s 2ms/step - loss: 4.6547e-04 - mean_squared_error: 4.6547e-04\n",
            "Epoch 112/150\n",
            "80/80 [==============================] - 0s 2ms/step - loss: 4.4876e-04 - mean_squared_error: 4.4876e-04\n",
            "Epoch 113/150\n",
            "80/80 [==============================] - 0s 2ms/step - loss: 4.6620e-04 - mean_squared_error: 4.6620e-04\n",
            "Epoch 114/150\n",
            "80/80 [==============================] - 0s 2ms/step - loss: 4.7043e-04 - mean_squared_error: 4.7043e-04\n",
            "Epoch 115/150\n",
            "80/80 [==============================] - 0s 2ms/step - loss: 4.9877e-04 - mean_squared_error: 4.9877e-04\n",
            "Epoch 116/150\n",
            "80/80 [==============================] - 0s 2ms/step - loss: 4.2525e-04 - mean_squared_error: 4.2525e-04\n",
            "Epoch 117/150\n",
            "80/80 [==============================] - 0s 2ms/step - loss: 4.3911e-04 - mean_squared_error: 4.3911e-04\n",
            "Epoch 118/150\n",
            "80/80 [==============================] - 0s 2ms/step - loss: 4.4553e-04 - mean_squared_error: 4.4553e-04\n",
            "Epoch 119/150\n",
            "80/80 [==============================] - 0s 2ms/step - loss: 5.1425e-04 - mean_squared_error: 5.1425e-04\n",
            "Epoch 120/150\n",
            "80/80 [==============================] - 0s 2ms/step - loss: 4.8158e-04 - mean_squared_error: 4.8158e-04\n",
            "Epoch 121/150\n",
            "80/80 [==============================] - 0s 2ms/step - loss: 4.6839e-04 - mean_squared_error: 4.6839e-04\n",
            "Epoch 122/150\n",
            "80/80 [==============================] - 0s 2ms/step - loss: 5.0925e-04 - mean_squared_error: 5.0925e-04\n",
            "Epoch 123/150\n",
            "80/80 [==============================] - 0s 2ms/step - loss: 4.4643e-04 - mean_squared_error: 4.4643e-04\n",
            "Epoch 124/150\n",
            "80/80 [==============================] - 0s 2ms/step - loss: 4.7859e-04 - mean_squared_error: 4.7859e-04\n",
            "Epoch 125/150\n",
            "80/80 [==============================] - 0s 2ms/step - loss: 4.4617e-04 - mean_squared_error: 4.4617e-04\n",
            "Epoch 126/150\n",
            "80/80 [==============================] - 0s 2ms/step - loss: 4.6674e-04 - mean_squared_error: 4.6674e-04\n",
            "Epoch 127/150\n",
            "80/80 [==============================] - 0s 2ms/step - loss: 4.4328e-04 - mean_squared_error: 4.4328e-04\n",
            "Epoch 128/150\n",
            "80/80 [==============================] - 0s 2ms/step - loss: 4.5778e-04 - mean_squared_error: 4.5778e-04\n",
            "Epoch 129/150\n",
            "80/80 [==============================] - 0s 2ms/step - loss: 4.5049e-04 - mean_squared_error: 4.5049e-04\n",
            "Epoch 130/150\n",
            "80/80 [==============================] - 0s 2ms/step - loss: 4.3955e-04 - mean_squared_error: 4.3955e-04\n",
            "Epoch 131/150\n",
            "80/80 [==============================] - 0s 3ms/step - loss: 4.3055e-04 - mean_squared_error: 4.3055e-04\n",
            "Epoch 132/150\n",
            "80/80 [==============================] - 0s 2ms/step - loss: 4.9255e-04 - mean_squared_error: 4.9255e-04\n",
            "Epoch 133/150\n",
            "80/80 [==============================] - 0s 2ms/step - loss: 4.5675e-04 - mean_squared_error: 4.5675e-04\n",
            "Epoch 134/150\n",
            "80/80 [==============================] - 0s 2ms/step - loss: 4.5721e-04 - mean_squared_error: 4.5721e-04\n",
            "Epoch 135/150\n",
            "80/80 [==============================] - 0s 2ms/step - loss: 4.2233e-04 - mean_squared_error: 4.2233e-04\n",
            "Epoch 136/150\n",
            "80/80 [==============================] - 0s 2ms/step - loss: 4.6781e-04 - mean_squared_error: 4.6781e-04\n",
            "Epoch 137/150\n",
            "80/80 [==============================] - 0s 2ms/step - loss: 4.9408e-04 - mean_squared_error: 4.9408e-04\n",
            "Epoch 138/150\n",
            "80/80 [==============================] - 0s 2ms/step - loss: 4.5639e-04 - mean_squared_error: 4.5639e-04\n",
            "Epoch 139/150\n",
            "80/80 [==============================] - 0s 2ms/step - loss: 4.3497e-04 - mean_squared_error: 4.3497e-04\n",
            "Epoch 140/150\n",
            "80/80 [==============================] - 0s 2ms/step - loss: 4.5470e-04 - mean_squared_error: 4.5470e-04\n",
            "Epoch 141/150\n",
            "80/80 [==============================] - 0s 2ms/step - loss: 5.0887e-04 - mean_squared_error: 5.0887e-04\n",
            "Epoch 142/150\n",
            "80/80 [==============================] - 0s 3ms/step - loss: 4.5956e-04 - mean_squared_error: 4.5956e-04\n",
            "Epoch 143/150\n",
            "80/80 [==============================] - 0s 2ms/step - loss: 4.5113e-04 - mean_squared_error: 4.5113e-04\n",
            "Epoch 144/150\n",
            "80/80 [==============================] - 0s 2ms/step - loss: 4.3512e-04 - mean_squared_error: 4.3512e-04\n",
            "Epoch 145/150\n",
            "80/80 [==============================] - 0s 2ms/step - loss: 4.8518e-04 - mean_squared_error: 4.8518e-04\n",
            "Epoch 146/150\n",
            "80/80 [==============================] - 0s 2ms/step - loss: 4.2417e-04 - mean_squared_error: 4.2417e-04\n",
            "Epoch 147/150\n",
            "80/80 [==============================] - 0s 2ms/step - loss: 4.5975e-04 - mean_squared_error: 4.5975e-04\n",
            "Epoch 148/150\n",
            "80/80 [==============================] - 0s 2ms/step - loss: 4.4664e-04 - mean_squared_error: 4.4664e-04\n",
            "Epoch 149/150\n",
            "80/80 [==============================] - 0s 2ms/step - loss: 4.0631e-04 - mean_squared_error: 4.0631e-04\n",
            "Epoch 150/150\n",
            "80/80 [==============================] - 0s 2ms/step - loss: 4.9002e-04 - mean_squared_error: 4.9002e-04\n"
          ],
          "name": "stdout"
        },
        {
          "output_type": "execute_result",
          "data": {
            "text/plain": [
              "<tensorflow.python.keras.callbacks.History at 0x7fb17d64cd10>"
            ]
          },
          "metadata": {
            "tags": []
          },
          "execution_count": 1003
        }
      ]
    },
    {
      "cell_type": "code",
      "metadata": {
        "id": "R2mR3RAPdhE2",
        "colab": {
          "base_uri": "https://localhost:8080/"
        },
        "outputId": "cadb42d0-b1f1-4d32-9df9-5a30fbada737"
      },
      "source": [
        "# make predictions\n",
        "trainPredict = model.predict(trainX)\n",
        "testPredict = model.predict(testX)"
      ],
      "execution_count": null,
      "outputs": [
        {
          "output_type": "stream",
          "text": [
            "WARNING:tensorflow:6 out of the last 14 calls to <function Model.make_predict_function.<locals>.predict_function at 0x7fb19693bef0> triggered tf.function retracing. Tracing is expensive and the excessive number of tracings could be due to (1) creating @tf.function repeatedly in a loop, (2) passing tensors with different shapes, (3) passing Python objects instead of tensors. For (1), please define your @tf.function outside of the loop. For (2), @tf.function has experimental_relax_shapes=True option that relaxes argument shapes that can avoid unnecessary retracing. For (3), please refer to https://www.tensorflow.org/guide/function#controlling_retracing and https://www.tensorflow.org/api_docs/python/tf/function for  more details.\n",
            "WARNING:tensorflow:6 out of the last 12 calls to <function Model.make_predict_function.<locals>.predict_function at 0x7fb19693bef0> triggered tf.function retracing. Tracing is expensive and the excessive number of tracings could be due to (1) creating @tf.function repeatedly in a loop, (2) passing tensors with different shapes, (3) passing Python objects instead of tensors. For (1), please define your @tf.function outside of the loop. For (2), @tf.function has experimental_relax_shapes=True option that relaxes argument shapes that can avoid unnecessary retracing. For (3), please refer to https://www.tensorflow.org/guide/function#controlling_retracing and https://www.tensorflow.org/api_docs/python/tf/function for  more details.\n"
          ],
          "name": "stdout"
        }
      ]
    },
    {
      "cell_type": "code",
      "metadata": {
        "id": "PcTaSdvldhCR"
      },
      "source": [
        "# invert predictions\n",
        "trainPredict = scaler.inverse_transform(trainPredict)\n",
        "trainY = scaler.inverse_transform([trainY])\n",
        "testPredict = scaler.inverse_transform(testPredict)\n",
        "testY = scaler.inverse_transform([testY])"
      ],
      "execution_count": null,
      "outputs": []
    },
    {
      "cell_type": "markdown",
      "metadata": {
        "id": "-3u5PpkzYpBF"
      },
      "source": [
        ">"
      ]
    },
    {
      "cell_type": "markdown",
      "metadata": {
        "id": "HgdkpsD1Yjee"
      },
      "source": [
        ">"
      ]
    },
    {
      "cell_type": "markdown",
      "metadata": {
        "id": "VfuLFxGhWhkx"
      },
      "source": [
        " >"
      ]
    },
    {
      "cell_type": "code",
      "metadata": {
        "colab": {
          "base_uri": "https://localhost:8080/"
        },
        "id": "DsoNmzUqdg_N",
        "outputId": "febb709e-1bb9-42ae-c9ff-38a845c06c9b"
      },
      "source": [
        "# calculate root mean squared error\n",
        "trainScore = math.sqrt(mean_squared_error(trainY[0], trainPredict[:,0]))\n",
        "print('Train Score: %.2f RMSE' % (trainScore))\n",
        "testScore = math.sqrt(mean_squared_error(testY[0], testPredict[:,0]))\n",
        "print('Test Score: %.2f RMSE' % (testScore))"
      ],
      "execution_count": null,
      "outputs": [
        {
          "output_type": "stream",
          "text": [
            "Train Score: 10.08 RMSE\n",
            "Test Score: 16.55 RMSE\n"
          ],
          "name": "stdout"
        }
      ]
    },
    {
      "cell_type": "markdown",
      "metadata": {
        "id": "Nx4UAoKNYsQH"
      },
      "source": [
        ">"
      ]
    },
    {
      "cell_type": "markdown",
      "metadata": {
        "id": "74UCQrIjYhIj"
      },
      "source": [
        ">"
      ]
    },
    {
      "cell_type": "code",
      "metadata": {
        "id": "SH8KSYrSdg7-"
      },
      "source": [
        "# shift train predictions for plotting\n",
        "trainPredictPlot = numpy.empty_like(dataset)\n",
        "trainPredictPlot[:, :] = numpy.nan\n",
        "trainPredictPlot[look_back:len(trainPredict)+look_back, :] = trainPredict"
      ],
      "execution_count": null,
      "outputs": []
    },
    {
      "cell_type": "code",
      "metadata": {
        "id": "gVW-x_SOdxf9"
      },
      "source": [
        "# shift test predictions for plotting\n",
        "testPredictPlot = numpy.empty_like(dataset)\n",
        "testPredictPlot[:, :] = numpy.nan\n",
        "testPredictPlot[len(trainPredict)+(look_back*2)+1:len(dataset)-1, :] = testPredict"
      ],
      "execution_count": null,
      "outputs": []
    },
    {
      "cell_type": "code",
      "metadata": {
        "colab": {
          "base_uri": "https://localhost:8080/",
          "height": 265
        },
        "id": "TdZ_lTyMdxbz",
        "outputId": "a4f879ad-f625-4c91-8fa4-2e3452583ffd"
      },
      "source": [
        "# plot baseline and predictions\n",
        "plt.plot(scaler.inverse_transform(dataset))\n",
        "plt.plot(trainPredictPlot)\n",
        "plt.plot(testPredictPlot)\n",
        "plt.show()"
      ],
      "execution_count": null,
      "outputs": [
        {
          "output_type": "display_data",
          "data": {
            "image/png": "[encoded data removed]",
            "text/plain": [
              "<Figure size 432x288 with 1 Axes>"
            ]
          },
          "metadata": {
            "tags": [],
            "needs_background": "light"
          }
        }
      ]
    },
    {
      "cell_type": "code",
      "metadata": {
        "id": "pUf9B26KdxXp"
      },
      "source": [
        ""
      ],
      "execution_count": null,
      "outputs": []
    },
    {
      "cell_type": "code",
      "metadata": {
        "id": "g268FnDQdxTl"
      },
      "source": [
        ""
      ],
      "execution_count": null,
      "outputs": []
    },
    {
      "cell_type": "code",
      "metadata": {
        "id": "n17-Xs4fdxO8"
      },
      "source": [
        ""
      ],
      "execution_count": null,
      "outputs": []
    },
    {
      "cell_type": "code",
      "metadata": {
        "id": "Nu61YDIkdxMP"
      },
      "source": [
        ""
      ],
      "execution_count": null,
      "outputs": []
    }
  ]
}