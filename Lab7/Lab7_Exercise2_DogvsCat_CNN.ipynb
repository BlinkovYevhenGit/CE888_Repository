{
  "nbformat": 4,
  "nbformat_minor": 0,
  "metadata": {
    "colab": {
      "name": "Lab7_Exercise2_DogvsCat_CNN.ipynb",
      "provenance": [],
      "include_colab_link": true
    },
    "kernelspec": {
      "name": "python3",
      "display_name": "Python 3"
    },
    "accelerator": "GPU"
  },
  "cells": [
    {
      "cell_type": "markdown",
      "metadata": {
        "id": "view-in-github",
        "colab_type": "text"
      },
      "source": [
        "<a href=\"https://colab.research.google.com/github/BlinkovYevhenGit/CE888_Repository/blob/main/Lab7/Lab7_Exercise2_DogvsCat_CNN.ipynb\" target=\"_parent\"><img src=\"https://colab.research.google.com/assets/colab-badge.svg\" alt=\"Open In Colab\"/></a>"
      ]
    },
    {
      "cell_type": "markdown",
      "metadata": {
        "id": "qTh9DiKVslsJ"
      },
      "source": [
        "## Dogs vs. Cats \n",
        "\n",
        "In this competition, you'll write an algorithm to classify whether images contain either a dog or a cat.  This is easy for humans, dogs, and cats. Your computer will find it a bit more difficult.\n",
        "\n",
        "![alt text](https://miro.medium.com/max/3000/1*bhFifratH9DjKqMBTeQG5A.gif)\n",
        "\n",
        "Ref: https://medium.com/@thegrigorian/rolling-in-the-deep-cnn-c8d3f7108c8c"
      ]
    },
    {
      "cell_type": "markdown",
      "metadata": {
        "id": "RSBI-_mSSY1g"
      },
      "source": [
        "Get your API Key from Kaggle using following steps:\n",
        "1. Login to [Kaggle](https://www.kaggle.com/) or Register if you don't have account\n",
        "2. Open Dataset (https://www.kaggle.com/c/dogs-vs-cats/rules) and accept terms and condition. \n",
        "3. On the top right corner click on your Icon and go to accounts and press a button \"Create New API Token\". It will download a JSON file containing your username and key. \n",
        "4. Now, paste both below. \n"
      ]
    },
    {
      "cell_type": "code",
      "metadata": {
        "id": "5AwrgK60Us4x"
      },
      "source": [
        ""
      ],
      "execution_count": null,
      "outputs": []
    },
    {
      "cell_type": "code",
      "metadata": {
        "id": "YmXSOc0tZIGA",
        "colab": {
          "base_uri": "https://localhost:8080/"
        },
        "outputId": "c309c61d-0047-43a8-e8ac-1d482a809f77"
      },
      "source": [
        "\n",
        "os.environ['KAGGLE_USERNAME'] = \"yevhenblinkov\" # username from the json file\n",
        "os.environ['KAGGLE_KEY'] = \"\" # key from the json file\n",
        "!pip install --upgrade --force-reinstall --no-deps kaggle\n",
        "!kaggle competitions download -c dogs-vs-cats # api copied from kaggle (https://www.kaggle.com/c/dogs-vs-cats/data)"
      ],
      "execution_count": null,
      "outputs": [
        {
          "output_type": "stream",
          "text": [
            "Collecting kaggle\n",
            "\u001b[?25l  Downloading https://files.pythonhosted.org/packages/99/33/365c0d13f07a2a54744d027fe20b60dacdfdfb33bc04746db6ad0b79340b/kaggle-1.5.10.tar.gz (59kB)\n",
            "\r\u001b[K     |█████▌                          | 10kB 24.0MB/s eta 0:00:01\r\u001b[K     |███████████                     | 20kB 30.0MB/s eta 0:00:01\r\u001b[K     |████████████████▋               | 30kB 23.2MB/s eta 0:00:01\r\u001b[K     |██████████████████████▏         | 40kB 26.6MB/s eta 0:00:01\r\u001b[K     |███████████████████████████▊    | 51kB 27.9MB/s eta 0:00:01\r\u001b[K     |████████████████████████████████| 61kB 8.3MB/s \n",
            "\u001b[?25hBuilding wheels for collected packages: kaggle\n",
            "  Building wheel for kaggle (setup.py) ... \u001b[?25l\u001b[?25hdone\n",
            "  Created wheel for kaggle: filename=kaggle-1.5.10-cp37-none-any.whl size=73269 sha256=39f152870baf6a8bcd3a6d695c070245a2f676e89b078c8fdf7d41eab5bb8441\n",
            "  Stored in directory: /root/.cache/pip/wheels/3a/d1/7e/6ce09b72b770149802c653a02783821629146983ee5a360f10\n",
            "Successfully built kaggle\n",
            "Installing collected packages: kaggle\n",
            "  Found existing installation: kaggle 1.5.10\n",
            "    Uninstalling kaggle-1.5.10:\n",
            "      Successfully uninstalled kaggle-1.5.10\n",
            "Successfully installed kaggle-1.5.10\n",
            "Downloading dogs-vs-cats.zip to /content\n",
            " 97% 787M/812M [00:06<00:00, 119MB/s]\n",
            "100% 812M/812M [00:06<00:00, 133MB/s]\n"
          ],
          "name": "stdout"
        }
      ]
    },
    {
      "cell_type": "code",
      "metadata": {
        "id": "PiwIL8d1n7eS",
        "colab": {
          "base_uri": "https://localhost:8080/"
        },
        "outputId": "36a73c9a-10d7-4dde-e683-56b468caf7d9"
      },
      "source": [
        "# Unzip training data\n",
        "from zipfile import ZipFile\n",
        "file_name = \"/content/dogs-vs-cats.zip\"\n",
        "with ZipFile(file_name, 'r') as zip:\n",
        "  zip.extractall()\n",
        "  print('done')"
      ],
      "execution_count": null,
      "outputs": [
        {
          "output_type": "stream",
          "text": [
            "done\n"
          ],
          "name": "stdout"
        }
      ]
    },
    {
      "cell_type": "code",
      "metadata": {
        "colab": {
          "base_uri": "https://localhost:8080/"
        },
        "id": "PzLNx7X9s8ja",
        "outputId": "c19ef7dd-e611-4a53-8f31-bd7ae7c7c808"
      },
      "source": [
        "# Unzip training data\n",
        "from zipfile import ZipFile\n",
        "file_name = \"/content/train.zip\"\n",
        "with ZipFile(file_name, 'r') as zip:\n",
        "  zip.extractall()\n",
        "  print('done')"
      ],
      "execution_count": null,
      "outputs": [
        {
          "output_type": "stream",
          "text": [
            "done\n"
          ],
          "name": "stdout"
        }
      ]
    },
    {
      "cell_type": "code",
      "metadata": {
        "colab": {
          "base_uri": "https://localhost:8080/"
        },
        "id": "Xja6Pd-9s-MK",
        "outputId": "f4ce8f8f-4511-41f6-aab8-d8e0d920e2ba"
      },
      "source": [
        "# Unzip training data\n",
        "from zipfile import ZipFile\n",
        "file_name = \"/content/test1.zip\"\n",
        "with ZipFile(file_name, 'r') as zip:\n",
        "  zip.extractall()\n",
        "  print('done')"
      ],
      "execution_count": null,
      "outputs": [
        {
          "output_type": "stream",
          "text": [
            "done\n"
          ],
          "name": "stdout"
        }
      ]
    },
    {
      "cell_type": "code",
      "metadata": {
        "id": "sa2Bj5i7pPKV",
        "colab": {
          "base_uri": "https://localhost:8080/"
        },
        "outputId": "1436343c-03ca-4657-f73f-e1544813bb7d"
      },
      "source": [
        "# Get all the paths\n",
        "data_dir_list = os.listdir('/content/train')\n",
        "#print(data_dir_list)\n",
        "path, dirs, files = next(os.walk(\"/content/train\"))\n",
        "file_count = len(files)\n",
        "print(file_count)"
      ],
      "execution_count": null,
      "outputs": [
        {
          "output_type": "stream",
          "text": [
            "25000\n"
          ],
          "name": "stdout"
        }
      ]
    },
    {
      "cell_type": "code",
      "metadata": {
        "id": "a6wDVf4oUwP-"
      },
      "source": [
        "import os"
      ],
      "execution_count": null,
      "outputs": []
    },
    {
      "cell_type": "code",
      "metadata": {
        "id": "0ERlHkfHqpK8",
        "colab": {
          "base_uri": "https://localhost:8080/",
          "height": 197
        },
        "outputId": "14113ae5-b4f2-4d01-8733-22c5aa7fa7bc"
      },
      "source": [
        "# Make new base directory\n",
        "original_dataset_dir = '/content/train'\n",
        "base_dir = '/content/cats_and_dogs_small'\n",
        "os.mkdir(base_dir)"
      ],
      "execution_count": null,
      "outputs": [
        {
          "output_type": "error",
          "ename": "FileExistsError",
          "evalue": "ignored",
          "traceback": [
            "\u001b[0;31m---------------------------------------------------------------------------\u001b[0m",
            "\u001b[0;31mFileExistsError\u001b[0m                           Traceback (most recent call last)",
            "\u001b[0;32m<ipython-input-13-b62abd036009>\u001b[0m in \u001b[0;36m<module>\u001b[0;34m()\u001b[0m\n\u001b[1;32m      2\u001b[0m \u001b[0moriginal_dataset_dir\u001b[0m \u001b[0;34m=\u001b[0m \u001b[0;34m'/content/train'\u001b[0m\u001b[0;34m\u001b[0m\u001b[0;34m\u001b[0m\u001b[0m\n\u001b[1;32m      3\u001b[0m \u001b[0mbase_dir\u001b[0m \u001b[0;34m=\u001b[0m \u001b[0;34m'/content/cats_and_dogs_small'\u001b[0m\u001b[0;34m\u001b[0m\u001b[0;34m\u001b[0m\u001b[0m\n\u001b[0;32m----> 4\u001b[0;31m \u001b[0mos\u001b[0m\u001b[0;34m.\u001b[0m\u001b[0mmkdir\u001b[0m\u001b[0;34m(\u001b[0m\u001b[0mbase_dir\u001b[0m\u001b[0;34m)\u001b[0m\u001b[0;34m\u001b[0m\u001b[0;34m\u001b[0m\u001b[0m\n\u001b[0m",
            "\u001b[0;31mFileExistsError\u001b[0m: [Errno 17] File exists: '/content/cats_and_dogs_small'"
          ]
        }
      ]
    },
    {
      "cell_type": "code",
      "metadata": {
        "id": "AANB1UJ6rQhM",
        "colab": {
          "base_uri": "https://localhost:8080/",
          "height": 231
        },
        "outputId": "2695deda-5181-40ff-edb1-b27af1852bdd"
      },
      "source": [
        "train_dir = os.path.join(base_dir, 'train')\n",
        "os.mkdir(train_dir)\n",
        "\n",
        "validation_dir = os.path.join(base_dir, 'validation')\n",
        "os.mkdir(validation_dir)\n",
        "\n",
        "test_dir = os.path.join(base_dir, 'test')\n",
        "os.mkdir(test_dir)\n",
        "\n",
        "train_cats_dir = os.path.join(train_dir, 'cats')\n",
        "os.mkdir(train_cats_dir)\n",
        "\n",
        "train_dogs_dir = os.path.join(train_dir, 'dogs')\n",
        "os.mkdir(train_dogs_dir)\n",
        "\n",
        "validation_cats_dir = os.path.join(validation_dir, 'cats')\n",
        "os.mkdir(validation_cats_dir)\n",
        "\n",
        "validation_dogs_dir = os.path.join(validation_dir, 'dogs')\n",
        "os.mkdir(validation_dogs_dir)\n",
        "\n",
        "test_cats_dir = os.path.join(test_dir, 'cats')\n",
        "os.mkdir(test_cats_dir)\n",
        "\n",
        "test_dogs_dir = os.path.join(test_dir, 'dogs')\n",
        "os.mkdir(test_dogs_dir)"
      ],
      "execution_count": null,
      "outputs": [
        {
          "output_type": "error",
          "ename": "FileExistsError",
          "evalue": "ignored",
          "traceback": [
            "\u001b[0;31m---------------------------------------------------------------------------\u001b[0m",
            "\u001b[0;31mFileExistsError\u001b[0m                           Traceback (most recent call last)",
            "\u001b[0;32m<ipython-input-14-61bb048c1097>\u001b[0m in \u001b[0;36m<module>\u001b[0;34m()\u001b[0m\n\u001b[1;32m      1\u001b[0m \u001b[0mtrain_dir\u001b[0m \u001b[0;34m=\u001b[0m \u001b[0mos\u001b[0m\u001b[0;34m.\u001b[0m\u001b[0mpath\u001b[0m\u001b[0;34m.\u001b[0m\u001b[0mjoin\u001b[0m\u001b[0;34m(\u001b[0m\u001b[0mbase_dir\u001b[0m\u001b[0;34m,\u001b[0m \u001b[0;34m'train'\u001b[0m\u001b[0;34m)\u001b[0m\u001b[0;34m\u001b[0m\u001b[0;34m\u001b[0m\u001b[0m\n\u001b[0;32m----> 2\u001b[0;31m \u001b[0mos\u001b[0m\u001b[0;34m.\u001b[0m\u001b[0mmkdir\u001b[0m\u001b[0;34m(\u001b[0m\u001b[0mtrain_dir\u001b[0m\u001b[0;34m)\u001b[0m\u001b[0;34m\u001b[0m\u001b[0;34m\u001b[0m\u001b[0m\n\u001b[0m\u001b[1;32m      3\u001b[0m \u001b[0;34m\u001b[0m\u001b[0m\n\u001b[1;32m      4\u001b[0m \u001b[0mvalidation_dir\u001b[0m \u001b[0;34m=\u001b[0m \u001b[0mos\u001b[0m\u001b[0;34m.\u001b[0m\u001b[0mpath\u001b[0m\u001b[0;34m.\u001b[0m\u001b[0mjoin\u001b[0m\u001b[0;34m(\u001b[0m\u001b[0mbase_dir\u001b[0m\u001b[0;34m,\u001b[0m \u001b[0;34m'validation'\u001b[0m\u001b[0;34m)\u001b[0m\u001b[0;34m\u001b[0m\u001b[0;34m\u001b[0m\u001b[0m\n\u001b[1;32m      5\u001b[0m \u001b[0mos\u001b[0m\u001b[0;34m.\u001b[0m\u001b[0mmkdir\u001b[0m\u001b[0;34m(\u001b[0m\u001b[0mvalidation_dir\u001b[0m\u001b[0;34m)\u001b[0m\u001b[0;34m\u001b[0m\u001b[0;34m\u001b[0m\u001b[0m\n",
            "\u001b[0;31mFileExistsError\u001b[0m: [Errno 17] File exists: '/content/cats_and_dogs_small/train'"
          ]
        }
      ]
    },
    {
      "cell_type": "code",
      "metadata": {
        "id": "ULRgL9s9rV8T"
      },
      "source": [
        "import shutil\n",
        "fnames = ['cat.{}.jpg'.format(i) for i in range(1000)]\n",
        "for fname in fnames:\n",
        "    src = os.path.join(original_dataset_dir, fname)\n",
        "    dst = os.path.join(train_cats_dir, fname)\n",
        "    #print(src,dst)\n",
        "    shutil.copyfile(src, dst)\n",
        "    \n",
        "fnames = ['cat.{}.jpg'.format(i) for i in range(1000, 1500)]\n",
        "for fname in fnames:\n",
        "    src = os.path.join(original_dataset_dir, fname)\n",
        "    dst = os.path.join(validation_cats_dir, fname)\n",
        "    shutil.copyfile(src, dst)\n",
        "\n",
        "fnames = ['cat.{}.jpg'.format(i) for i in range(1500, 2000)]\n",
        "for fname in fnames:\n",
        "    src = os.path.join(original_dataset_dir, fname)\n",
        "    dst = os.path.join(test_cats_dir, fname)\n",
        "    shutil.copyfile(src, dst)\n",
        "    \n",
        "fnames = ['dog.{}.jpg'.format(i) for i in range(1000)]\n",
        "for fname in fnames:\n",
        "    src = os.path.join(original_dataset_dir, fname)\n",
        "    dst = os.path.join(train_dogs_dir, fname)\n",
        "    shutil.copyfile(src, dst)\n",
        "\n",
        "fnames = ['dog.{}.jpg'.format(i) for i in range(1000, 1500)]\n",
        "for fname in fnames:\n",
        "    src = os.path.join(original_dataset_dir, fname)\n",
        "    dst = os.path.join(validation_dogs_dir, fname)\n",
        "    shutil.copyfile(src, dst)\n",
        "\n",
        "fnames = ['dog.{}.jpg'.format(i) for i in range(1500, 2000)]\n",
        "for fname in fnames:\n",
        "    src = os.path.join(original_dataset_dir, fname)\n",
        "    dst = os.path.join(test_dogs_dir, fname)\n",
        "    shutil.copyfile(src, dst)"
      ],
      "execution_count": null,
      "outputs": []
    },
    {
      "cell_type": "code",
      "metadata": {
        "id": "ul3XAbIyr7vC",
        "colab": {
          "base_uri": "https://localhost:8080/"
        },
        "outputId": "d0a9a464-d165-45c7-bb4c-908106ed7141"
      },
      "source": [
        "print('total training cat images:', len(os.listdir(train_cats_dir)))\n",
        "print('total training dog images:', len(os.listdir(train_dogs_dir)))\n",
        "print('total validation cat images:', len(os.listdir(validation_cats_dir)))\n",
        "\n",
        "print('total validation dog images:', len(os.listdir(validation_dogs_dir)))\n",
        "print('total test cat images:', len(os.listdir(test_cats_dir)))\n",
        "print('total test dog images:', len(os.listdir(test_dogs_dir)))"
      ],
      "execution_count": null,
      "outputs": [
        {
          "output_type": "stream",
          "text": [
            "total training cat images: 1000\n",
            "total training dog images: 1000\n",
            "total validation cat images: 500\n",
            "total validation dog images: 500\n",
            "total test cat images: 500\n",
            "total test dog images: 500\n"
          ],
          "name": "stdout"
        }
      ]
    },
    {
      "cell_type": "code",
      "metadata": {
        "id": "o9yTA21_r-ma",
        "colab": {
          "base_uri": "https://localhost:8080/"
        },
        "outputId": "233c3beb-3a86-4e25-b15b-e7336e337027"
      },
      "source": [
        "from keras import layers\n",
        "from keras import models\n",
        "\n",
        "model = models.Sequential()\n",
        "model.add(layers.Conv2D(32, (3, 3), activation='relu', input_shape=(150, 150, 3)))\n",
        "model.add(layers.MaxPooling2D((2, 2)))\n",
        "model.add(layers.Conv2D(64, (3, 3), activation='relu'))\n",
        "model.add(layers.MaxPooling2D((2, 2)))\n",
        "model.add(layers.Conv2D(128, (3, 3), activation='relu'))\n",
        "model.add(layers.MaxPooling2D((2, 2)))\n",
        "model.add(layers.Conv2D(128, (3, 3), activation='relu'))\n",
        "model.add(layers.MaxPooling2D((2, 2)))\n",
        "model.add(layers.Flatten())\n",
        "model.add(layers.Dense(512, activation='relu'))\n",
        "model.add(layers.Dense(1, activation='sigmoid'))\n",
        "model.summary()"
      ],
      "execution_count": null,
      "outputs": [
        {
          "output_type": "stream",
          "text": [
            "Model: \"sequential\"\n",
            "_________________________________________________________________\n",
            "Layer (type)                 Output Shape              Param #   \n",
            "=================================================================\n",
            "conv2d (Conv2D)              (None, 148, 148, 32)      896       \n",
            "_________________________________________________________________\n",
            "max_pooling2d (MaxPooling2D) (None, 74, 74, 32)        0         \n",
            "_________________________________________________________________\n",
            "conv2d_1 (Conv2D)            (None, 72, 72, 64)        18496     \n",
            "_________________________________________________________________\n",
            "max_pooling2d_1 (MaxPooling2 (None, 36, 36, 64)        0         \n",
            "_________________________________________________________________\n",
            "conv2d_2 (Conv2D)            (None, 34, 34, 128)       73856     \n",
            "_________________________________________________________________\n",
            "max_pooling2d_2 (MaxPooling2 (None, 17, 17, 128)       0         \n",
            "_________________________________________________________________\n",
            "conv2d_3 (Conv2D)            (None, 15, 15, 128)       147584    \n",
            "_________________________________________________________________\n",
            "max_pooling2d_3 (MaxPooling2 (None, 7, 7, 128)         0         \n",
            "_________________________________________________________________\n",
            "flatten (Flatten)            (None, 6272)              0         \n",
            "_________________________________________________________________\n",
            "dense (Dense)                (None, 512)               3211776   \n",
            "_________________________________________________________________\n",
            "dense_1 (Dense)              (None, 1)                 513       \n",
            "=================================================================\n",
            "Total params: 3,453,121\n",
            "Trainable params: 3,453,121\n",
            "Non-trainable params: 0\n",
            "_________________________________________________________________\n"
          ],
          "name": "stdout"
        }
      ]
    },
    {
      "cell_type": "code",
      "metadata": {
        "id": "2mG8wekxsBVS"
      },
      "source": [
        "from keras import optimizers\n",
        "model.compile(loss='binary_crossentropy', \n",
        "              optimizer=optimizers.RMSprop(lr=1e-4),\n",
        "              metrics=['acc'])"
      ],
      "execution_count": null,
      "outputs": []
    },
    {
      "cell_type": "markdown",
      "metadata": {
        "id": "7zS4Klm8qWp6"
      },
      "source": [
        "## Using ImageDataGenerator to read images from directories\n",
        "As you know by now, data should be formatted into appropriately preprocessed floatingpoint tensors before being fed into the network. Currently, the data sits on a drive as JPEG files, so the steps for getting it into the network are roughly as follows:\n",
        "\n",
        "* Read the picture files.\n",
        "* Decode the JPEG content to RGB grids of pixels.\n",
        "* Convert these into floating-point tensors.\n",
        "* Rescale the pixel values (between 0 and 255) to the [0, 1] interval (as you know, neural networks prefer to deal with small input values).\n",
        "\n",
        "It may seem a bit daunting, but fortunately Keras has utilities to take care of these steps automatically. Keras has a module with image-processing helper tools, located at keras.preprocessing.image. In particular, it contains the class ImageDataGenerator,which lets you quickly set up Python generators that can automatically turn image files on disk into batches of preprocessed tensors."
      ]
    },
    {
      "cell_type": "code",
      "metadata": {
        "id": "XJ7XU7t9sEh6",
        "colab": {
          "base_uri": "https://localhost:8080/"
        },
        "outputId": "917dc788-4220-4b33-a467-0860c0b7cc94"
      },
      "source": [
        "from keras.preprocessing.image import ImageDataGenerator\n",
        "\n",
        "train_datagen = ImageDataGenerator(rescale=1./255)\n",
        "test_datagen = ImageDataGenerator(rescale=1./255)\n",
        "\n",
        "train_generator = train_datagen.flow_from_directory(train_dir,\n",
        "                                                    target_size=(150, 150), \n",
        "                                                    batch_size=20,\n",
        "                                                    class_mode='binary')\n",
        "\n",
        "validation_generator = test_datagen.flow_from_directory(validation_dir,\n",
        "                                                        target_size=(150, 150),\n",
        "                                                        batch_size=20,\n",
        "                                                        class_mode='binary')"
      ],
      "execution_count": null,
      "outputs": [
        {
          "output_type": "stream",
          "text": [
            "Found 2000 images belonging to 2 classes.\n",
            "Found 1000 images belonging to 2 classes.\n"
          ],
          "name": "stdout"
        }
      ]
    },
    {
      "cell_type": "markdown",
      "metadata": {
        "id": "SEgLywySqm4u"
      },
      "source": [
        "Let’s fit the model to the data using the generator. You do so using the fit_generator method, the equivalent of fit for data generators like this one. It expects as its first argument a Python generator that will yield batches of inputs and targets indefinitely,like this one does. Because the data is being generated endlessly, the Keras model needs to know how many samples to draw from the generator before declaring anepoch over. This is the role of the `steps_per_epoch` argument: after having drawn `steps_per_epoch` batches from the generator—that is, after having run for `steps_per_epoch` gradient descent steps—the fitting process will go to the next epoch. In this case, batches are 20 samples, so it will take 100 batches until you see your target of 2,000 samples.\n",
        "\n",
        "When using fit_generator, you can pass a validation_data argument, much as with the fit method. It’s important to note that this argument is allowed to be a data generator, but it could also be a tuple of Numpy arrays. If you pass a generator as validation_data, then this generator is expected to yield batches of validation data endlessly; thus you should also specify the validation_steps argument, which tells the process how many batches to draw from the validation generator for evaluation."
      ]
    },
    {
      "cell_type": "code",
      "metadata": {
        "id": "yMyfPphJsJG6",
        "colab": {
          "base_uri": "https://localhost:8080/"
        },
        "outputId": "2b62dcff-c3d6-4805-fa3d-a72531faf946"
      },
      "source": [
        "history = model.fit_generator(train_generator,\n",
        "                              steps_per_epoch=100,\n",
        "                              epochs=30,\n",
        "                              validation_data=validation_generator,\n",
        "                              validation_steps=10)"
      ],
      "execution_count": null,
      "outputs": [
        {
          "output_type": "stream",
          "text": [
            "/usr/local/lib/python3.7/dist-packages/tensorflow/python/keras/engine/training.py:1844: UserWarning: `Model.fit_generator` is deprecated and will be removed in a future version. Please use `Model.fit`, which supports generators.\n",
            "  warnings.warn('`Model.fit_generator` is deprecated and '\n"
          ],
          "name": "stderr"
        },
        {
          "output_type": "stream",
          "text": [
            "Epoch 1/30\n",
            "100/100 [==============================] - 40s 71ms/step - loss: 0.6953 - acc: 0.5266 - val_loss: 0.6724 - val_acc: 0.6050\n",
            "Epoch 2/30\n",
            "100/100 [==============================] - 7s 69ms/step - loss: 0.6648 - acc: 0.6113 - val_loss: 0.6475 - val_acc: 0.6150\n",
            "Epoch 3/30\n",
            "100/100 [==============================] - 7s 69ms/step - loss: 0.6279 - acc: 0.6481 - val_loss: 0.6498 - val_acc: 0.6500\n",
            "Epoch 4/30\n",
            "100/100 [==============================] - 7s 69ms/step - loss: 0.5885 - acc: 0.6990 - val_loss: 0.5541 - val_acc: 0.7100\n",
            "Epoch 5/30\n",
            "100/100 [==============================] - 7s 70ms/step - loss: 0.5329 - acc: 0.7266 - val_loss: 0.5467 - val_acc: 0.6900\n",
            "Epoch 6/30\n",
            "100/100 [==============================] - 7s 70ms/step - loss: 0.4968 - acc: 0.7586 - val_loss: 0.5982 - val_acc: 0.6700\n",
            "Epoch 7/30\n",
            "100/100 [==============================] - 7s 69ms/step - loss: 0.4910 - acc: 0.7481 - val_loss: 0.6050 - val_acc: 0.6550\n",
            "Epoch 8/30\n",
            "100/100 [==============================] - 7s 69ms/step - loss: 0.4537 - acc: 0.7855 - val_loss: 0.6268 - val_acc: 0.6600\n",
            "Epoch 9/30\n",
            "100/100 [==============================] - 7s 68ms/step - loss: 0.4503 - acc: 0.7898 - val_loss: 0.5138 - val_acc: 0.7300\n",
            "Epoch 10/30\n",
            "100/100 [==============================] - 7s 69ms/step - loss: 0.3988 - acc: 0.8157 - val_loss: 0.6760 - val_acc: 0.6600\n",
            "Epoch 11/30\n",
            "100/100 [==============================] - 7s 69ms/step - loss: 0.3929 - acc: 0.8188 - val_loss: 0.5236 - val_acc: 0.7300\n",
            "Epoch 12/30\n",
            "100/100 [==============================] - 7s 68ms/step - loss: 0.3505 - acc: 0.8429 - val_loss: 0.5243 - val_acc: 0.7300\n",
            "Epoch 13/30\n",
            "100/100 [==============================] - 7s 69ms/step - loss: 0.3181 - acc: 0.8597 - val_loss: 0.6244 - val_acc: 0.6750\n",
            "Epoch 14/30\n",
            "100/100 [==============================] - 7s 69ms/step - loss: 0.3196 - acc: 0.8662 - val_loss: 0.6415 - val_acc: 0.6900\n",
            "Epoch 15/30\n",
            "100/100 [==============================] - 7s 69ms/step - loss: 0.2929 - acc: 0.8789 - val_loss: 0.6775 - val_acc: 0.6950\n",
            "Epoch 16/30\n",
            "100/100 [==============================] - 7s 70ms/step - loss: 0.2760 - acc: 0.8782 - val_loss: 0.6482 - val_acc: 0.7000\n",
            "Epoch 17/30\n",
            "100/100 [==============================] - 7s 69ms/step - loss: 0.2474 - acc: 0.9087 - val_loss: 0.5222 - val_acc: 0.8050\n",
            "Epoch 18/30\n",
            "100/100 [==============================] - 7s 69ms/step - loss: 0.2155 - acc: 0.9194 - val_loss: 0.5831 - val_acc: 0.7350\n",
            "Epoch 19/30\n",
            "100/100 [==============================] - 7s 69ms/step - loss: 0.2080 - acc: 0.9282 - val_loss: 0.7469 - val_acc: 0.7350\n",
            "Epoch 20/30\n",
            "100/100 [==============================] - 7s 69ms/step - loss: 0.1845 - acc: 0.9295 - val_loss: 0.7592 - val_acc: 0.6800\n",
            "Epoch 21/30\n",
            "100/100 [==============================] - 7s 69ms/step - loss: 0.1620 - acc: 0.9472 - val_loss: 0.6099 - val_acc: 0.7550\n",
            "Epoch 22/30\n",
            "100/100 [==============================] - 7s 70ms/step - loss: 0.1302 - acc: 0.9588 - val_loss: 0.7193 - val_acc: 0.7250\n",
            "Epoch 23/30\n",
            "100/100 [==============================] - 7s 69ms/step - loss: 0.1432 - acc: 0.9529 - val_loss: 0.6195 - val_acc: 0.7600\n",
            "Epoch 24/30\n",
            "100/100 [==============================] - 7s 69ms/step - loss: 0.1253 - acc: 0.9559 - val_loss: 0.8286 - val_acc: 0.7050\n",
            "Epoch 25/30\n",
            "100/100 [==============================] - 7s 69ms/step - loss: 0.0950 - acc: 0.9803 - val_loss: 0.7667 - val_acc: 0.7350\n",
            "Epoch 26/30\n",
            "100/100 [==============================] - 7s 70ms/step - loss: 0.0900 - acc: 0.9720 - val_loss: 0.6631 - val_acc: 0.7500\n",
            "Epoch 27/30\n",
            "100/100 [==============================] - 7s 68ms/step - loss: 0.0780 - acc: 0.9754 - val_loss: 0.6833 - val_acc: 0.7900\n",
            "Epoch 28/30\n",
            "100/100 [==============================] - 7s 69ms/step - loss: 0.0696 - acc: 0.9788 - val_loss: 0.8817 - val_acc: 0.7500\n",
            "Epoch 29/30\n",
            "100/100 [==============================] - 7s 69ms/step - loss: 0.0559 - acc: 0.9852 - val_loss: 0.7746 - val_acc: 0.7450\n",
            "Epoch 30/30\n",
            "100/100 [==============================] - 7s 69ms/step - loss: 0.0558 - acc: 0.9833 - val_loss: 1.0526 - val_acc: 0.7050\n"
          ],
          "name": "stdout"
        }
      ]
    },
    {
      "cell_type": "code",
      "metadata": {
        "id": "MZaZ2HWZsNUi",
        "colab": {
          "base_uri": "https://localhost:8080/",
          "height": 545
        },
        "outputId": "3c5c7275-6cc7-45ed-be5b-4d50729a941b"
      },
      "source": [
        "model.save('cats_and_dogs_small_1.h5')\n",
        "\n",
        "import matplotlib.pyplot as plt\n",
        "\n",
        "acc = history.history['acc']\n",
        "val_acc = history.history['val_acc']\n",
        "loss = history.history['loss']\n",
        "val_loss = history.history['val_loss']\n",
        "\n",
        "epochs = range(1, len(acc) + 1)\n",
        "\n",
        "plt.plot(epochs, acc, 'bo', label='Training acc')\n",
        "plt.plot(epochs, val_acc, 'b', label='Validation acc')\n",
        "plt.title('Training and validation accuracy')\n",
        "plt.legend()\n",
        "\n",
        "plt.figure()\n",
        "\n",
        "plt.plot(epochs, loss, 'bo', label='Training loss')\n",
        "plt.plot(epochs, val_loss, 'b', label='Validation loss')\n",
        "plt.title('Training and validation loss')\n",
        "plt.legend()\n",
        "\n",
        "plt.show()"
      ],
      "execution_count": null,
      "outputs": [
        {
          "output_type": "display_data",
          "data": {
            "image/png": "[encoded data removed]",
            "text/plain": [
              "<Figure size 432x288 with 1 Axes>"
            ]
          },
          "metadata": {
            "tags": [],
            "needs_background": "light"
          }
        },
        {
          "output_type": "display_data",
          "data": {
            "image/png": "[encoded data removed]",
            "text/plain": [
              "<Figure size 432x288 with 1 Axes>"
            ]
          },
          "metadata": {
            "tags": [],
            "needs_background": "light"
          }
        }
      ]
    },
    {
      "cell_type": "markdown",
      "metadata": {
        "id": "XKZmXmBcq_8-"
      },
      "source": [
        "## Convolutional Networks with Dropout\n",
        "\n",
        "![alt text](https://camo.githubusercontent.com/ee6fa1073247cd2c3d241300caf110d7a7541bc5/68747470733a2f2f63646e2d696d616765732d312e6d656469756d2e636f6d2f6d61782f3830302f312a4972644a355067684439596f4f7956415137334d4a772e676966)\n",
        "\n",
        "Ref: https://github.com/mneha4/Training-Neural-Nets---Guidelines"
      ]
    },
    {
      "cell_type": "code",
      "metadata": {
        "id": "wu3cqeYQrDeN"
      },
      "source": [
        "model = models.Sequential()\n",
        "model.add(layers.Conv2D(32, (3, 3), activation='relu',\n",
        "input_shape=(150, 150, 3)))\n",
        "model.add(layers.MaxPooling2D((2, 2)))\n",
        "model.add(layers.Conv2D(64, (3, 3), activation='relu'))\n",
        "model.add(layers.MaxPooling2D((2, 2)))\n",
        "model.add(layers.Conv2D(128, (3, 3), activation='relu'))\n",
        "model.add(layers.MaxPooling2D((2, 2)))\n",
        "model.add(layers.Conv2D(128, (3, 3), activation='relu'))\n",
        "model.add(layers.MaxPooling2D((2, 2)))\n",
        "model.add(layers.Flatten())\n",
        "model.add(layers.Dropout(0.5))\n",
        "model.add(layers.Dense(512, activation='relu'))\n",
        "model.add(layers.Dense(1, activation='sigmoid'))\n",
        "\n",
        "model.compile(loss='binary_crossentropy',\n",
        "              optimizer=optimizers.RMSprop(lr=1e-4),\n",
        "              metrics=['acc'])"
      ],
      "execution_count": null,
      "outputs": []
    },
    {
      "cell_type": "code",
      "metadata": {
        "id": "QSeLpvY0rH7F",
        "colab": {
          "base_uri": "https://localhost:8080/"
        },
        "outputId": "8b2a886b-8e05-41bc-b163-baeba2b77303"
      },
      "source": [
        "\n",
        "train_datagen = ImageDataGenerator(rescale=1./255,\n",
        "                                   rotation_range=40,\n",
        "                                   width_shift_range=0.2,\n",
        "                                   height_shift_range=0.2,\n",
        "                                   shear_range=0.2,\n",
        "                                   zoom_range=0.2,\n",
        "                                   horizontal_flip=True,)\n",
        "\n",
        "test_datagen = ImageDataGenerator(rescale=1./255)\n",
        "\n",
        "train_generator = train_datagen.flow_from_directory(train_dir,\n",
        "                                                    target_size=(150, 150),\n",
        "                                                    batch_size=20,\n",
        "                                                    class_mode='binary')\n",
        "\n",
        "validation_generator = test_datagen.flow_from_directory(validation_dir,\n",
        "                                                        target_size=(150, 150),\n",
        "                                                        batch_size=20,\n",
        "                                                        class_mode='binary')\n",
        "\n",
        "history = model.fit_generator(train_generator,\n",
        "                              steps_per_epoch=100,\n",
        "                              epochs=20,\n",
        "                              validation_data=validation_generator,\n",
        "                              validation_steps=50)"
      ],
      "execution_count": null,
      "outputs": [
        {
          "output_type": "stream",
          "text": [
            "Found 2000 images belonging to 2 classes.\n",
            "Found 1000 images belonging to 2 classes.\n"
          ],
          "name": "stdout"
        },
        {
          "output_type": "stream",
          "text": [
            "/usr/local/lib/python3.7/dist-packages/tensorflow/python/keras/engine/training.py:1844: UserWarning: `Model.fit_generator` is deprecated and will be removed in a future version. Please use `Model.fit`, which supports generators.\n",
            "  warnings.warn('`Model.fit_generator` is deprecated and '\n"
          ],
          "name": "stderr"
        },
        {
          "output_type": "stream",
          "text": [
            "Epoch 1/20\n",
            "100/100 [==============================] - 17s 173ms/step - loss: 0.6863 - acc: 0.5395 - val_loss: 0.6731 - val_acc: 0.5410\n",
            "Epoch 2/20\n",
            "100/100 [==============================] - 17s 172ms/step - loss: 0.6743 - acc: 0.5695 - val_loss: 0.6497 - val_acc: 0.6110\n",
            "Epoch 3/20\n",
            "100/100 [==============================] - 17s 172ms/step - loss: 0.6671 - acc: 0.5845 - val_loss: 0.6407 - val_acc: 0.6310\n",
            "Epoch 4/20\n",
            "100/100 [==============================] - 17s 172ms/step - loss: 0.6561 - acc: 0.6035 - val_loss: 0.6459 - val_acc: 0.5740\n",
            "Epoch 5/20\n",
            "100/100 [==============================] - 17s 171ms/step - loss: 0.6330 - acc: 0.6400 - val_loss: 0.6603 - val_acc: 0.6060\n",
            "Epoch 6/20\n",
            "100/100 [==============================] - 17s 172ms/step - loss: 0.6189 - acc: 0.6595 - val_loss: 0.5909 - val_acc: 0.6830\n",
            "Epoch 7/20\n",
            "100/100 [==============================] - 17s 171ms/step - loss: 0.6047 - acc: 0.6670 - val_loss: 0.5746 - val_acc: 0.6820\n",
            "Epoch 8/20\n",
            "100/100 [==============================] - 17s 173ms/step - loss: 0.6022 - acc: 0.6675 - val_loss: 0.6005 - val_acc: 0.6600\n",
            "Epoch 9/20\n",
            "100/100 [==============================] - 17s 172ms/step - loss: 0.5903 - acc: 0.6890 - val_loss: 0.5872 - val_acc: 0.6760\n",
            "Epoch 10/20\n",
            "100/100 [==============================] - 17s 171ms/step - loss: 0.6023 - acc: 0.6900 - val_loss: 0.5548 - val_acc: 0.7040\n",
            "Epoch 11/20\n",
            "100/100 [==============================] - 17s 172ms/step - loss: 0.5823 - acc: 0.6935 - val_loss: 0.6215 - val_acc: 0.6740\n",
            "Epoch 12/20\n",
            "100/100 [==============================] - 17s 170ms/step - loss: 0.5785 - acc: 0.6915 - val_loss: 0.5489 - val_acc: 0.7170\n",
            "Epoch 13/20\n",
            "100/100 [==============================] - 17s 173ms/step - loss: 0.5831 - acc: 0.6965 - val_loss: 0.5373 - val_acc: 0.7250\n",
            "Epoch 14/20\n",
            "100/100 [==============================] - 17s 171ms/step - loss: 0.5720 - acc: 0.6935 - val_loss: 0.5528 - val_acc: 0.7110\n",
            "Epoch 15/20\n",
            "100/100 [==============================] - 17s 171ms/step - loss: 0.5670 - acc: 0.6985 - val_loss: 0.5237 - val_acc: 0.7370\n",
            "Epoch 16/20\n",
            "100/100 [==============================] - 17s 172ms/step - loss: 0.5644 - acc: 0.7005 - val_loss: 0.5208 - val_acc: 0.7410\n",
            "Epoch 17/20\n",
            "100/100 [==============================] - 17s 172ms/step - loss: 0.5554 - acc: 0.7190 - val_loss: 0.5246 - val_acc: 0.7220\n",
            "Epoch 18/20\n",
            "100/100 [==============================] - 17s 173ms/step - loss: 0.5566 - acc: 0.6970 - val_loss: 0.5192 - val_acc: 0.7320\n",
            "Epoch 19/20\n",
            "100/100 [==============================] - 17s 171ms/step - loss: 0.5397 - acc: 0.7185 - val_loss: 0.5725 - val_acc: 0.7100\n",
            "Epoch 20/20\n",
            "100/100 [==============================] - 17s 172ms/step - loss: 0.5451 - acc: 0.7275 - val_loss: 0.5045 - val_acc: 0.7560\n"
          ],
          "name": "stdout"
        }
      ]
    },
    {
      "cell_type": "markdown",
      "metadata": {
        "id": "BRdU5yrkUF_b"
      },
      "source": [
        "# Task 2:\n",
        "\n",
        "We have used Dropout to enhance the performance of the CNN model. Can you please use whatever you like to further enhance the performance from `val_acc: 0.7506`? "
      ]
    },
    {
      "cell_type": "code",
      "metadata": {
        "id": "RW7J3xa523d1"
      },
      "source": [
        "from sklearn.model_selection import ParameterGrid\n",
        "optimizers = ['rmsprop', 'adam',]\n",
        "activations = ['relu', 'sigmoid','tanh']\n",
        "epochs = [25]\n",
        "steps = [100]\n",
        "batches=[20]"
      ],
      "execution_count": null,
      "outputs": []
    },
    {
      "cell_type": "code",
      "metadata": {
        "id": "oPIcyzreLdf0"
      },
      "source": [
        "param_grid = ParameterGrid(dict(optimizer=optimizers,activation=activations,epochs=epochs, batch_size=batches,steps_per_epoch=steps))"
      ],
      "execution_count": null,
      "outputs": []
    },
    {
      "cell_type": "code",
      "metadata": {
        "colab": {
          "base_uri": "https://localhost:8080/"
        },
        "id": "GlGjtpxlLhjt",
        "outputId": "7b335888-5a88-4427-edda-7eee3720b251"
      },
      "source": [
        "len(param_grid)"
      ],
      "execution_count": null,
      "outputs": [
        {
          "output_type": "execute_result",
          "data": {
            "text/plain": [
              "6"
            ]
          },
          "metadata": {
            "tags": []
          },
          "execution_count": 22
        }
      ]
    },
    {
      "cell_type": "code",
      "metadata": {
        "colab": {
          "base_uri": "https://localhost:8080/"
        },
        "id": "mFzGqEUyEn-b",
        "outputId": "9d503d12-c0ca-4147-ad22-d45582bf0428"
      },
      "source": [
        "histories=[]\n",
        "train_datagen = ImageDataGenerator(rescale=1./255,\n",
        "                                  rotation_range=40,\n",
        "                                  width_shift_range=0.2,\n",
        "                                  height_shift_range=0.2,\n",
        "                                  shear_range=0.2,\n",
        "                                  zoom_range=0.2,\n",
        "                                  horizontal_flip=True,)\n",
        "\n",
        "test_datagen = ImageDataGenerator(rescale=1./255)\n",
        "\n",
        "train_generator = train_datagen.flow_from_directory(train_dir,\n",
        "                                                    target_size=(150, 150),\n",
        "                                                    batch_size=batches[0],\n",
        "                                                    class_mode='binary')\n",
        "\n",
        "validation_generator = test_datagen.flow_from_directory(validation_dir,\n",
        "                                                        target_size=(150, 150),\n",
        "                                                        batch_size=batches[0],\n",
        "                                                        class_mode='binary')\n",
        "for i in range(0, len(param_grid)):\n",
        "  activation=param_grid[i][\"activation\"]\n",
        "  optimizer=param_grid[i][\"optimizer\"]\n",
        "  epoch=param_grid[i][\"epochs\"]\n",
        "  steps_per_epoch=param_grid[i][\"steps_per_epoch\"]\n",
        "  batch_size=param_grid[i][\"batch_size\"]\n",
        "  print()\n",
        "  print()\n",
        "\n",
        "  model = models.Sequential()\n",
        "  model.add(layers.Conv2D(32, (3, 3), activation=activation,\n",
        "  input_shape=(150, 150, 3)))\n",
        "  model.add(layers.MaxPooling2D((2, 2)))\n",
        "  model.add(layers.Conv2D(64, (3, 3), activation=activation))\n",
        "  model.add(layers.MaxPooling2D((2, 2)))\n",
        "  model.add(layers.Conv2D(128, (3, 3), activation=activation))\n",
        "  model.add(layers.MaxPooling2D((2, 2)))\n",
        "  model.add(layers.Conv2D(128, (3, 3), activation=activation))\n",
        "  model.add(layers.MaxPooling2D((2, 2)))\n",
        "  model.add(layers.Flatten())\n",
        "  model.add(layers.Dropout(0.5))\n",
        "  model.add(layers.Dense(512, activation=activation))\n",
        "  model.add(layers.Dense(1, activation='sigmoid'))\n",
        "\n",
        "  model.compile(loss='binary_crossentropy',\n",
        "              optimizer=optimizer,\n",
        "              metrics=['acc'])\n",
        "  history = model.fit_generator(train_generator,\n",
        "                                steps_per_epoch=steps_per_epoch,\n",
        "                                epochs=epoch,\n",
        "                                validation_data=validation_generator,\n",
        "                                validation_steps=50, verbose=1)\n",
        "  histories.append(history)"
      ],
      "execution_count": null,
      "outputs": [
        {
          "output_type": "stream",
          "text": [
            "Found 2000 images belonging to 2 classes.\n",
            "Found 1000 images belonging to 2 classes.\n",
            "\n",
            "\n"
          ],
          "name": "stdout"
        },
        {
          "output_type": "stream",
          "text": [
            "/usr/local/lib/python3.7/dist-packages/tensorflow/python/keras/engine/training.py:1844: UserWarning: `Model.fit_generator` is deprecated and will be removed in a future version. Please use `Model.fit`, which supports generators.\n",
            "  warnings.warn('`Model.fit_generator` is deprecated and '\n"
          ],
          "name": "stderr"
        },
        {
          "output_type": "stream",
          "text": [
            "Epoch 1/25\n",
            "100/100 [==============================] - 50s 174ms/step - loss: 0.8431 - acc: 0.4865 - val_loss: 0.6928 - val_acc: 0.5860\n",
            "Epoch 2/25\n",
            "100/100 [==============================] - 17s 173ms/step - loss: 0.6994 - acc: 0.5237 - val_loss: 0.7844 - val_acc: 0.5000\n",
            "Epoch 3/25\n",
            "100/100 [==============================] - 17s 171ms/step - loss: 0.7032 - acc: 0.5562 - val_loss: 0.6668 - val_acc: 0.6040\n",
            "Epoch 4/25\n",
            "100/100 [==============================] - 17s 171ms/step - loss: 0.6732 - acc: 0.6049 - val_loss: 0.6613 - val_acc: 0.5870\n",
            "Epoch 5/25\n",
            "100/100 [==============================] - 17s 171ms/step - loss: 0.6711 - acc: 0.5876 - val_loss: 0.6290 - val_acc: 0.6680\n",
            "Epoch 6/25\n",
            "100/100 [==============================] - 17s 171ms/step - loss: 0.6544 - acc: 0.6319 - val_loss: 0.6092 - val_acc: 0.6790\n",
            "Epoch 7/25\n",
            "100/100 [==============================] - 17s 172ms/step - loss: 0.6214 - acc: 0.6585 - val_loss: 0.6014 - val_acc: 0.6800\n",
            "Epoch 8/25\n",
            "100/100 [==============================] - 17s 171ms/step - loss: 0.6354 - acc: 0.6511 - val_loss: 0.5928 - val_acc: 0.6750\n",
            "Epoch 9/25\n",
            "100/100 [==============================] - 17s 172ms/step - loss: 0.5996 - acc: 0.6747 - val_loss: 0.5836 - val_acc: 0.6950\n",
            "Epoch 10/25\n",
            "100/100 [==============================] - 17s 171ms/step - loss: 0.6591 - acc: 0.6740 - val_loss: 0.9837 - val_acc: 0.5590\n",
            "Epoch 11/25\n",
            "100/100 [==============================] - 17s 171ms/step - loss: 0.6155 - acc: 0.6799 - val_loss: 0.5957 - val_acc: 0.6450\n",
            "Epoch 12/25\n",
            "100/100 [==============================] - 17s 172ms/step - loss: 0.5869 - acc: 0.6713 - val_loss: 0.5292 - val_acc: 0.7280\n",
            "Epoch 13/25\n",
            "100/100 [==============================] - 17s 172ms/step - loss: 0.6012 - acc: 0.6921 - val_loss: 0.5465 - val_acc: 0.7400\n",
            "Epoch 14/25\n",
            "100/100 [==============================] - 17s 173ms/step - loss: 0.5965 - acc: 0.6707 - val_loss: 0.5394 - val_acc: 0.7300\n",
            "Epoch 15/25\n",
            "100/100 [==============================] - 17s 171ms/step - loss: 0.5815 - acc: 0.7157 - val_loss: 0.5248 - val_acc: 0.7330\n",
            "Epoch 16/25\n",
            "100/100 [==============================] - 17s 172ms/step - loss: 0.5765 - acc: 0.7123 - val_loss: 0.7352 - val_acc: 0.6740\n",
            "Epoch 17/25\n",
            "100/100 [==============================] - 17s 172ms/step - loss: 0.5764 - acc: 0.7058 - val_loss: 0.5109 - val_acc: 0.7490\n",
            "Epoch 18/25\n",
            "100/100 [==============================] - 17s 171ms/step - loss: 0.5624 - acc: 0.7104 - val_loss: 1.3765 - val_acc: 0.5580\n",
            "Epoch 19/25\n",
            "100/100 [==============================] - 17s 172ms/step - loss: 0.5655 - acc: 0.7203 - val_loss: 0.5054 - val_acc: 0.7700\n",
            "Epoch 20/25\n",
            "100/100 [==============================] - 17s 172ms/step - loss: 0.5500 - acc: 0.7315 - val_loss: 0.6333 - val_acc: 0.7170\n",
            "Epoch 21/25\n",
            "100/100 [==============================] - 17s 172ms/step - loss: 0.5669 - acc: 0.7370 - val_loss: 0.5074 - val_acc: 0.7490\n",
            "Epoch 22/25\n",
            "100/100 [==============================] - 17s 171ms/step - loss: 0.5536 - acc: 0.7279 - val_loss: 0.4710 - val_acc: 0.7720\n",
            "Epoch 23/25\n",
            "100/100 [==============================] - 17s 170ms/step - loss: 0.5460 - acc: 0.7373 - val_loss: 0.4952 - val_acc: 0.7470\n",
            "Epoch 24/25\n",
            "100/100 [==============================] - 17s 171ms/step - loss: 0.5469 - acc: 0.7166 - val_loss: 0.4958 - val_acc: 0.7570\n",
            "Epoch 25/25\n",
            "100/100 [==============================] - 17s 171ms/step - loss: 0.5532 - acc: 0.7268 - val_loss: 0.4753 - val_acc: 0.7790\n",
            "\n",
            "\n",
            "Epoch 1/25\n",
            "100/100 [==============================] - 18s 173ms/step - loss: 0.7213 - acc: 0.4866 - val_loss: 0.6917 - val_acc: 0.5000\n",
            "Epoch 2/25\n",
            "100/100 [==============================] - 17s 170ms/step - loss: 0.6931 - acc: 0.5159 - val_loss: 0.6932 - val_acc: 0.5000\n",
            "Epoch 3/25\n",
            "100/100 [==============================] - 17s 170ms/step - loss: 0.6936 - acc: 0.5074 - val_loss: 0.6931 - val_acc: 0.5090\n",
            "Epoch 4/25\n",
            "100/100 [==============================] - 17s 170ms/step - loss: 0.6911 - acc: 0.5018 - val_loss: 0.6558 - val_acc: 0.6020\n",
            "Epoch 5/25\n",
            "100/100 [==============================] - 17s 171ms/step - loss: 0.6902 - acc: 0.5533 - val_loss: 0.6924 - val_acc: 0.5200\n",
            "Epoch 6/25\n",
            "100/100 [==============================] - 17s 171ms/step - loss: 0.6908 - acc: 0.5503 - val_loss: 0.6882 - val_acc: 0.5320\n",
            "Epoch 7/25\n",
            "100/100 [==============================] - 17s 172ms/step - loss: 0.6866 - acc: 0.5535 - val_loss: 0.6796 - val_acc: 0.5560\n",
            "Epoch 8/25\n",
            "100/100 [==============================] - 17s 169ms/step - loss: 0.6843 - acc: 0.5541 - val_loss: 0.6720 - val_acc: 0.5610\n",
            "Epoch 9/25\n",
            "100/100 [==============================] - 17s 170ms/step - loss: 0.6636 - acc: 0.5934 - val_loss: 0.6473 - val_acc: 0.6380\n",
            "Epoch 10/25\n",
            "100/100 [==============================] - 17s 171ms/step - loss: 0.6820 - acc: 0.5435 - val_loss: 0.6404 - val_acc: 0.6180\n",
            "Epoch 11/25\n",
            "100/100 [==============================] - 17s 170ms/step - loss: 0.6787 - acc: 0.5503 - val_loss: 0.6479 - val_acc: 0.6220\n",
            "Epoch 12/25\n",
            "100/100 [==============================] - 17s 172ms/step - loss: 0.6510 - acc: 0.6202 - val_loss: 0.6306 - val_acc: 0.6630\n",
            "Epoch 13/25\n",
            "100/100 [==============================] - 17s 170ms/step - loss: 0.6339 - acc: 0.6338 - val_loss: 0.6580 - val_acc: 0.6280\n",
            "Epoch 14/25\n",
            "100/100 [==============================] - 17s 171ms/step - loss: 0.6741 - acc: 0.5961 - val_loss: 0.6121 - val_acc: 0.6810\n",
            "Epoch 15/25\n",
            "100/100 [==============================] - 17s 172ms/step - loss: 0.6258 - acc: 0.6671 - val_loss: 0.6246 - val_acc: 0.6350\n",
            "Epoch 16/25\n",
            "100/100 [==============================] - 17s 170ms/step - loss: 0.6182 - acc: 0.6612 - val_loss: 0.5861 - val_acc: 0.7120\n",
            "Epoch 17/25\n",
            "100/100 [==============================] - 17s 171ms/step - loss: 0.5918 - acc: 0.6796 - val_loss: 0.6037 - val_acc: 0.6750\n",
            "Epoch 18/25\n",
            "100/100 [==============================] - 17s 170ms/step - loss: 0.5851 - acc: 0.6948 - val_loss: 0.5766 - val_acc: 0.6950\n",
            "Epoch 19/25\n",
            "100/100 [==============================] - 17s 170ms/step - loss: 0.6015 - acc: 0.6721 - val_loss: 0.5683 - val_acc: 0.6980\n",
            "Epoch 20/25\n",
            "100/100 [==============================] - 17s 172ms/step - loss: 0.5901 - acc: 0.6852 - val_loss: 0.5390 - val_acc: 0.7220\n",
            "Epoch 21/25\n",
            "100/100 [==============================] - 17s 170ms/step - loss: 0.5806 - acc: 0.7015 - val_loss: 0.5384 - val_acc: 0.7320\n",
            "Epoch 22/25\n",
            "100/100 [==============================] - 17s 170ms/step - loss: 0.5760 - acc: 0.6972 - val_loss: 0.5425 - val_acc: 0.7280\n",
            "Epoch 23/25\n",
            "100/100 [==============================] - 17s 170ms/step - loss: 0.5538 - acc: 0.7020 - val_loss: 0.5617 - val_acc: 0.7120\n",
            "Epoch 24/25\n",
            "100/100 [==============================] - 17s 172ms/step - loss: 0.5689 - acc: 0.7131 - val_loss: 0.5245 - val_acc: 0.7370\n",
            "Epoch 25/25\n",
            "100/100 [==============================] - 17s 173ms/step - loss: 0.5650 - acc: 0.7178 - val_loss: 0.6698 - val_acc: 0.6650\n",
            "\n",
            "\n",
            "Epoch 1/25\n",
            "100/100 [==============================] - 18s 173ms/step - loss: 1.9638 - acc: 0.4991 - val_loss: 0.7250 - val_acc: 0.5000\n",
            "Epoch 2/25\n",
            "100/100 [==============================] - 17s 172ms/step - loss: 0.7088 - acc: 0.5001 - val_loss: 0.6966 - val_acc: 0.5000\n",
            "Epoch 3/25\n",
            "100/100 [==============================] - 17s 172ms/step - loss: 0.7055 - acc: 0.4866 - val_loss: 0.6932 - val_acc: 0.5000\n",
            "Epoch 4/25\n",
            "100/100 [==============================] - 17s 172ms/step - loss: 0.7008 - acc: 0.5154 - val_loss: 0.6958 - val_acc: 0.5000\n",
            "Epoch 5/25\n",
            "100/100 [==============================] - 17s 173ms/step - loss: 0.6991 - acc: 0.5190 - val_loss: 0.7044 - val_acc: 0.5000\n",
            "Epoch 6/25\n",
            "100/100 [==============================] - 17s 172ms/step - loss: 0.7032 - acc: 0.4944 - val_loss: 0.7093 - val_acc: 0.5000\n",
            "Epoch 7/25\n",
            "100/100 [==============================] - 17s 171ms/step - loss: 0.6997 - acc: 0.4985 - val_loss: 0.6979 - val_acc: 0.5000\n",
            "Epoch 8/25\n",
            "100/100 [==============================] - 17s 172ms/step - loss: 0.6999 - acc: 0.5152 - val_loss: 0.6932 - val_acc: 0.5000\n",
            "Epoch 9/25\n",
            "100/100 [==============================] - 17s 173ms/step - loss: 0.7003 - acc: 0.5024 - val_loss: 0.6951 - val_acc: 0.5000\n",
            "Epoch 10/25\n",
            "100/100 [==============================] - 17s 171ms/step - loss: 0.7053 - acc: 0.4809 - val_loss: 0.6969 - val_acc: 0.5000\n",
            "Epoch 11/25\n",
            "100/100 [==============================] - 17s 171ms/step - loss: 0.7033 - acc: 0.4859 - val_loss: 0.6939 - val_acc: 0.5000\n",
            "Epoch 12/25\n",
            "100/100 [==============================] - 17s 171ms/step - loss: 0.7001 - acc: 0.5076 - val_loss: 0.6935 - val_acc: 0.5000\n",
            "Epoch 13/25\n",
            "100/100 [==============================] - 17s 173ms/step - loss: 0.6997 - acc: 0.5043 - val_loss: 0.7055 - val_acc: 0.5000\n",
            "Epoch 14/25\n",
            "100/100 [==============================] - 17s 173ms/step - loss: 0.7009 - acc: 0.5009 - val_loss: 0.7021 - val_acc: 0.5000\n",
            "Epoch 15/25\n",
            "100/100 [==============================] - 17s 171ms/step - loss: 0.6964 - acc: 0.5070 - val_loss: 0.6931 - val_acc: 0.5000\n",
            "Epoch 16/25\n",
            "100/100 [==============================] - 17s 172ms/step - loss: 0.7044 - acc: 0.4918 - val_loss: 0.6997 - val_acc: 0.5000\n",
            "Epoch 17/25\n",
            "100/100 [==============================] - 17s 171ms/step - loss: 0.6985 - acc: 0.5090 - val_loss: 0.6971 - val_acc: 0.5000\n",
            "Epoch 18/25\n",
            "100/100 [==============================] - 17s 174ms/step - loss: 0.7029 - acc: 0.4792 - val_loss: 0.7274 - val_acc: 0.5000\n",
            "Epoch 19/25\n",
            "100/100 [==============================] - 17s 171ms/step - loss: 0.7038 - acc: 0.4758 - val_loss: 0.7015 - val_acc: 0.5000\n",
            "Epoch 20/25\n",
            "100/100 [==============================] - 17s 173ms/step - loss: 0.7033 - acc: 0.4818 - val_loss: 0.7013 - val_acc: 0.5000\n",
            "Epoch 21/25\n",
            "100/100 [==============================] - 17s 171ms/step - loss: 0.7036 - acc: 0.4998 - val_loss: 0.6963 - val_acc: 0.5000\n",
            "Epoch 22/25\n",
            "100/100 [==============================] - 17s 173ms/step - loss: 0.6983 - acc: 0.5044 - val_loss: 0.6935 - val_acc: 0.5000\n",
            "Epoch 23/25\n",
            "100/100 [==============================] - 17s 175ms/step - loss: 0.6992 - acc: 0.5088 - val_loss: 0.6938 - val_acc: 0.5000\n",
            "Epoch 24/25\n",
            "100/100 [==============================] - 17s 173ms/step - loss: 0.6997 - acc: 0.5258 - val_loss: 0.7009 - val_acc: 0.5000\n",
            "Epoch 25/25\n",
            "100/100 [==============================] - 17s 172ms/step - loss: 0.7012 - acc: 0.4945 - val_loss: 0.6932 - val_acc: 0.5000\n",
            "\n",
            "\n",
            "Epoch 1/25\n",
            "100/100 [==============================] - 18s 175ms/step - loss: 1.0131 - acc: 0.5093 - val_loss: 0.6933 - val_acc: 0.5000\n",
            "Epoch 2/25\n",
            "100/100 [==============================] - 17s 172ms/step - loss: 0.6953 - acc: 0.4925 - val_loss: 0.7103 - val_acc: 0.5000\n",
            "Epoch 3/25\n",
            "100/100 [==============================] - 17s 171ms/step - loss: 0.7082 - acc: 0.4909 - val_loss: 0.7106 - val_acc: 0.5000\n",
            "Epoch 4/25\n",
            "100/100 [==============================] - 17s 170ms/step - loss: 0.6996 - acc: 0.5054 - val_loss: 0.6956 - val_acc: 0.5000\n",
            "Epoch 5/25\n",
            "100/100 [==============================] - 17s 171ms/step - loss: 0.7002 - acc: 0.4913 - val_loss: 0.6937 - val_acc: 0.5000\n",
            "Epoch 6/25\n",
            "100/100 [==============================] - 17s 170ms/step - loss: 0.6983 - acc: 0.4842 - val_loss: 0.6932 - val_acc: 0.5000\n",
            "Epoch 7/25\n",
            "100/100 [==============================] - 17s 172ms/step - loss: 0.6970 - acc: 0.5020 - val_loss: 0.6933 - val_acc: 0.5000\n",
            "Epoch 8/25\n",
            "100/100 [==============================] - 17s 171ms/step - loss: 0.6959 - acc: 0.5078 - val_loss: 0.7038 - val_acc: 0.5000\n",
            "Epoch 9/25\n",
            "100/100 [==============================] - 17s 172ms/step - loss: 0.6972 - acc: 0.5131 - val_loss: 0.6943 - val_acc: 0.5000\n",
            "Epoch 10/25\n",
            "100/100 [==============================] - 17s 170ms/step - loss: 0.6975 - acc: 0.4808 - val_loss: 0.7169 - val_acc: 0.5000\n",
            "Epoch 11/25\n",
            "100/100 [==============================] - 17s 173ms/step - loss: 0.7059 - acc: 0.4788 - val_loss: 0.6932 - val_acc: 0.5000\n",
            "Epoch 12/25\n",
            "100/100 [==============================] - 17s 171ms/step - loss: 0.6980 - acc: 0.5204 - val_loss: 0.6932 - val_acc: 0.5000\n",
            "Epoch 13/25\n",
            "100/100 [==============================] - 17s 170ms/step - loss: 0.6966 - acc: 0.4956 - val_loss: 0.6975 - val_acc: 0.5000\n",
            "Epoch 14/25\n",
            "100/100 [==============================] - 17s 170ms/step - loss: 0.6952 - acc: 0.5107 - val_loss: 0.6963 - val_acc: 0.5000\n",
            "Epoch 15/25\n",
            "100/100 [==============================] - 17s 170ms/step - loss: 0.7019 - acc: 0.4909 - val_loss: 0.7113 - val_acc: 0.5000\n",
            "Epoch 16/25\n",
            "100/100 [==============================] - 17s 171ms/step - loss: 0.7022 - acc: 0.4969 - val_loss: 0.6976 - val_acc: 0.5000\n",
            "Epoch 17/25\n",
            "100/100 [==============================] - 17s 171ms/step - loss: 0.6978 - acc: 0.4954 - val_loss: 0.6950 - val_acc: 0.5000\n",
            "Epoch 18/25\n",
            "100/100 [==============================] - 17s 170ms/step - loss: 0.7001 - acc: 0.4909 - val_loss: 0.6987 - val_acc: 0.5000\n",
            "Epoch 19/25\n",
            "100/100 [==============================] - 17s 172ms/step - loss: 0.6973 - acc: 0.5211 - val_loss: 0.6955 - val_acc: 0.5000\n",
            "Epoch 20/25\n",
            "100/100 [==============================] - 17s 171ms/step - loss: 0.6986 - acc: 0.4878 - val_loss: 0.6950 - val_acc: 0.5000\n",
            "Epoch 21/25\n",
            "100/100 [==============================] - 17s 171ms/step - loss: 0.6989 - acc: 0.5148 - val_loss: 0.6938 - val_acc: 0.5000\n",
            "Epoch 22/25\n",
            "100/100 [==============================] - 17s 172ms/step - loss: 0.6998 - acc: 0.5256 - val_loss: 0.6932 - val_acc: 0.5000\n",
            "Epoch 23/25\n",
            "100/100 [==============================] - 17s 171ms/step - loss: 0.7032 - acc: 0.4944 - val_loss: 0.6968 - val_acc: 0.5000\n",
            "Epoch 24/25\n",
            "100/100 [==============================] - 17s 170ms/step - loss: 0.6997 - acc: 0.5110 - val_loss: 0.6958 - val_acc: 0.5000\n",
            "Epoch 25/25\n",
            "100/100 [==============================] - 17s 171ms/step - loss: 0.6981 - acc: 0.4735 - val_loss: 0.6980 - val_acc: 0.5000\n",
            "\n",
            "\n",
            "Epoch 1/25\n",
            "100/100 [==============================] - 18s 174ms/step - loss: 2.2680 - acc: 0.4896 - val_loss: 0.7097 - val_acc: 0.5000\n",
            "Epoch 2/25\n",
            "100/100 [==============================] - 17s 169ms/step - loss: 0.7292 - acc: 0.4726 - val_loss: 0.6931 - val_acc: 0.5000\n",
            "Epoch 3/25\n",
            "100/100 [==============================] - 17s 171ms/step - loss: 0.7137 - acc: 0.4881 - val_loss: 0.6932 - val_acc: 0.5000\n",
            "Epoch 4/25\n",
            "100/100 [==============================] - 17s 171ms/step - loss: 0.7289 - acc: 0.5339 - val_loss: 0.7148 - val_acc: 0.5000\n",
            "Epoch 5/25\n",
            "100/100 [==============================] - 17s 173ms/step - loss: 0.7072 - acc: 0.5064 - val_loss: 0.6986 - val_acc: 0.5000\n",
            "Epoch 6/25\n",
            "100/100 [==============================] - 17s 171ms/step - loss: 0.7095 - acc: 0.4918 - val_loss: 0.6998 - val_acc: 0.5000\n",
            "Epoch 7/25\n",
            "100/100 [==============================] - 17s 170ms/step - loss: 0.7006 - acc: 0.5311 - val_loss: 0.6963 - val_acc: 0.5000\n",
            "Epoch 8/25\n",
            "100/100 [==============================] - 17s 171ms/step - loss: 0.7105 - acc: 0.4918 - val_loss: 0.7302 - val_acc: 0.5000\n",
            "Epoch 9/25\n",
            "100/100 [==============================] - 17s 172ms/step - loss: 0.7043 - acc: 0.5173 - val_loss: 0.7384 - val_acc: 0.5000\n",
            "Epoch 10/25\n",
            "100/100 [==============================] - 17s 170ms/step - loss: 0.7129 - acc: 0.5119 - val_loss: 0.7102 - val_acc: 0.5000\n",
            "Epoch 11/25\n",
            "100/100 [==============================] - 17s 172ms/step - loss: 0.7158 - acc: 0.4722 - val_loss: 0.7131 - val_acc: 0.5000\n",
            "Epoch 12/25\n",
            "100/100 [==============================] - 17s 172ms/step - loss: 0.7098 - acc: 0.5033 - val_loss: 0.7228 - val_acc: 0.5000\n",
            "Epoch 13/25\n",
            "100/100 [==============================] - 17s 170ms/step - loss: 0.7177 - acc: 0.4869 - val_loss: 0.7147 - val_acc: 0.5000\n",
            "Epoch 14/25\n",
            "100/100 [==============================] - 17s 171ms/step - loss: 0.7108 - acc: 0.4922 - val_loss: 0.7025 - val_acc: 0.5000\n",
            "Epoch 15/25\n",
            "100/100 [==============================] - 17s 172ms/step - loss: 0.7114 - acc: 0.4924 - val_loss: 0.6975 - val_acc: 0.5000\n",
            "Epoch 16/25\n",
            "100/100 [==============================] - 17s 172ms/step - loss: 0.7044 - acc: 0.5047 - val_loss: 0.6932 - val_acc: 0.5000\n",
            "Epoch 17/25\n",
            "100/100 [==============================] - 17s 171ms/step - loss: 0.7129 - acc: 0.4839 - val_loss: 0.7428 - val_acc: 0.5000\n",
            "Epoch 18/25\n",
            "100/100 [==============================] - 17s 171ms/step - loss: 0.7126 - acc: 0.5021 - val_loss: 0.7433 - val_acc: 0.5000\n",
            "Epoch 19/25\n",
            "100/100 [==============================] - 17s 172ms/step - loss: 0.7093 - acc: 0.5121 - val_loss: 0.7388 - val_acc: 0.5000\n",
            "Epoch 20/25\n",
            "100/100 [==============================] - 17s 172ms/step - loss: 0.7217 - acc: 0.4904 - val_loss: 0.7025 - val_acc: 0.5000\n",
            "Epoch 21/25\n",
            "100/100 [==============================] - 17s 170ms/step - loss: 0.7153 - acc: 0.5146 - val_loss: 0.7017 - val_acc: 0.5000\n",
            "Epoch 22/25\n",
            "100/100 [==============================] - 17s 173ms/step - loss: 0.7113 - acc: 0.4875 - val_loss: 0.6931 - val_acc: 0.5210\n",
            "Epoch 23/25\n",
            "100/100 [==============================] - 17s 170ms/step - loss: 0.7763 - acc: 0.4892 - val_loss: 0.6997 - val_acc: 0.5020\n",
            "Epoch 24/25\n",
            "100/100 [==============================] - 17s 171ms/step - loss: 0.7071 - acc: 0.5294 - val_loss: 0.7454 - val_acc: 0.5010\n",
            "Epoch 25/25\n",
            "100/100 [==============================] - 17s 171ms/step - loss: 0.7192 - acc: 0.4937 - val_loss: 0.7146 - val_acc: 0.5070\n",
            "\n",
            "\n",
            "Epoch 1/25\n",
            "100/100 [==============================] - 18s 175ms/step - loss: 1.1982 - acc: 0.4860 - val_loss: 0.7760 - val_acc: 0.5070\n",
            "Epoch 2/25\n",
            "100/100 [==============================] - 17s 171ms/step - loss: 0.7085 - acc: 0.5698 - val_loss: 0.6681 - val_acc: 0.6000\n",
            "Epoch 3/25\n",
            "100/100 [==============================] - 17s 172ms/step - loss: 0.7155 - acc: 0.5538 - val_loss: 0.6390 - val_acc: 0.6590\n",
            "Epoch 4/25\n",
            "100/100 [==============================] - 17s 173ms/step - loss: 0.6710 - acc: 0.5982 - val_loss: 0.7111 - val_acc: 0.5580\n",
            "Epoch 5/25\n",
            "100/100 [==============================] - 17s 174ms/step - loss: 0.6406 - acc: 0.6342 - val_loss: 0.6808 - val_acc: 0.5760\n",
            "Epoch 6/25\n",
            "100/100 [==============================] - 17s 171ms/step - loss: 0.6548 - acc: 0.6177 - val_loss: 0.6327 - val_acc: 0.6570\n",
            "Epoch 7/25\n",
            "100/100 [==============================] - 17s 173ms/step - loss: 0.6211 - acc: 0.6743 - val_loss: 0.6358 - val_acc: 0.6350\n",
            "Epoch 8/25\n",
            "100/100 [==============================] - 17s 175ms/step - loss: 0.6199 - acc: 0.6533 - val_loss: 0.5848 - val_acc: 0.6900\n",
            "Epoch 9/25\n",
            "100/100 [==============================] - 17s 173ms/step - loss: 0.6078 - acc: 0.6727 - val_loss: 0.5698 - val_acc: 0.7140\n",
            "Epoch 10/25\n",
            "100/100 [==============================] - 17s 172ms/step - loss: 0.6405 - acc: 0.6422 - val_loss: 0.5745 - val_acc: 0.7160\n",
            "Epoch 11/25\n",
            "100/100 [==============================] - 17s 173ms/step - loss: 0.5979 - acc: 0.6852 - val_loss: 0.5808 - val_acc: 0.6940\n",
            "Epoch 12/25\n",
            "100/100 [==============================] - 17s 172ms/step - loss: 0.6062 - acc: 0.6632 - val_loss: 0.6085 - val_acc: 0.6620\n",
            "Epoch 13/25\n",
            "100/100 [==============================] - 17s 173ms/step - loss: 0.5988 - acc: 0.6795 - val_loss: 0.5536 - val_acc: 0.7150\n",
            "Epoch 14/25\n",
            "100/100 [==============================] - 17s 173ms/step - loss: 0.5964 - acc: 0.6908 - val_loss: 0.5413 - val_acc: 0.7160\n",
            "Epoch 15/25\n",
            "100/100 [==============================] - 17s 174ms/step - loss: 0.5955 - acc: 0.6751 - val_loss: 0.5254 - val_acc: 0.7500\n",
            "Epoch 16/25\n",
            "100/100 [==============================] - 17s 171ms/step - loss: 0.6033 - acc: 0.6771 - val_loss: 0.5517 - val_acc: 0.7510\n",
            "Epoch 17/25\n",
            "100/100 [==============================] - 17s 171ms/step - loss: 0.5959 - acc: 0.6859 - val_loss: 0.6744 - val_acc: 0.6680\n",
            "Epoch 18/25\n",
            "100/100 [==============================] - 17s 173ms/step - loss: 0.6013 - acc: 0.6867 - val_loss: 0.5908 - val_acc: 0.6960\n",
            "Epoch 19/25\n",
            "100/100 [==============================] - 17s 173ms/step - loss: 0.6003 - acc: 0.6776 - val_loss: 0.6079 - val_acc: 0.6520\n",
            "Epoch 20/25\n",
            "100/100 [==============================] - 17s 172ms/step - loss: 0.5742 - acc: 0.6997 - val_loss: 0.5552 - val_acc: 0.7100\n",
            "Epoch 21/25\n",
            "100/100 [==============================] - 17s 172ms/step - loss: 0.5792 - acc: 0.6944 - val_loss: 0.5641 - val_acc: 0.7140\n",
            "Epoch 22/25\n",
            "100/100 [==============================] - 17s 173ms/step - loss: 0.6099 - acc: 0.6820 - val_loss: 0.5433 - val_acc: 0.7320\n",
            "Epoch 23/25\n",
            "100/100 [==============================] - 17s 173ms/step - loss: 0.6073 - acc: 0.6856 - val_loss: 0.5316 - val_acc: 0.7660\n",
            "Epoch 24/25\n",
            "100/100 [==============================] - 17s 173ms/step - loss: 0.5710 - acc: 0.7055 - val_loss: 0.5466 - val_acc: 0.7250\n",
            "Epoch 25/25\n",
            "100/100 [==============================] - 17s 172ms/step - loss: 0.5715 - acc: 0.7017 - val_loss: 0.6583 - val_acc: 0.6510\n"
          ],
          "name": "stdout"
        }
      ]
    },
    {
      "cell_type": "code",
      "metadata": {
        "id": "wwsIlY0Y4AGu"
      },
      "source": [
        "# def create_model(optimizer='rmsprop', activation=\"relu\"):\n",
        "#   model = models.Sequential()\n",
        "#   model.add(layers.Conv2D(32, (3, 3), activation=activation,\n",
        "#   input_shape=(150, 150, 3)))\n",
        "#   model.add(layers.MaxPooling2D((2, 2)))\n",
        "#   model.add(layers.Conv2D(64, (3, 3), activation=activation))\n",
        "#   model.add(layers.MaxPooling2D((2, 2)))\n",
        "#   model.add(layers.Conv2D(128, (3, 3), activation=activation))\n",
        "#   model.add(layers.MaxPooling2D((2, 2)))\n",
        "#   model.add(layers.Conv2D(128, (3, 3), activation=activation))\n",
        "#   model.add(layers.MaxPooling2D((2, 2)))\n",
        "#   model.add(layers.Flatten())\n",
        "#   model.add(layers.Dropout(0.5))\n",
        "#   model.add(layers.Dense(512, activation=activation))\n",
        "#   model.add(layers.Dense(1, activation='sigmoid'))\n",
        "\n",
        "#   model.compile(loss='binary_crossentropy',\n",
        "#               optimizer=optimizer,\n",
        "#               metrics=['acc'])\n",
        "#   return model\n",
        "\n",
        "# from keras.wrappers.scikit_learn import KerasClassifier\n",
        "# from sklearn.model_selection import GridSearchCV\n",
        "# model = KerasClassifier(build_fn=create_model, verbose=1)\n",
        "# # init = ['glorot_uniform', 'normal', 'uniform']\n",
        "\n",
        "\n",
        "# param_grid = dict(optimizer=optimizers,activation=activations,nb_epoch=epochs, batch_size=batches)\n",
        "# grid = GridSearchCV(estimator=model, param_grid=param_grid, cv=5, n_jobs=1, verbose=3)\n",
        "# grid_result = grid.fit(train_images, train_labels)\n",
        "\n",
        "# df = pd.DataFrame(grid_result.cv_results_).drop([\"mean_fit_time\",\"std_fit_time\",\"mean_score_time\",\"std_score_time\"], axis =1).sort_values(by='rank_test_score')\n",
        "# first_column = df.pop('rank_test_score') \n",
        "# df.insert(0, 'rank_test_score', first_column) \n",
        "# df"
      ],
      "execution_count": null,
      "outputs": []
    },
    {
      "cell_type": "code",
      "metadata": {
        "id": "AeAvO2vH4AJu"
      },
      "source": [
        ""
      ],
      "execution_count": null,
      "outputs": []
    }
  ]
}