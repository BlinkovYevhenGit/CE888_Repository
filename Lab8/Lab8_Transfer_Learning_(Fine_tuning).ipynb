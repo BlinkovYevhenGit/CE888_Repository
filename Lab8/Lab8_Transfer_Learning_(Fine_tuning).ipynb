{
  "nbformat": 4,
  "nbformat_minor": 0,
  "metadata": {
    "colab": {
      "name": "Lab8_Transfer_Learning (Fine_tuning).ipynb",
      "provenance": [],
      "include_colab_link": true
    },
    "kernelspec": {
      "name": "python3",
      "display_name": "Python 3"
    },
    "accelerator": "GPU"
  },
  "cells": [
    {
      "cell_type": "markdown",
      "metadata": {
        "id": "view-in-github",
        "colab_type": "text"
      },
      "source": [
        "<a href=\"https://colab.research.google.com/github/BlinkovYevhenGit/CE888_Repository/blob/main/Lab8/Lab8_Transfer_Learning_(Fine_tuning).ipynb\" target=\"_parent\"><img src=\"https://colab.research.google.com/assets/colab-badge.svg\" alt=\"Open In Colab\"/></a>"
      ]
    },
    {
      "cell_type": "code",
      "metadata": {
        "colab": {
          "base_uri": "https://localhost:8080/"
        },
        "id": "cyaE2wnmkZsZ",
        "outputId": "49ea6672-5897-49f8-8e27-1c39b13b5aff"
      },
      "source": [
        "import os\n",
        "from urllib.request import urlopen\n",
        "from io import BytesIO\n",
        "from zipfile import ZipFile\n",
        "file_name = \"https://github.com/sagihaider/CE888_2021/blob/main/Lab_8/data.zip?raw=true\"\n",
        "with urlopen(file_name) as zipresp:\n",
        "    with ZipFile(BytesIO(zipresp.read())) as zfile:\n",
        "        zfile.extractall()\n",
        "        print('done')"
      ],
      "execution_count": 6,
      "outputs": [
        {
          "output_type": "stream",
          "text": [
            "done\n"
          ],
          "name": "stdout"
        }
      ]
    },
    {
      "cell_type": "code",
      "metadata": {
        "id": "nBtRc6GEl4Ps"
      },
      "source": [
        "base_dir = '/content/data/4_class_data'\n",
        "os.mkdir(base_dir)"
      ],
      "execution_count": 7,
      "outputs": []
    },
    {
      "cell_type": "code",
      "metadata": {
        "id": "-ZnKTLwTmWLi"
      },
      "source": [
        "train_dir = os.path.join(base_dir, 'train')\n",
        "os.mkdir(train_dir)\n",
        "\n",
        "validation_dir = os.path.join(base_dir, 'validation')\n",
        "os.mkdir(validation_dir)\n",
        "\n",
        "test_dir = os.path.join(base_dir, 'test')\n",
        "os.mkdir(test_dir)"
      ],
      "execution_count": 8,
      "outputs": []
    },
    {
      "cell_type": "code",
      "metadata": {
        "colab": {
          "base_uri": "https://localhost:8080/",
          "height": 35
        },
        "id": "dmYKHmt2niTu",
        "outputId": "dad4e670-5ed8-4edf-fcb2-26b97a821408"
      },
      "source": [
        "train_dir"
      ],
      "execution_count": 9,
      "outputs": [
        {
          "output_type": "execute_result",
          "data": {
            "application/vnd.google.colaboratory.intrinsic+json": {
              "type": "string"
            },
            "text/plain": [
              "'/content/data/4_class_data/train'"
            ]
          },
          "metadata": {
            "tags": []
          },
          "execution_count": 9
        }
      ]
    },
    {
      "cell_type": "code",
      "metadata": {
        "colab": {
          "base_uri": "https://localhost:8080/"
        },
        "id": "O-8SKVfFTNiS",
        "outputId": "fe872fac-d41d-469a-d550-681c019887ae"
      },
      "source": [
        "path, dirs, files = next(os.walk(validation_dir))\n",
        "file_count = len(files)\n",
        "print(file_count)"
      ],
      "execution_count": 10,
      "outputs": [
        {
          "output_type": "stream",
          "text": [
            "0\n"
          ],
          "name": "stdout"
        }
      ]
    },
    {
      "cell_type": "code",
      "metadata": {
        "colab": {
          "base_uri": "https://localhost:8080/"
        },
        "id": "VGe_3QJlnICu",
        "outputId": "dee96629-406e-4ae6-b380-7a0c83ecd82c"
      },
      "source": [
        "path, dirs, files = next(os.walk(\"/content/data/cats\"))\n",
        "file_count = len(files)\n",
        "print(file_count)"
      ],
      "execution_count": 11,
      "outputs": [
        {
          "output_type": "stream",
          "text": [
            "202\n"
          ],
          "name": "stdout"
        }
      ]
    },
    {
      "cell_type": "code",
      "metadata": {
        "colab": {
          "base_uri": "https://localhost:8080/"
        },
        "id": "ryxRMp-3nINZ",
        "outputId": "1f9cc870-6ad0-4125-ca92-0af0285f4584"
      },
      "source": [
        "path, dirs, files = next(os.walk(\"/content/data/dogs\"))\n",
        "file_count = len(files)\n",
        "print(file_count)"
      ],
      "execution_count": 12,
      "outputs": [
        {
          "output_type": "stream",
          "text": [
            "202\n"
          ],
          "name": "stdout"
        }
      ]
    },
    {
      "cell_type": "code",
      "metadata": {
        "colab": {
          "base_uri": "https://localhost:8080/"
        },
        "id": "p68sSe1bnKKl",
        "outputId": "97057b8f-17ef-4189-a620-2e9b2e9811a6"
      },
      "source": [
        "path, dirs, files = next(os.walk(\"/content/data/horses\"))\n",
        "file_count = len(files)\n",
        "print(file_count)"
      ],
      "execution_count": 13,
      "outputs": [
        {
          "output_type": "stream",
          "text": [
            "202\n"
          ],
          "name": "stdout"
        }
      ]
    },
    {
      "cell_type": "code",
      "metadata": {
        "id": "_hJVPerSk1HE"
      },
      "source": [
        "import shutil\n",
        "fnames = ['rider-{}.jpg'.format(i) for i in range(1,151)]\n",
        "for fname in fnames:\n",
        "    src = os.path.join(\"/content/data/Humans\", fname)\n",
        "    dst = os.path.join(train_dir, fname)\n",
        "    #print(src,dst)\n",
        "    shutil.copyfile(src, dst)\n",
        "    \n",
        "fnames = ['rider-{}.jpg'.format(i) for i in range(151, 178)]\n",
        "for fname in fnames:\n",
        "    src = os.path.join(\"/content/data/Humans\", fname)\n",
        "    dst = os.path.join(validation_dir, fname)\n",
        "    shutil.copyfile(src, dst)\n",
        "\n",
        "fnames = ['rider-{}.jpg'.format(i) for i in range(178, 203)]\n",
        "for fname in fnames:\n",
        "    src = os.path.join(\"/content/data/Humans\", fname)\n",
        "    dst = os.path.join(test_dir, fname)\n",
        "    shutil.copyfile(src, dst)\n",
        "    \n",
        "\n",
        "\n",
        "fnames = ['cat.{}.jpg'.format(i) for i in range(1,151)]\n",
        "for fname in fnames:\n",
        "    src = os.path.join(\"/content/data/cats\", fname)\n",
        "    dst = os.path.join(train_dir, fname)\n",
        "    #print(src,dst)\n",
        "    shutil.copyfile(src, dst)\n",
        "    \n",
        "fnames = ['cat.{}.jpg'.format(i) for i in range(151, 178)]\n",
        "for fname in fnames:\n",
        "    src = os.path.join(\"/content/data/cats\", fname)\n",
        "    dst = os.path.join(validation_dir, fname)\n",
        "    shutil.copyfile(src, dst)\n",
        "\n",
        "fnames = ['cat.{}.jpg'.format(i) for i in range(178, 203)]\n",
        "for fname in fnames:\n",
        "    src = os.path.join(\"/content/data/cats\", fname)\n",
        "    dst = os.path.join(test_dir, fname)\n",
        "    shutil.copyfile(src, dst)\n",
        "\n",
        "\n",
        "\n",
        "fnames = ['dog.{}.jpg'.format(i) for i in range(1,151)]\n",
        "for fname in fnames:\n",
        "    src = os.path.join(\"/content/data/dogs\", fname)\n",
        "    dst = os.path.join(train_dir, fname)\n",
        "    #print(src,dst)\n",
        "    shutil.copyfile(src, dst)\n",
        "    \n",
        "fnames = ['dog.{}.jpg'.format(i) for i in range(151, 178)]\n",
        "for fname in fnames:\n",
        "    src = os.path.join(\"/content/data/dogs\", fname)\n",
        "    dst = os.path.join(validation_dir, fname)\n",
        "    shutil.copyfile(src, dst)\n",
        "\n",
        "fnames = ['dog.{}.jpg'.format(i) for i in range(178, 203)]\n",
        "for fname in fnames:\n",
        "    src = os.path.join(\"/content/data/dogs\", fname)\n",
        "    dst = os.path.join(test_dir, fname)\n",
        "    shutil.copyfile(src, dst)\n",
        "\n",
        "\n",
        "fnames = ['horse-{}.jpg'.format(i) for i in range(1,151)]\n",
        "for fname in fnames:\n",
        "    src = os.path.join(\"/content/data/horses\", fname)\n",
        "    dst = os.path.join(train_dir, fname)\n",
        "    #print(src,dst)\n",
        "    shutil.copyfile(src, dst)\n",
        "    \n",
        "fnames = ['horse-{}.jpg'.format(i) for i in range(151, 178)]\n",
        "for fname in fnames:\n",
        "    src = os.path.join(\"/content/data/horses\", fname)\n",
        "    dst = os.path.join(validation_dir, fname)\n",
        "    shutil.copyfile(src, dst)\n",
        "\n",
        "fnames = ['horse-{}.jpg'.format(i) for i in range(178, 203)]\n",
        "for fname in fnames:\n",
        "    src = os.path.join(\"/content/data/horses\", fname)\n",
        "    dst = os.path.join(test_dir, fname)\n",
        "    shutil.copyfile(src, dst)\n",
        "    \n",
        "       "
      ],
      "execution_count": 14,
      "outputs": []
    },
    {
      "cell_type": "code",
      "metadata": {
        "id": "ZwF3Yrfrk7Qg"
      },
      "source": [
        "import cv2\n",
        "import re\n",
        "import numpy as np\n",
        "from random import shuffle\n",
        "\n",
        "IMG_SIZE = 224\n",
        "LR = 1e-4"
      ],
      "execution_count": 15,
      "outputs": []
    },
    {
      "cell_type": "code",
      "metadata": {
        "id": "2Oz3Gi7Ak9j6"
      },
      "source": [
        "def label_img(img):\n",
        "    word_label = re.sub(\"[.-]\",\" \",img).split()[0]\n",
        "    if word_label == 'rider': return 0\n",
        "    elif word_label == 'cat': return 1\n",
        "    elif word_label == 'dog': return 2\n",
        "    elif word_label == 'horse': return 3\n",
        "    return None"
      ],
      "execution_count": 16,
      "outputs": []
    },
    {
      "cell_type": "code",
      "metadata": {
        "id": "Ii4NLDPHlAPd"
      },
      "source": [
        "def createDataSplitSet(datapath):\n",
        "    X=[]\n",
        "    y=[]\n",
        "\n",
        "    for img in os.listdir(datapath):\n",
        "        label = label_img(img)\n",
        "        # print(label)\n",
        "        path = os.path.join(datapath, img)\n",
        "        image = cv2.resize(cv2.imread(path), (IMG_SIZE, IMG_SIZE))\n",
        "        image = cv2.normalize(image, None, alpha=0, beta=1, norm_type=cv2.NORM_MINMAX, dtype=cv2.CV_32F)\n",
        "\n",
        "        X.append(np.array(image))\n",
        "        y.append(label)\n",
        "        \n",
        "    return np.array(X), np.array(y)"
      ],
      "execution_count": 17,
      "outputs": []
    },
    {
      "cell_type": "code",
      "metadata": {
        "id": "-MJ5OCd1lEr2",
        "colab": {
          "base_uri": "https://localhost:8080/"
        },
        "outputId": "6d0e267b-08d4-410f-cea2-557629631789"
      },
      "source": [
        "train_X, train_y = createDataSplitSet(train_dir)\n",
        "val_X, val_y = createDataSplitSet(validation_dir)\n",
        "test_X, test_y = createDataSplitSet(test_dir)\n",
        "print(train_X.shape)\n",
        "print(val_X.shape)\n",
        "print(test_X.shape)"
      ],
      "execution_count": 38,
      "outputs": [
        {
          "output_type": "stream",
          "text": [
            "(600, 224, 224, 3)\n",
            "(108, 224, 224, 3)\n",
            "(100, 224, 224, 3)\n"
          ],
          "name": "stdout"
        }
      ]
    },
    {
      "cell_type": "code",
      "metadata": {
        "id": "xFvthzVvlV6R"
      },
      "source": [
        "## VGG19\n",
        "\n",
        "from tensorflow.keras.applications import VGG19\n",
        "from tensorflow.keras.layers import Dense, Input, Flatten\n",
        "from tensorflow.keras import Model\n",
        "import tensorflow as tf\n",
        "\n",
        "img_input = Input(shape=(IMG_SIZE, IMG_SIZE, 3))"
      ],
      "execution_count": 39,
      "outputs": []
    },
    {
      "cell_type": "code",
      "metadata": {
        "colab": {
          "base_uri": "https://localhost:8080/"
        },
        "id": "dmWnJbUQHkX8",
        "outputId": "5cb5751c-df37-4f6e-a7b7-2a587b6a8d01"
      },
      "source": [
        "img_input"
      ],
      "execution_count": 40,
      "outputs": [
        {
          "output_type": "execute_result",
          "data": {
            "text/plain": [
              "<KerasTensor: shape=(None, 224, 224, 3) dtype=float32 (created by layer 'input_6')>"
            ]
          },
          "metadata": {
            "tags": []
          },
          "execution_count": 40
        }
      ]
    },
    {
      "cell_type": "code",
      "metadata": {
        "id": "JEbja_bDlZV_",
        "colab": {
          "base_uri": "https://localhost:8080/"
        },
        "outputId": "0049b5a5-d0cf-4a53-cc70-0d868418ce64"
      },
      "source": [
        "model = VGG19(\n",
        "    include_top=True,\n",
        "    weights=\"imagenet\",\n",
        "    input_tensor=img_input,\n",
        "    input_shape=None,\n",
        "    pooling=None,\n",
        "    classes=1000,\n",
        "    classifier_activation=\"softmax\",\n",
        ")\n",
        "model.summary()"
      ],
      "execution_count": 41,
      "outputs": [
        {
          "output_type": "stream",
          "text": [
            "Model: \"vgg19\"\n",
            "_________________________________________________________________\n",
            "Layer (type)                 Output Shape              Param #   \n",
            "=================================================================\n",
            "input_6 (InputLayer)         [(None, 224, 224, 3)]     0         \n",
            "_________________________________________________________________\n",
            "block1_conv1 (Conv2D)        (None, 224, 224, 64)      1792      \n",
            "_________________________________________________________________\n",
            "block1_conv2 (Conv2D)        (None, 224, 224, 64)      36928     \n",
            "_________________________________________________________________\n",
            "block1_pool (MaxPooling2D)   (None, 112, 112, 64)      0         \n",
            "_________________________________________________________________\n",
            "block2_conv1 (Conv2D)        (None, 112, 112, 128)     73856     \n",
            "_________________________________________________________________\n",
            "block2_conv2 (Conv2D)        (None, 112, 112, 128)     147584    \n",
            "_________________________________________________________________\n",
            "block2_pool (MaxPooling2D)   (None, 56, 56, 128)       0         \n",
            "_________________________________________________________________\n",
            "block3_conv1 (Conv2D)        (None, 56, 56, 256)       295168    \n",
            "_________________________________________________________________\n",
            "block3_conv2 (Conv2D)        (None, 56, 56, 256)       590080    \n",
            "_________________________________________________________________\n",
            "block3_conv3 (Conv2D)        (None, 56, 56, 256)       590080    \n",
            "_________________________________________________________________\n",
            "block3_conv4 (Conv2D)        (None, 56, 56, 256)       590080    \n",
            "_________________________________________________________________\n",
            "block3_pool (MaxPooling2D)   (None, 28, 28, 256)       0         \n",
            "_________________________________________________________________\n",
            "block4_conv1 (Conv2D)        (None, 28, 28, 512)       1180160   \n",
            "_________________________________________________________________\n",
            "block4_conv2 (Conv2D)        (None, 28, 28, 512)       2359808   \n",
            "_________________________________________________________________\n",
            "block4_conv3 (Conv2D)        (None, 28, 28, 512)       2359808   \n",
            "_________________________________________________________________\n",
            "block4_conv4 (Conv2D)        (None, 28, 28, 512)       2359808   \n",
            "_________________________________________________________________\n",
            "block4_pool (MaxPooling2D)   (None, 14, 14, 512)       0         \n",
            "_________________________________________________________________\n",
            "block5_conv1 (Conv2D)        (None, 14, 14, 512)       2359808   \n",
            "_________________________________________________________________\n",
            "block5_conv2 (Conv2D)        (None, 14, 14, 512)       2359808   \n",
            "_________________________________________________________________\n",
            "block5_conv3 (Conv2D)        (None, 14, 14, 512)       2359808   \n",
            "_________________________________________________________________\n",
            "block5_conv4 (Conv2D)        (None, 14, 14, 512)       2359808   \n",
            "_________________________________________________________________\n",
            "block5_pool (MaxPooling2D)   (None, 7, 7, 512)         0         \n",
            "_________________________________________________________________\n",
            "flatten (Flatten)            (None, 25088)             0         \n",
            "_________________________________________________________________\n",
            "fc1 (Dense)                  (None, 4096)              102764544 \n",
            "_________________________________________________________________\n",
            "fc2 (Dense)                  (None, 4096)              16781312  \n",
            "_________________________________________________________________\n",
            "predictions (Dense)          (None, 1000)              4097000   \n",
            "=================================================================\n",
            "Total params: 143,667,240\n",
            "Trainable params: 143,667,240\n",
            "Non-trainable params: 0\n",
            "_________________________________________________________________\n"
          ],
          "name": "stdout"
        }
      ]
    },
    {
      "cell_type": "code",
      "metadata": {
        "id": "YMYoaUAblcy8",
        "colab": {
          "base_uri": "https://localhost:8080/"
        },
        "outputId": "f6004b6c-3a41-4a9e-991e-998df9e1fc7f"
      },
      "source": [
        "last_layer = model.get_layer('block5_pool').output\n",
        "x= Flatten(name='flatten')(last_layer)\n",
        "x = Dense(128, activation='relu', name='fc1')(x)\n",
        "x = Dense(64, activation='relu', name='fc2')(x)\n",
        "out = Dense(4, activation='softmax', name='predictions')(x)  ## 4 classes\n",
        "model = Model(img_input, out)\n",
        "\n",
        "for layer in model.layers[:-3]:\n",
        "\tlayer.trainable = False\n",
        "\n",
        "model.summary()"
      ],
      "execution_count": 42,
      "outputs": [
        {
          "output_type": "stream",
          "text": [
            "Model: \"model_2\"\n",
            "_________________________________________________________________\n",
            "Layer (type)                 Output Shape              Param #   \n",
            "=================================================================\n",
            "input_6 (InputLayer)         [(None, 224, 224, 3)]     0         \n",
            "_________________________________________________________________\n",
            "block1_conv1 (Conv2D)        (None, 224, 224, 64)      1792      \n",
            "_________________________________________________________________\n",
            "block1_conv2 (Conv2D)        (None, 224, 224, 64)      36928     \n",
            "_________________________________________________________________\n",
            "block1_pool (MaxPooling2D)   (None, 112, 112, 64)      0         \n",
            "_________________________________________________________________\n",
            "block2_conv1 (Conv2D)        (None, 112, 112, 128)     73856     \n",
            "_________________________________________________________________\n",
            "block2_conv2 (Conv2D)        (None, 112, 112, 128)     147584    \n",
            "_________________________________________________________________\n",
            "block2_pool (MaxPooling2D)   (None, 56, 56, 128)       0         \n",
            "_________________________________________________________________\n",
            "block3_conv1 (Conv2D)        (None, 56, 56, 256)       295168    \n",
            "_________________________________________________________________\n",
            "block3_conv2 (Conv2D)        (None, 56, 56, 256)       590080    \n",
            "_________________________________________________________________\n",
            "block3_conv3 (Conv2D)        (None, 56, 56, 256)       590080    \n",
            "_________________________________________________________________\n",
            "block3_conv4 (Conv2D)        (None, 56, 56, 256)       590080    \n",
            "_________________________________________________________________\n",
            "block3_pool (MaxPooling2D)   (None, 28, 28, 256)       0         \n",
            "_________________________________________________________________\n",
            "block4_conv1 (Conv2D)        (None, 28, 28, 512)       1180160   \n",
            "_________________________________________________________________\n",
            "block4_conv2 (Conv2D)        (None, 28, 28, 512)       2359808   \n",
            "_________________________________________________________________\n",
            "block4_conv3 (Conv2D)        (None, 28, 28, 512)       2359808   \n",
            "_________________________________________________________________\n",
            "block4_conv4 (Conv2D)        (None, 28, 28, 512)       2359808   \n",
            "_________________________________________________________________\n",
            "block4_pool (MaxPooling2D)   (None, 14, 14, 512)       0         \n",
            "_________________________________________________________________\n",
            "block5_conv1 (Conv2D)        (None, 14, 14, 512)       2359808   \n",
            "_________________________________________________________________\n",
            "block5_conv2 (Conv2D)        (None, 14, 14, 512)       2359808   \n",
            "_________________________________________________________________\n",
            "block5_conv3 (Conv2D)        (None, 14, 14, 512)       2359808   \n",
            "_________________________________________________________________\n",
            "block5_conv4 (Conv2D)        (None, 14, 14, 512)       2359808   \n",
            "_________________________________________________________________\n",
            "block5_pool (MaxPooling2D)   (None, 7, 7, 512)         0         \n",
            "_________________________________________________________________\n",
            "flatten (Flatten)            (None, 25088)             0         \n",
            "_________________________________________________________________\n",
            "fc1 (Dense)                  (None, 128)               3211392   \n",
            "_________________________________________________________________\n",
            "fc2 (Dense)                  (None, 64)                8256      \n",
            "_________________________________________________________________\n",
            "predictions (Dense)          (None, 4)                 260       \n",
            "=================================================================\n",
            "Total params: 23,244,292\n",
            "Trainable params: 3,219,908\n",
            "Non-trainable params: 20,024,384\n",
            "_________________________________________________________________\n"
          ],
          "name": "stdout"
        }
      ]
    },
    {
      "cell_type": "code",
      "metadata": {
        "id": "1Do4O0URlfnu"
      },
      "source": [
        "model.compile(loss=tf.keras.losses.SparseCategoricalCrossentropy(from_logits=True),\n",
        "              optimizer='adam',\n",
        "              metrics=['acc'])"
      ],
      "execution_count": 43,
      "outputs": []
    },
    {
      "cell_type": "code",
      "metadata": {
        "id": "ilCwNb0zlh8d"
      },
      "source": [
        "from tensorflow.keras.callbacks import EarlyStopping, ModelCheckpoint\n",
        "my_callbacks = [\n",
        "    EarlyStopping(monitor=\"val_loss\", patience=5, restore_best_weights=True),\n",
        "    ModelCheckpoint(filepath='vgg16_model.h5', save_best_only=True),\n",
        "]"
      ],
      "execution_count": 44,
      "outputs": []
    },
    {
      "cell_type": "code",
      "metadata": {
        "id": "Cxewx5Ellkmf",
        "colab": {
          "base_uri": "https://localhost:8080/"
        },
        "outputId": "3dfbf05d-3990-4b43-97b4-2626be255d44"
      },
      "source": [
        "history = model.fit(train_X, train_y,\n",
        "                              batch_size=10,\n",
        "                              epochs=20, \n",
        "                              validation_data=(val_X, val_y),\n",
        "                              callbacks=my_callbacks)"
      ],
      "execution_count": 45,
      "outputs": [
        {
          "output_type": "stream",
          "text": [
            "Epoch 1/20\n",
            "60/60 [==============================] - 5s 78ms/step - loss: 1.2518 - acc: 0.5050 - val_loss: 0.5531 - val_acc: 0.7593\n",
            "Epoch 2/20\n",
            "60/60 [==============================] - 4s 73ms/step - loss: 0.1194 - acc: 0.9599 - val_loss: 0.5273 - val_acc: 0.8426\n",
            "Epoch 3/20\n",
            "60/60 [==============================] - 4s 74ms/step - loss: 0.0389 - acc: 0.9967 - val_loss: 0.3972 - val_acc: 0.8426\n",
            "Epoch 4/20\n",
            "60/60 [==============================] - 4s 75ms/step - loss: 0.0811 - acc: 0.9743 - val_loss: 0.4379 - val_acc: 0.8426\n",
            "Epoch 5/20\n",
            "60/60 [==============================] - 4s 75ms/step - loss: 0.0169 - acc: 1.0000 - val_loss: 0.3949 - val_acc: 0.8519\n",
            "Epoch 6/20\n",
            "60/60 [==============================] - 4s 75ms/step - loss: 0.0028 - acc: 1.0000 - val_loss: 0.4014 - val_acc: 0.8704\n",
            "Epoch 7/20\n",
            "60/60 [==============================] - 4s 75ms/step - loss: 0.0022 - acc: 1.0000 - val_loss: 0.3853 - val_acc: 0.8796\n",
            "Epoch 8/20\n",
            "60/60 [==============================] - 5s 76ms/step - loss: 0.0017 - acc: 1.0000 - val_loss: 0.4028 - val_acc: 0.8611\n",
            "Epoch 9/20\n",
            "60/60 [==============================] - 5s 76ms/step - loss: 0.0015 - acc: 1.0000 - val_loss: 0.4023 - val_acc: 0.8796\n",
            "Epoch 10/20\n",
            "60/60 [==============================] - 5s 76ms/step - loss: 0.0010 - acc: 1.0000 - val_loss: 0.4165 - val_acc: 0.8704\n",
            "Epoch 11/20\n",
            "60/60 [==============================] - 5s 77ms/step - loss: 9.5221e-04 - acc: 1.0000 - val_loss: 0.4240 - val_acc: 0.8704\n",
            "Epoch 12/20\n",
            "60/60 [==============================] - 5s 77ms/step - loss: 8.1309e-04 - acc: 1.0000 - val_loss: 0.4242 - val_acc: 0.8796\n"
          ],
          "name": "stdout"
        }
      ]
    },
    {
      "cell_type": "code",
      "metadata": {
        "id": "4JcXk4UPloXB",
        "colab": {
          "base_uri": "https://localhost:8080/",
          "height": 545
        },
        "outputId": "a2294f86-fa2d-4615-882f-fcfd89198c6a"
      },
      "source": [
        "import matplotlib.pyplot as plt\n",
        "\n",
        "acc = history.history['acc']\n",
        "val_acc = history.history['val_acc']\n",
        "loss = history.history['loss']\n",
        "val_loss = history.history['val_loss']\n",
        "\n",
        "epochs = range(1, len(acc) + 1)\n",
        "\n",
        "plt.plot(epochs, acc, 'bo', label='Training acc')\n",
        "plt.plot(epochs, val_acc, 'b', label='Validation acc')\n",
        "plt.title('Training and validation accuracy')\n",
        "plt.legend()\n",
        "\n",
        "plt.figure()\n",
        "\n",
        "plt.plot(epochs, loss, 'bo', label='Training loss')\n",
        "plt.plot(epochs, val_loss, 'b', label='Validation loss')\n",
        "plt.title('Training and validation loss')\n",
        "plt.legend()\n",
        "\n",
        "plt.show()"
      ],
      "execution_count": 46,
      "outputs": [
        {
          "output_type": "display_data",
          "data": {
            "image/png": "[encoded data removed]",
            "text/plain": [
              "<Figure size 432x288 with 1 Axes>"
            ]
          },
          "metadata": {
            "tags": [],
            "needs_background": "light"
          }
        },
        {
          "output_type": "display_data",
          "data": {
            "image/png": "[encoded data removed]",
            "text/plain": [
              "<Figure size 432x288 with 1 Axes>"
            ]
          },
          "metadata": {
            "tags": [],
            "needs_background": "light"
          }
        }
      ]
    },
    {
      "cell_type": "code",
      "metadata": {
        "id": "CRp8QkWslqoM",
        "colab": {
          "base_uri": "https://localhost:8080/"
        },
        "outputId": "99a5d722-c4ea-46f9-d820-caa4e98b8257"
      },
      "source": [
        "from sklearn.metrics import accuracy_score\n",
        "\n",
        "## Test Accuracy\n",
        "predictions = model.predict(test_X)\n",
        "output = { 0:'rider',1:'cat',2:'dog',3:'horse'}\n",
        "\n",
        "predictions = [output[np.argmax(pred)] for pred in predictions]\n",
        "test_y=[output[y] for y in test_y]\n",
        "\n",
        "test_acc = accuracy_score(test_y, predictions)\n",
        "\n",
        "from sklearn.metrics import precision_recall_fscore_support, roc_auc_score\n",
        "\n",
        "precision, recall, f1score, _ = precision_recall_fscore_support(test_y, predictions, average='macro')\n",
        "\n",
        "# auc = roc_auc_score(test_y, predictions,)\n",
        "print(\"Train Accuracy:\\t\", acc[-1])\n",
        "print(\"Val Accuracy:\\t\", val_acc[-1])\n",
        "print(\"Test Accuracy:\\t\", test_acc)\n",
        "print(\"Precision:\\t\", precision)\n",
        "print(\"Recall:\\t\\t\", recall)\n",
        "print(\"F1 Score:\\t\", f1score)\n",
        "# print(\"AUC:\\t\\t\", auc)"
      ],
      "execution_count": 47,
      "outputs": [
        {
          "output_type": "stream",
          "text": [
            "Train Accuracy:\t 1.0\n",
            "Val Accuracy:\t 0.8796296119689941\n",
            "Test Accuracy:\t 0.92\n",
            "Precision:\t 0.9215263902763903\n",
            "Recall:\t\t 0.9199999999999999\n",
            "F1 Score:\t 0.9189729685531378\n"
          ],
          "name": "stdout"
        }
      ]
    }
  ]
}